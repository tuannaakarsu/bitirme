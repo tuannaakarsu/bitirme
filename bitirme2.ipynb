{
 "cells": [
  {
   "cell_type": "code",
   "execution_count": 3,
   "id": "initial_id",
   "metadata": {
    "ExecuteTime": {
     "end_time": "2025-05-24T22:35:34.482357Z",
     "start_time": "2025-05-24T22:35:34.462413Z"
    },
    "collapsed": true
   },
   "outputs": [],
   "source": [
    "import os\n",
    "import numpy as np\n",
    "import torch.optim as optim\n",
    "import pandas as pd\n",
    "import matplotlib.pyplot as plt\n",
    "from sympy.codegen.cfunctions import log10\n",
    "from torch.utils.data import Dataset, DataLoader, random_split\n",
    "import torch.nn as nn\n",
    "from torchvision import transforms\n",
    "from tqdm import tqdm\n",
    "from PIL import Image\n",
    "import time\n",
    "from sklearn.metrics import accuracy_score\n",
    "import albumentations as A\n",
    "from albumentations.pytorch import ToTensorV2\n",
    "import torch.nn.functional as F\n",
    "import torchvision.transforms.functional as TF"
   ]
  },
  {
   "cell_type": "code",
   "execution_count": 4,
   "id": "7f8ecaf624ffce8b",
   "metadata": {
    "ExecuteTime": {
     "end_time": "2025-05-24T22:35:37.502364Z",
     "start_time": "2025-05-24T22:35:37.487062Z"
    }
   },
   "outputs": [],
   "source": [
    "import torch\n",
    "\n",
    "torch.cuda.empty_cache()\n"
   ]
  },
  {
   "cell_type": "code",
   "execution_count": 5,
   "id": "f4df20f9a3ea5aab",
   "metadata": {
    "ExecuteTime": {
     "end_time": "2025-05-24T22:35:40.615041Z",
     "start_time": "2025-05-24T22:35:38.742192Z"
    }
   },
   "outputs": [
    {
     "name": "stdout",
     "output_type": "stream",
     "text": [
      "11.8\n",
      "90100\n",
      "True\n"
     ]
    }
   ],
   "source": [
    "import torch\n",
    "print(torch.version.cuda)\n",
    "print(torch.backends.cudnn.version())\n",
    "print(torch.cuda.is_available())"
   ]
  },
  {
   "cell_type": "code",
   "execution_count": 6,
   "id": "ead36f1ab26fa912",
   "metadata": {
    "ExecuteTime": {
     "end_time": "2025-05-24T21:51:20.548742Z",
     "start_time": "2025-05-24T21:51:20.516945Z"
    }
   },
   "outputs": [
    {
     "name": "stdout",
     "output_type": "stream",
     "text": [
      "GPU kullanılabilir. Cihaz: NVIDIA GeForce GTX 1650 Ti\n"
     ]
    }
   ],
   "source": [
    "if torch.cuda.is_available():\n",
    "    print(f\"GPU kullanılabilir. Cihaz: {torch.cuda.get_device_name(0)}\")\n",
    "else:\n",
    "    print(\"GPU kullanılabilir değil, CPU kullanılacak.\")"
   ]
  },
  {
   "cell_type": "code",
   "execution_count": 6,
   "id": "40778b190222a434",
   "metadata": {
    "ExecuteTime": {
     "end_time": "2025-05-24T22:35:42.977803Z",
     "start_time": "2025-05-24T22:35:42.932229Z"
    }
   },
   "outputs": [
    {
     "name": "stdout",
     "output_type": "stream",
     "text": [
      "kıyafet\\labels.csv\n",
      "kıyafet\\IMAGES\\img_0001.png\n",
      "kıyafet\\IMAGES\\img_0002.png\n",
      "kıyafet\\IMAGES\\img_0003.png\n",
      "kıyafet\\IMAGES\\img_0004.png\n",
      "kıyafet\\IMAGES\\img_0005.png\n",
      "kıyafet\\IMAGES\\img_0006.png\n",
      "kıyafet\\IMAGES\\img_0007.png\n",
      "kıyafet\\IMAGES\\img_0008.png\n",
      "kıyafet\\IMAGES\\img_0009.png\n",
      "kıyafet\\IMAGES\\img_0010.png\n",
      "kıyafet\\IMAGES\\img_0011.png\n",
      "kıyafet\\IMAGES\\img_0012.png\n",
      "kıyafet\\IMAGES\\img_0013.png\n",
      "kıyafet\\IMAGES\\img_0014.png\n",
      "kıyafet\\IMAGES\\img_0015.png\n",
      "kıyafet\\IMAGES\\img_0016.png\n",
      "kıyafet\\IMAGES\\img_0017.png\n",
      "kıyafet\\IMAGES\\img_0018.png\n",
      "kıyafet\\IMAGES\\img_0019.png\n",
      "kıyafet\\IMAGES\\img_0020.png\n",
      "kıyafet\\IMAGES\\img_0021.png\n",
      "kıyafet\\IMAGES\\img_0022.png\n",
      "kıyafet\\IMAGES\\img_0023.png\n",
      "kıyafet\\IMAGES\\img_0024.png\n",
      "kıyafet\\IMAGES\\img_0025.png\n",
      "kıyafet\\IMAGES\\img_0026.png\n",
      "kıyafet\\IMAGES\\img_0027.png\n",
      "kıyafet\\IMAGES\\img_0028.png\n",
      "kıyafet\\IMAGES\\img_0029.png\n",
      "kıyafet\\IMAGES\\img_0030.png\n",
      "kıyafet\\IMAGES\\img_0031.png\n",
      "kıyafet\\IMAGES\\img_0032.png\n",
      "kıyafet\\IMAGES\\img_0034.png\n",
      "kıyafet\\IMAGES\\img_0035.png\n",
      "kıyafet\\IMAGES\\img_0036.png\n",
      "kıyafet\\IMAGES\\img_0037.png\n",
      "kıyafet\\IMAGES\\img_0038.png\n",
      "kıyafet\\IMAGES\\img_0039.png\n",
      "kıyafet\\IMAGES\\img_0040.png\n",
      "kıyafet\\IMAGES\\img_0041.png\n",
      "kıyafet\\IMAGES\\img_0042.png\n",
      "kıyafet\\IMAGES\\img_0043.png\n",
      "kıyafet\\IMAGES\\img_0044.png\n",
      "kıyafet\\IMAGES\\img_0045.png\n",
      "kıyafet\\IMAGES\\img_0046.png\n",
      "kıyafet\\IMAGES\\img_0047.png\n",
      "kıyafet\\IMAGES\\img_0048.png\n",
      "kıyafet\\IMAGES\\img_0049.png\n",
      "kıyafet\\IMAGES\\img_0050.png\n",
      "kıyafet\\IMAGES\\img_0051.png\n",
      "kıyafet\\IMAGES\\img_0052.png\n",
      "kıyafet\\IMAGES\\img_0053.png\n",
      "kıyafet\\IMAGES\\img_0054.png\n",
      "kıyafet\\IMAGES\\img_0055.png\n",
      "kıyafet\\IMAGES\\img_0056.png\n",
      "kıyafet\\IMAGES\\img_0057.png\n",
      "kıyafet\\IMAGES\\img_0058.png\n",
      "kıyafet\\IMAGES\\img_0059.png\n",
      "kıyafet\\IMAGES\\img_0060.png\n",
      "kıyafet\\IMAGES\\img_0061.png\n",
      "kıyafet\\IMAGES\\img_0062.png\n",
      "kıyafet\\IMAGES\\img_0063.png\n",
      "kıyafet\\IMAGES\\img_0064.png\n",
      "kıyafet\\IMAGES\\img_0065.png\n",
      "kıyafet\\IMAGES\\img_0066.png\n",
      "kıyafet\\IMAGES\\img_0067.png\n",
      "kıyafet\\IMAGES\\img_0068.png\n",
      "kıyafet\\IMAGES\\img_0069.png\n",
      "kıyafet\\IMAGES\\img_0070.png\n",
      "kıyafet\\IMAGES\\img_0071.png\n",
      "kıyafet\\IMAGES\\img_0072.png\n",
      "kıyafet\\IMAGES\\img_0073.png\n",
      "kıyafet\\IMAGES\\img_0074.png\n",
      "kıyafet\\IMAGES\\img_0075.png\n",
      "kıyafet\\IMAGES\\img_0076.png\n",
      "kıyafet\\IMAGES\\img_0077.png\n",
      "kıyafet\\IMAGES\\img_0078.png\n",
      "kıyafet\\IMAGES\\img_0079.png\n",
      "kıyafet\\IMAGES\\img_0080.png\n",
      "kıyafet\\IMAGES\\img_0081.png\n",
      "kıyafet\\IMAGES\\img_0082.png\n",
      "kıyafet\\IMAGES\\img_0083.png\n",
      "kıyafet\\IMAGES\\img_0084.png\n",
      "kıyafet\\IMAGES\\img_0085.png\n",
      "kıyafet\\IMAGES\\img_0086.png\n",
      "kıyafet\\IMAGES\\img_0087.png\n",
      "kıyafet\\IMAGES\\img_0088.png\n",
      "kıyafet\\IMAGES\\img_0089.png\n",
      "kıyafet\\IMAGES\\img_0090.png\n",
      "kıyafet\\IMAGES\\img_0091.png\n",
      "kıyafet\\IMAGES\\img_0092.png\n",
      "kıyafet\\IMAGES\\img_0093.png\n",
      "kıyafet\\IMAGES\\img_0094.png\n",
      "kıyafet\\IMAGES\\img_0095.png\n",
      "kıyafet\\IMAGES\\img_0096.png\n",
      "kıyafet\\IMAGES\\img_0097.png\n",
      "kıyafet\\IMAGES\\img_0098.png\n",
      "kıyafet\\IMAGES\\img_0099.png\n",
      "kıyafet\\IMAGES\\img_0100.png\n",
      "kıyafet\\IMAGES\\img_0101.png\n",
      "kıyafet\\IMAGES\\img_0102.png\n",
      "kıyafet\\IMAGES\\img_0103.png\n",
      "kıyafet\\IMAGES\\img_0104.png\n",
      "kıyafet\\IMAGES\\img_0105.png\n",
      "kıyafet\\IMAGES\\img_0106.png\n",
      "kıyafet\\IMAGES\\img_0107.png\n",
      "kıyafet\\IMAGES\\img_0108.png\n",
      "kıyafet\\IMAGES\\img_0109.png\n",
      "kıyafet\\IMAGES\\img_0110.png\n",
      "kıyafet\\IMAGES\\img_0111.png\n",
      "kıyafet\\IMAGES\\img_0112.png\n",
      "kıyafet\\IMAGES\\img_0113.png\n",
      "kıyafet\\IMAGES\\img_0114.png\n",
      "kıyafet\\IMAGES\\img_0115.png\n",
      "kıyafet\\IMAGES\\img_0116.png\n",
      "kıyafet\\IMAGES\\img_0117.png\n",
      "kıyafet\\IMAGES\\img_0118.png\n",
      "kıyafet\\IMAGES\\img_0119.png\n",
      "kıyafet\\IMAGES\\img_0120.png\n",
      "kıyafet\\IMAGES\\img_0121.png\n",
      "kıyafet\\IMAGES\\img_0122.png\n",
      "kıyafet\\IMAGES\\img_0123.png\n",
      "kıyafet\\IMAGES\\img_0124.png\n",
      "kıyafet\\IMAGES\\img_0125.png\n",
      "kıyafet\\IMAGES\\img_0126.png\n",
      "kıyafet\\IMAGES\\img_0127.png\n",
      "kıyafet\\IMAGES\\img_0128.png\n",
      "kıyafet\\IMAGES\\img_0129.png\n",
      "kıyafet\\IMAGES\\img_0130.png\n",
      "kıyafet\\IMAGES\\img_0131.png\n",
      "kıyafet\\IMAGES\\img_0132.png\n",
      "kıyafet\\IMAGES\\img_0133.png\n",
      "kıyafet\\IMAGES\\img_0134.png\n",
      "kıyafet\\IMAGES\\img_0135.png\n",
      "kıyafet\\IMAGES\\img_0136.png\n",
      "kıyafet\\IMAGES\\img_0137.png\n",
      "kıyafet\\IMAGES\\img_0138.png\n",
      "kıyafet\\IMAGES\\img_0139.png\n",
      "kıyafet\\IMAGES\\img_0140.png\n",
      "kıyafet\\IMAGES\\img_0141.png\n",
      "kıyafet\\IMAGES\\img_0142.png\n",
      "kıyafet\\IMAGES\\img_0143.png\n",
      "kıyafet\\IMAGES\\img_0144.png\n",
      "kıyafet\\IMAGES\\img_0145.png\n",
      "kıyafet\\IMAGES\\img_0146.png\n",
      "kıyafet\\IMAGES\\img_0147.png\n",
      "kıyafet\\IMAGES\\img_0148.png\n",
      "kıyafet\\IMAGES\\img_0149.png\n",
      "kıyafet\\IMAGES\\img_0150.png\n",
      "kıyafet\\IMAGES\\img_0151.png\n",
      "kıyafet\\IMAGES\\img_0152.png\n",
      "kıyafet\\IMAGES\\img_0153.png\n",
      "kıyafet\\IMAGES\\img_0154.png\n",
      "kıyafet\\IMAGES\\img_0155.png\n",
      "kıyafet\\IMAGES\\img_0156.png\n",
      "kıyafet\\IMAGES\\img_0157.png\n",
      "kıyafet\\IMAGES\\img_0158.png\n",
      "kıyafet\\IMAGES\\img_0159.png\n",
      "kıyafet\\IMAGES\\img_0160.png\n",
      "kıyafet\\IMAGES\\img_0161.png\n",
      "kıyafet\\IMAGES\\img_0162.png\n",
      "kıyafet\\IMAGES\\img_0163.png\n",
      "kıyafet\\IMAGES\\img_0164.png\n",
      "kıyafet\\IMAGES\\img_0165.png\n",
      "kıyafet\\IMAGES\\img_0166.png\n",
      "kıyafet\\IMAGES\\img_0167.png\n",
      "kıyafet\\IMAGES\\img_0168.png\n",
      "kıyafet\\IMAGES\\img_0169.png\n",
      "kıyafet\\IMAGES\\img_0170.png\n",
      "kıyafet\\IMAGES\\img_0171.png\n",
      "kıyafet\\IMAGES\\img_0172.png\n",
      "kıyafet\\IMAGES\\img_0173.png\n",
      "kıyafet\\IMAGES\\img_0174.png\n",
      "kıyafet\\IMAGES\\img_0175.png\n",
      "kıyafet\\IMAGES\\img_0176.png\n",
      "kıyafet\\IMAGES\\img_0177.png\n",
      "kıyafet\\IMAGES\\img_0178.png\n",
      "kıyafet\\IMAGES\\img_0179.png\n",
      "kıyafet\\IMAGES\\img_0180.png\n",
      "kıyafet\\IMAGES\\img_0181.png\n",
      "kıyafet\\IMAGES\\img_0182.png\n",
      "kıyafet\\IMAGES\\img_0183.png\n",
      "kıyafet\\IMAGES\\img_0184.png\n",
      "kıyafet\\IMAGES\\img_0185.png\n",
      "kıyafet\\IMAGES\\img_0186.png\n",
      "kıyafet\\IMAGES\\img_0187.png\n",
      "kıyafet\\IMAGES\\img_0188.png\n",
      "kıyafet\\IMAGES\\img_0189.png\n",
      "kıyafet\\IMAGES\\img_0190.png\n",
      "kıyafet\\IMAGES\\img_0191.png\n",
      "kıyafet\\IMAGES\\img_0192.png\n",
      "kıyafet\\IMAGES\\img_0193.png\n",
      "kıyafet\\IMAGES\\img_0194.png\n",
      "kıyafet\\IMAGES\\img_0195.png\n",
      "kıyafet\\IMAGES\\img_0196.png\n",
      "kıyafet\\IMAGES\\img_0197.png\n",
      "kıyafet\\IMAGES\\img_0198.png\n",
      "kıyafet\\IMAGES\\img_0199.png\n",
      "kıyafet\\IMAGES\\img_0200.png\n",
      "kıyafet\\IMAGES\\img_0201.png\n",
      "kıyafet\\IMAGES\\img_0202.png\n",
      "kıyafet\\IMAGES\\img_0203.png\n",
      "kıyafet\\IMAGES\\img_0204.png\n",
      "kıyafet\\IMAGES\\img_0205.png\n",
      "kıyafet\\IMAGES\\img_0206.png\n",
      "kıyafet\\IMAGES\\img_0207.png\n",
      "kıyafet\\IMAGES\\img_0208.png\n",
      "kıyafet\\IMAGES\\img_0209.png\n",
      "kıyafet\\IMAGES\\img_0210.png\n",
      "kıyafet\\IMAGES\\img_0211.png\n",
      "kıyafet\\IMAGES\\img_0212.png\n",
      "kıyafet\\IMAGES\\img_0213.png\n",
      "kıyafet\\IMAGES\\img_0214.png\n",
      "kıyafet\\IMAGES\\img_0215.png\n",
      "kıyafet\\IMAGES\\img_0216.png\n",
      "kıyafet\\IMAGES\\img_0217.png\n",
      "kıyafet\\IMAGES\\img_0218.png\n",
      "kıyafet\\IMAGES\\img_0219.png\n",
      "kıyafet\\IMAGES\\img_0220.png\n",
      "kıyafet\\IMAGES\\img_0221.png\n",
      "kıyafet\\IMAGES\\img_0222.png\n",
      "kıyafet\\IMAGES\\img_0223.png\n",
      "kıyafet\\IMAGES\\img_0224.png\n",
      "kıyafet\\IMAGES\\img_0225.png\n",
      "kıyafet\\IMAGES\\img_0226.png\n",
      "kıyafet\\IMAGES\\img_0227.png\n",
      "kıyafet\\IMAGES\\img_0228.png\n",
      "kıyafet\\IMAGES\\img_0229.png\n",
      "kıyafet\\IMAGES\\img_0230.png\n",
      "kıyafet\\IMAGES\\img_0231.png\n",
      "kıyafet\\IMAGES\\img_0232.png\n",
      "kıyafet\\IMAGES\\img_0233.png\n",
      "kıyafet\\IMAGES\\img_0234.png\n",
      "kıyafet\\IMAGES\\img_0235.png\n",
      "kıyafet\\IMAGES\\img_0236.png\n",
      "kıyafet\\IMAGES\\img_0237.png\n",
      "kıyafet\\IMAGES\\img_0238.png\n",
      "kıyafet\\IMAGES\\img_0239.png\n",
      "kıyafet\\IMAGES\\img_0240.png\n",
      "kıyafet\\IMAGES\\img_0241.png\n",
      "kıyafet\\IMAGES\\img_0242.png\n",
      "kıyafet\\IMAGES\\img_0243.png\n",
      "kıyafet\\IMAGES\\img_0244.png\n",
      "kıyafet\\IMAGES\\img_0245.png\n",
      "kıyafet\\IMAGES\\img_0246.png\n",
      "kıyafet\\IMAGES\\img_0247.png\n",
      "kıyafet\\IMAGES\\img_0248.png\n",
      "kıyafet\\IMAGES\\img_0249.png\n",
      "kıyafet\\IMAGES\\img_0250.png\n",
      "kıyafet\\IMAGES\\img_0251.png\n",
      "kıyafet\\IMAGES\\img_0252.png\n",
      "kıyafet\\IMAGES\\img_0253.png\n",
      "kıyafet\\IMAGES\\img_0254.png\n",
      "kıyafet\\IMAGES\\img_0255.png\n",
      "kıyafet\\IMAGES\\img_0256.png\n",
      "kıyafet\\IMAGES\\img_0257.png\n",
      "kıyafet\\IMAGES\\img_0258.png\n",
      "kıyafet\\IMAGES\\img_0259.png\n",
      "kıyafet\\IMAGES\\img_0260.png\n",
      "kıyafet\\IMAGES\\img_0261.png\n",
      "kıyafet\\IMAGES\\img_0262.png\n",
      "kıyafet\\IMAGES\\img_0263.png\n",
      "kıyafet\\IMAGES\\img_0264.png\n",
      "kıyafet\\IMAGES\\img_0265.png\n",
      "kıyafet\\IMAGES\\img_0266.png\n",
      "kıyafet\\IMAGES\\img_0267.png\n",
      "kıyafet\\IMAGES\\img_0268.png\n",
      "kıyafet\\IMAGES\\img_0269.png\n",
      "kıyafet\\IMAGES\\img_0270.png\n",
      "kıyafet\\IMAGES\\img_0271.png\n",
      "kıyafet\\IMAGES\\img_0272.png\n",
      "kıyafet\\IMAGES\\img_0273.png\n",
      "kıyafet\\IMAGES\\img_0274.png\n",
      "kıyafet\\IMAGES\\img_0275.png\n",
      "kıyafet\\IMAGES\\img_0276.png\n",
      "kıyafet\\IMAGES\\img_0277.png\n",
      "kıyafet\\IMAGES\\img_0278.png\n",
      "kıyafet\\IMAGES\\img_0279.png\n",
      "kıyafet\\IMAGES\\img_0280.png\n",
      "kıyafet\\IMAGES\\img_0281.png\n",
      "kıyafet\\IMAGES\\img_0282.png\n",
      "kıyafet\\IMAGES\\img_0283.png\n",
      "kıyafet\\IMAGES\\img_0284.png\n",
      "kıyafet\\IMAGES\\img_0285.png\n",
      "kıyafet\\IMAGES\\img_0286.png\n",
      "kıyafet\\IMAGES\\img_0287.png\n",
      "kıyafet\\IMAGES\\img_0288.png\n",
      "kıyafet\\IMAGES\\img_0289.png\n",
      "kıyafet\\IMAGES\\img_0290.png\n",
      "kıyafet\\IMAGES\\img_0291.png\n",
      "kıyafet\\IMAGES\\img_0292.png\n",
      "kıyafet\\IMAGES\\img_0293.png\n",
      "kıyafet\\IMAGES\\img_0294.png\n",
      "kıyafet\\IMAGES\\img_0295.png\n",
      "kıyafet\\IMAGES\\img_0296.png\n",
      "kıyafet\\IMAGES\\img_0297.png\n",
      "kıyafet\\IMAGES\\img_0298.png\n",
      "kıyafet\\IMAGES\\img_0299.png\n",
      "kıyafet\\IMAGES\\img_0300.png\n",
      "kıyafet\\IMAGES\\img_0301.png\n",
      "kıyafet\\IMAGES\\img_0302.png\n",
      "kıyafet\\IMAGES\\img_0303.png\n",
      "kıyafet\\IMAGES\\img_0304.png\n",
      "kıyafet\\IMAGES\\img_0305.png\n",
      "kıyafet\\IMAGES\\img_0306.png\n",
      "kıyafet\\IMAGES\\img_0307.png\n",
      "kıyafet\\IMAGES\\img_0308.png\n",
      "kıyafet\\IMAGES\\img_0309.png\n",
      "kıyafet\\IMAGES\\img_0310.png\n",
      "kıyafet\\IMAGES\\img_0311.png\n",
      "kıyafet\\IMAGES\\img_0312.png\n",
      "kıyafet\\IMAGES\\img_0313.png\n",
      "kıyafet\\IMAGES\\img_0314.png\n",
      "kıyafet\\IMAGES\\img_0315.png\n",
      "kıyafet\\IMAGES\\img_0316.png\n",
      "kıyafet\\IMAGES\\img_0317.png\n",
      "kıyafet\\IMAGES\\img_0318.png\n",
      "kıyafet\\IMAGES\\img_0319.png\n",
      "kıyafet\\IMAGES\\img_0320.png\n",
      "kıyafet\\IMAGES\\img_0321.png\n",
      "kıyafet\\IMAGES\\img_0322.png\n",
      "kıyafet\\IMAGES\\img_0323.png\n",
      "kıyafet\\IMAGES\\img_0324.png\n",
      "kıyafet\\IMAGES\\img_0325.png\n",
      "kıyafet\\IMAGES\\img_0326.png\n",
      "kıyafet\\IMAGES\\img_0327.png\n",
      "kıyafet\\IMAGES\\img_0328.png\n",
      "kıyafet\\IMAGES\\img_0329.png\n",
      "kıyafet\\IMAGES\\img_0330.png\n",
      "kıyafet\\IMAGES\\img_0331.png\n",
      "kıyafet\\IMAGES\\img_0332.png\n",
      "kıyafet\\IMAGES\\img_0333.png\n",
      "kıyafet\\IMAGES\\img_0334.png\n",
      "kıyafet\\IMAGES\\img_0335.png\n",
      "kıyafet\\IMAGES\\img_0336.png\n",
      "kıyafet\\IMAGES\\img_0337.png\n",
      "kıyafet\\IMAGES\\img_0338.png\n",
      "kıyafet\\IMAGES\\img_0339.png\n",
      "kıyafet\\IMAGES\\img_0340.png\n",
      "kıyafet\\IMAGES\\img_0341.png\n",
      "kıyafet\\IMAGES\\img_0342.png\n",
      "kıyafet\\IMAGES\\img_0343.png\n",
      "kıyafet\\IMAGES\\img_0344.png\n",
      "kıyafet\\IMAGES\\img_0345.png\n",
      "kıyafet\\IMAGES\\img_0346.png\n",
      "kıyafet\\IMAGES\\img_0347.png\n",
      "kıyafet\\IMAGES\\img_0348.png\n",
      "kıyafet\\IMAGES\\img_0349.png\n",
      "kıyafet\\IMAGES\\img_0350.png\n",
      "kıyafet\\IMAGES\\img_0351.png\n",
      "kıyafet\\IMAGES\\img_0352.png\n",
      "kıyafet\\IMAGES\\img_0353.png\n",
      "kıyafet\\IMAGES\\img_0354.png\n",
      "kıyafet\\IMAGES\\img_0355.png\n",
      "kıyafet\\IMAGES\\img_0356.png\n",
      "kıyafet\\IMAGES\\img_0357.png\n",
      "kıyafet\\IMAGES\\img_0358.png\n",
      "kıyafet\\IMAGES\\img_0359.png\n",
      "kıyafet\\IMAGES\\img_0360.png\n",
      "kıyafet\\IMAGES\\img_0361.png\n",
      "kıyafet\\IMAGES\\img_0362.png\n",
      "kıyafet\\IMAGES\\img_0363.png\n",
      "kıyafet\\IMAGES\\img_0364.png\n",
      "kıyafet\\IMAGES\\img_0365.png\n",
      "kıyafet\\IMAGES\\img_0366.png\n",
      "kıyafet\\IMAGES\\img_0367.png\n",
      "kıyafet\\IMAGES\\img_0368.png\n",
      "kıyafet\\IMAGES\\img_0369.png\n",
      "kıyafet\\IMAGES\\img_0370.png\n",
      "kıyafet\\IMAGES\\img_0371.png\n",
      "kıyafet\\IMAGES\\img_0372.png\n",
      "kıyafet\\IMAGES\\img_0373.png\n",
      "kıyafet\\IMAGES\\img_0374.png\n",
      "kıyafet\\IMAGES\\img_0375.png\n",
      "kıyafet\\IMAGES\\img_0376.png\n",
      "kıyafet\\IMAGES\\img_0377.png\n",
      "kıyafet\\IMAGES\\img_0378.png\n",
      "kıyafet\\IMAGES\\img_0379.png\n",
      "kıyafet\\IMAGES\\img_0380.png\n",
      "kıyafet\\IMAGES\\img_0381.png\n",
      "kıyafet\\IMAGES\\img_0382.png\n",
      "kıyafet\\IMAGES\\img_0383.png\n",
      "kıyafet\\IMAGES\\img_0384.png\n",
      "kıyafet\\IMAGES\\img_0385.png\n",
      "kıyafet\\IMAGES\\img_0386.png\n",
      "kıyafet\\IMAGES\\img_0387.png\n",
      "kıyafet\\IMAGES\\img_0388.png\n",
      "kıyafet\\IMAGES\\img_0389.png\n",
      "kıyafet\\IMAGES\\img_0390.png\n",
      "kıyafet\\IMAGES\\img_0391.png\n",
      "kıyafet\\IMAGES\\img_0392.png\n",
      "kıyafet\\IMAGES\\img_0393.png\n",
      "kıyafet\\IMAGES\\img_0394.png\n",
      "kıyafet\\IMAGES\\img_0395.png\n",
      "kıyafet\\IMAGES\\img_0396.png\n",
      "kıyafet\\IMAGES\\img_0397.png\n",
      "kıyafet\\IMAGES\\img_0398.png\n",
      "kıyafet\\IMAGES\\img_0399.png\n",
      "kıyafet\\IMAGES\\img_0400.png\n",
      "kıyafet\\IMAGES\\img_0401.png\n",
      "kıyafet\\IMAGES\\img_0402.png\n",
      "kıyafet\\IMAGES\\img_0403.png\n",
      "kıyafet\\IMAGES\\img_0404.png\n",
      "kıyafet\\IMAGES\\img_0405.png\n",
      "kıyafet\\IMAGES\\img_0406.png\n",
      "kıyafet\\IMAGES\\img_0407.png\n",
      "kıyafet\\IMAGES\\img_0408.png\n",
      "kıyafet\\IMAGES\\img_0409.png\n",
      "kıyafet\\IMAGES\\img_0410.png\n",
      "kıyafet\\IMAGES\\img_0411.png\n",
      "kıyafet\\IMAGES\\img_0412.png\n",
      "kıyafet\\IMAGES\\img_0413.png\n",
      "kıyafet\\IMAGES\\img_0414.png\n",
      "kıyafet\\IMAGES\\img_0415.png\n",
      "kıyafet\\IMAGES\\img_0416.png\n",
      "kıyafet\\IMAGES\\img_0417.png\n",
      "kıyafet\\IMAGES\\img_0418.png\n",
      "kıyafet\\IMAGES\\img_0419.png\n",
      "kıyafet\\IMAGES\\img_0420.png\n",
      "kıyafet\\IMAGES\\img_0421.png\n",
      "kıyafet\\IMAGES\\img_0422.png\n",
      "kıyafet\\IMAGES\\img_0423.png\n",
      "kıyafet\\IMAGES\\img_0424.png\n",
      "kıyafet\\IMAGES\\img_0425.png\n",
      "kıyafet\\IMAGES\\img_0426.png\n",
      "kıyafet\\IMAGES\\img_0427.png\n",
      "kıyafet\\IMAGES\\img_0428.png\n",
      "kıyafet\\IMAGES\\img_0429.png\n",
      "kıyafet\\IMAGES\\img_0430.png\n",
      "kıyafet\\IMAGES\\img_0431.png\n",
      "kıyafet\\IMAGES\\img_0432.png\n",
      "kıyafet\\IMAGES\\img_0433.png\n",
      "kıyafet\\IMAGES\\img_0434.png\n",
      "kıyafet\\IMAGES\\img_0435.png\n",
      "kıyafet\\IMAGES\\img_0436.png\n",
      "kıyafet\\IMAGES\\img_0437.png\n",
      "kıyafet\\IMAGES\\img_0438.png\n",
      "kıyafet\\IMAGES\\img_0439.png\n",
      "kıyafet\\IMAGES\\img_0440.png\n",
      "kıyafet\\IMAGES\\img_0441.png\n",
      "kıyafet\\IMAGES\\img_0442.png\n",
      "kıyafet\\IMAGES\\img_0443.png\n",
      "kıyafet\\IMAGES\\img_0444.png\n",
      "kıyafet\\IMAGES\\img_0445.png\n",
      "kıyafet\\IMAGES\\img_0446.png\n",
      "kıyafet\\IMAGES\\img_0447.png\n",
      "kıyafet\\IMAGES\\img_0448.png\n",
      "kıyafet\\IMAGES\\img_0449.png\n",
      "kıyafet\\IMAGES\\img_0450.png\n",
      "kıyafet\\IMAGES\\img_0451.png\n",
      "kıyafet\\IMAGES\\img_0452.png\n",
      "kıyafet\\IMAGES\\img_0453.png\n",
      "kıyafet\\IMAGES\\img_0454.png\n",
      "kıyafet\\IMAGES\\img_0455.png\n",
      "kıyafet\\IMAGES\\img_0456.png\n",
      "kıyafet\\IMAGES\\img_0457.png\n",
      "kıyafet\\IMAGES\\img_0458.png\n",
      "kıyafet\\IMAGES\\img_0459.png\n",
      "kıyafet\\IMAGES\\img_0460.png\n",
      "kıyafet\\IMAGES\\img_0461.png\n",
      "kıyafet\\IMAGES\\img_0462.png\n",
      "kıyafet\\IMAGES\\img_0463.png\n",
      "kıyafet\\IMAGES\\img_0464.png\n",
      "kıyafet\\IMAGES\\img_0465.png\n",
      "kıyafet\\IMAGES\\img_0466.png\n",
      "kıyafet\\IMAGES\\img_0467.png\n",
      "kıyafet\\IMAGES\\img_0468.png\n",
      "kıyafet\\IMAGES\\img_0469.png\n",
      "kıyafet\\IMAGES\\img_0470.png\n",
      "kıyafet\\IMAGES\\img_0471.png\n",
      "kıyafet\\IMAGES\\img_0472.png\n",
      "kıyafet\\IMAGES\\img_0473.png\n",
      "kıyafet\\IMAGES\\img_0474.png\n",
      "kıyafet\\IMAGES\\img_0475.png\n",
      "kıyafet\\IMAGES\\img_0476.png\n",
      "kıyafet\\IMAGES\\img_0477.png\n",
      "kıyafet\\IMAGES\\img_0478.png\n",
      "kıyafet\\IMAGES\\img_0479.png\n",
      "kıyafet\\IMAGES\\img_0480.png\n",
      "kıyafet\\IMAGES\\img_0481.png\n",
      "kıyafet\\IMAGES\\img_0482.png\n",
      "kıyafet\\IMAGES\\img_0483.png\n",
      "kıyafet\\IMAGES\\img_0484.png\n",
      "kıyafet\\IMAGES\\img_0485.png\n",
      "kıyafet\\IMAGES\\img_0486.png\n",
      "kıyafet\\IMAGES\\img_0487.png\n",
      "kıyafet\\IMAGES\\img_0488.png\n",
      "kıyafet\\IMAGES\\img_0489.png\n",
      "kıyafet\\IMAGES\\img_0490.png\n",
      "kıyafet\\IMAGES\\img_0491.png\n",
      "kıyafet\\IMAGES\\img_0492.png\n",
      "kıyafet\\IMAGES\\img_0493.png\n",
      "kıyafet\\IMAGES\\img_0494.png\n",
      "kıyafet\\IMAGES\\img_0495.png\n",
      "kıyafet\\IMAGES\\img_0496.png\n",
      "kıyafet\\IMAGES\\img_0497.png\n",
      "kıyafet\\IMAGES\\img_0498.png\n",
      "kıyafet\\IMAGES\\img_0499.png\n",
      "kıyafet\\IMAGES\\img_0500.png\n",
      "kıyafet\\IMAGES\\img_0501.png\n",
      "kıyafet\\IMAGES\\img_0502.png\n",
      "kıyafet\\IMAGES\\img_0503.png\n",
      "kıyafet\\IMAGES\\img_0504.png\n",
      "kıyafet\\IMAGES\\img_0505.png\n",
      "kıyafet\\IMAGES\\img_0506.png\n",
      "kıyafet\\IMAGES\\img_0507.png\n",
      "kıyafet\\IMAGES\\img_0508.png\n",
      "kıyafet\\IMAGES\\img_0509.png\n",
      "kıyafet\\IMAGES\\img_0510.png\n",
      "kıyafet\\IMAGES\\img_0511.png\n",
      "kıyafet\\IMAGES\\img_0512.png\n",
      "kıyafet\\IMAGES\\img_0513.png\n",
      "kıyafet\\IMAGES\\img_0514.png\n",
      "kıyafet\\IMAGES\\img_0515.png\n",
      "kıyafet\\IMAGES\\img_0516.png\n",
      "kıyafet\\IMAGES\\img_0517.png\n",
      "kıyafet\\IMAGES\\img_0518.png\n",
      "kıyafet\\IMAGES\\img_0519.png\n",
      "kıyafet\\IMAGES\\img_0520.png\n",
      "kıyafet\\IMAGES\\img_0521.png\n",
      "kıyafet\\IMAGES\\img_0522.png\n",
      "kıyafet\\IMAGES\\img_0523.png\n",
      "kıyafet\\IMAGES\\img_0524.png\n",
      "kıyafet\\IMAGES\\img_0525.png\n",
      "kıyafet\\IMAGES\\img_0526.png\n",
      "kıyafet\\IMAGES\\img_0527.png\n",
      "kıyafet\\IMAGES\\img_0528.png\n",
      "kıyafet\\IMAGES\\img_0529.png\n",
      "kıyafet\\IMAGES\\img_0530.png\n",
      "kıyafet\\IMAGES\\img_0531.png\n",
      "kıyafet\\IMAGES\\img_0532.png\n",
      "kıyafet\\IMAGES\\img_0533.png\n",
      "kıyafet\\IMAGES\\img_0534.png\n",
      "kıyafet\\IMAGES\\img_0535.png\n",
      "kıyafet\\IMAGES\\img_0536.png\n",
      "kıyafet\\IMAGES\\img_0537.png\n",
      "kıyafet\\IMAGES\\img_0538.png\n",
      "kıyafet\\IMAGES\\img_0539.png\n",
      "kıyafet\\IMAGES\\img_0540.png\n",
      "kıyafet\\IMAGES\\img_0541.png\n",
      "kıyafet\\IMAGES\\img_0542.png\n",
      "kıyafet\\IMAGES\\img_0543.png\n",
      "kıyafet\\IMAGES\\img_0544.png\n",
      "kıyafet\\IMAGES\\img_0545.png\n",
      "kıyafet\\IMAGES\\img_0546.png\n",
      "kıyafet\\IMAGES\\img_0547.png\n",
      "kıyafet\\IMAGES\\img_0548.png\n",
      "kıyafet\\IMAGES\\img_0549.png\n",
      "kıyafet\\IMAGES\\img_0550.png\n",
      "kıyafet\\IMAGES\\img_0551.png\n",
      "kıyafet\\IMAGES\\img_0552.png\n",
      "kıyafet\\IMAGES\\img_0553.png\n",
      "kıyafet\\IMAGES\\img_0554.png\n",
      "kıyafet\\IMAGES\\img_0555.png\n",
      "kıyafet\\IMAGES\\img_0556.png\n",
      "kıyafet\\IMAGES\\img_0557.png\n",
      "kıyafet\\IMAGES\\img_0558.png\n",
      "kıyafet\\IMAGES\\img_0559.png\n",
      "kıyafet\\IMAGES\\img_0560.png\n",
      "kıyafet\\IMAGES\\img_0561.png\n",
      "kıyafet\\IMAGES\\img_0562.png\n",
      "kıyafet\\IMAGES\\img_0563.png\n",
      "kıyafet\\IMAGES\\img_0564.png\n",
      "kıyafet\\IMAGES\\img_0565.png\n",
      "kıyafet\\IMAGES\\img_0566.png\n",
      "kıyafet\\IMAGES\\img_0567.png\n",
      "kıyafet\\IMAGES\\img_0568.png\n",
      "kıyafet\\IMAGES\\img_0569.png\n",
      "kıyafet\\IMAGES\\img_0570.png\n",
      "kıyafet\\IMAGES\\img_0571.png\n",
      "kıyafet\\IMAGES\\img_0572.png\n",
      "kıyafet\\IMAGES\\img_0573.png\n",
      "kıyafet\\IMAGES\\img_0574.png\n",
      "kıyafet\\IMAGES\\img_0575.png\n",
      "kıyafet\\IMAGES\\img_0576.png\n",
      "kıyafet\\IMAGES\\img_0577.png\n",
      "kıyafet\\IMAGES\\img_0578.png\n",
      "kıyafet\\IMAGES\\img_0579.png\n",
      "kıyafet\\IMAGES\\img_0580.png\n",
      "kıyafet\\IMAGES\\img_0581.png\n",
      "kıyafet\\IMAGES\\img_0582.png\n",
      "kıyafet\\IMAGES\\img_0583.png\n",
      "kıyafet\\IMAGES\\img_0584.png\n",
      "kıyafet\\IMAGES\\img_0585.png\n",
      "kıyafet\\IMAGES\\img_0586.png\n",
      "kıyafet\\IMAGES\\img_0587.png\n",
      "kıyafet\\IMAGES\\img_0588.png\n",
      "kıyafet\\IMAGES\\img_0589.png\n",
      "kıyafet\\IMAGES\\img_0590.png\n",
      "kıyafet\\IMAGES\\img_0591.png\n",
      "kıyafet\\IMAGES\\img_0592.png\n",
      "kıyafet\\IMAGES\\img_0593.png\n",
      "kıyafet\\IMAGES\\img_0594.png\n",
      "kıyafet\\IMAGES\\img_0595.png\n",
      "kıyafet\\IMAGES\\img_0596.png\n",
      "kıyafet\\IMAGES\\img_0597.png\n",
      "kıyafet\\IMAGES\\img_0598.png\n",
      "kıyafet\\IMAGES\\img_0599.png\n",
      "kıyafet\\IMAGES\\img_0600.png\n",
      "kıyafet\\IMAGES\\img_0601.png\n",
      "kıyafet\\IMAGES\\img_0602.png\n",
      "kıyafet\\IMAGES\\img_0603.png\n",
      "kıyafet\\IMAGES\\img_0604.png\n",
      "kıyafet\\IMAGES\\img_0605.png\n",
      "kıyafet\\IMAGES\\img_0606.png\n",
      "kıyafet\\IMAGES\\img_0607.png\n",
      "kıyafet\\IMAGES\\img_0608.png\n",
      "kıyafet\\IMAGES\\img_0609.png\n",
      "kıyafet\\IMAGES\\img_0610.png\n",
      "kıyafet\\IMAGES\\img_0611.png\n",
      "kıyafet\\IMAGES\\img_0612.png\n",
      "kıyafet\\IMAGES\\img_0613.png\n",
      "kıyafet\\IMAGES\\img_0614.png\n",
      "kıyafet\\IMAGES\\img_0615.png\n",
      "kıyafet\\IMAGES\\img_0616.png\n",
      "kıyafet\\IMAGES\\img_0617.png\n",
      "kıyafet\\IMAGES\\img_0618.png\n",
      "kıyafet\\IMAGES\\img_0619.png\n",
      "kıyafet\\IMAGES\\img_0620.png\n",
      "kıyafet\\IMAGES\\img_0621.png\n",
      "kıyafet\\IMAGES\\img_0622.png\n",
      "kıyafet\\IMAGES\\img_0623.png\n",
      "kıyafet\\IMAGES\\img_0624.png\n",
      "kıyafet\\IMAGES\\img_0625.png\n",
      "kıyafet\\IMAGES\\img_0626.png\n",
      "kıyafet\\IMAGES\\img_0627.png\n",
      "kıyafet\\IMAGES\\img_0628.png\n",
      "kıyafet\\IMAGES\\img_0629.png\n",
      "kıyafet\\IMAGES\\img_0630.png\n",
      "kıyafet\\IMAGES\\img_0631.png\n",
      "kıyafet\\IMAGES\\img_0632.png\n",
      "kıyafet\\IMAGES\\img_0633.png\n",
      "kıyafet\\IMAGES\\img_0634.png\n",
      "kıyafet\\IMAGES\\img_0635.png\n",
      "kıyafet\\IMAGES\\img_0636.png\n",
      "kıyafet\\IMAGES\\img_0637.png\n",
      "kıyafet\\IMAGES\\img_0638.png\n",
      "kıyafet\\IMAGES\\img_0639.png\n",
      "kıyafet\\IMAGES\\img_0640.png\n",
      "kıyafet\\IMAGES\\img_0641.png\n",
      "kıyafet\\IMAGES\\img_0642.png\n",
      "kıyafet\\IMAGES\\img_0643.png\n",
      "kıyafet\\IMAGES\\img_0644.png\n",
      "kıyafet\\IMAGES\\img_0645.png\n",
      "kıyafet\\IMAGES\\img_0646.png\n",
      "kıyafet\\IMAGES\\img_0647.png\n",
      "kıyafet\\IMAGES\\img_0648.png\n",
      "kıyafet\\IMAGES\\img_0649.png\n",
      "kıyafet\\IMAGES\\img_0650.png\n",
      "kıyafet\\IMAGES\\img_0651.png\n",
      "kıyafet\\IMAGES\\img_0652.png\n",
      "kıyafet\\IMAGES\\img_0653.png\n",
      "kıyafet\\IMAGES\\img_0654.png\n",
      "kıyafet\\IMAGES\\img_0655.png\n",
      "kıyafet\\IMAGES\\img_0656.png\n",
      "kıyafet\\IMAGES\\img_0657.png\n",
      "kıyafet\\IMAGES\\img_0658.png\n",
      "kıyafet\\IMAGES\\img_0659.png\n",
      "kıyafet\\IMAGES\\img_0660.png\n",
      "kıyafet\\IMAGES\\img_0661.png\n",
      "kıyafet\\IMAGES\\img_0662.png\n",
      "kıyafet\\IMAGES\\img_0663.png\n",
      "kıyafet\\IMAGES\\img_0664.png\n",
      "kıyafet\\IMAGES\\img_0665.png\n",
      "kıyafet\\IMAGES\\img_0666.png\n",
      "kıyafet\\IMAGES\\img_0667.png\n",
      "kıyafet\\IMAGES\\img_0668.png\n",
      "kıyafet\\IMAGES\\img_0669.png\n",
      "kıyafet\\IMAGES\\img_0670.png\n",
      "kıyafet\\IMAGES\\img_0671.png\n",
      "kıyafet\\IMAGES\\img_0672.png\n",
      "kıyafet\\IMAGES\\img_0673.png\n",
      "kıyafet\\IMAGES\\img_0674.png\n",
      "kıyafet\\IMAGES\\img_0675.png\n",
      "kıyafet\\IMAGES\\img_0676.png\n",
      "kıyafet\\IMAGES\\img_0677.png\n",
      "kıyafet\\IMAGES\\img_0678.png\n",
      "kıyafet\\IMAGES\\img_0679.png\n",
      "kıyafet\\IMAGES\\img_0680.png\n",
      "kıyafet\\IMAGES\\img_0681.png\n",
      "kıyafet\\IMAGES\\img_0682.png\n",
      "kıyafet\\IMAGES\\img_0683.png\n",
      "kıyafet\\IMAGES\\img_0684.png\n",
      "kıyafet\\IMAGES\\img_0685.png\n",
      "kıyafet\\IMAGES\\img_0686.png\n",
      "kıyafet\\IMAGES\\img_0687.png\n",
      "kıyafet\\IMAGES\\img_0688.png\n",
      "kıyafet\\IMAGES\\img_0689.png\n",
      "kıyafet\\IMAGES\\img_0690.png\n",
      "kıyafet\\IMAGES\\img_0691.png\n",
      "kıyafet\\IMAGES\\img_0692.png\n",
      "kıyafet\\IMAGES\\img_0693.png\n",
      "kıyafet\\IMAGES\\img_0694.png\n",
      "kıyafet\\IMAGES\\img_0695.png\n",
      "kıyafet\\IMAGES\\img_0696.png\n",
      "kıyafet\\IMAGES\\img_0697.png\n",
      "kıyafet\\IMAGES\\img_0698.png\n",
      "kıyafet\\IMAGES\\img_0699.png\n",
      "kıyafet\\IMAGES\\img_0700.png\n",
      "kıyafet\\IMAGES\\img_0701.png\n",
      "kıyafet\\IMAGES\\img_0702.png\n",
      "kıyafet\\IMAGES\\img_0703.png\n",
      "kıyafet\\IMAGES\\img_0704.png\n",
      "kıyafet\\IMAGES\\img_0705.png\n",
      "kıyafet\\IMAGES\\img_0706.png\n",
      "kıyafet\\IMAGES\\img_0707.png\n",
      "kıyafet\\IMAGES\\img_0708.png\n",
      "kıyafet\\IMAGES\\img_0709.png\n",
      "kıyafet\\IMAGES\\img_0710.png\n",
      "kıyafet\\IMAGES\\img_0711.png\n",
      "kıyafet\\IMAGES\\img_0712.png\n",
      "kıyafet\\IMAGES\\img_0713.png\n",
      "kıyafet\\IMAGES\\img_0714.png\n",
      "kıyafet\\IMAGES\\img_0715.png\n",
      "kıyafet\\IMAGES\\img_0716.png\n",
      "kıyafet\\IMAGES\\img_0717.png\n",
      "kıyafet\\IMAGES\\img_0718.png\n",
      "kıyafet\\IMAGES\\img_0719.png\n",
      "kıyafet\\IMAGES\\img_0720.png\n",
      "kıyafet\\IMAGES\\img_0721.png\n",
      "kıyafet\\IMAGES\\img_0722.png\n",
      "kıyafet\\IMAGES\\img_0723.png\n",
      "kıyafet\\IMAGES\\img_0724.png\n",
      "kıyafet\\IMAGES\\img_0725.png\n",
      "kıyafet\\IMAGES\\img_0726.png\n",
      "kıyafet\\IMAGES\\img_0727.png\n",
      "kıyafet\\IMAGES\\img_0728.png\n",
      "kıyafet\\IMAGES\\img_0729.png\n",
      "kıyafet\\IMAGES\\img_0730.png\n",
      "kıyafet\\IMAGES\\img_0731.png\n",
      "kıyafet\\IMAGES\\img_0732.png\n",
      "kıyafet\\IMAGES\\img_0733.png\n",
      "kıyafet\\IMAGES\\img_0734.png\n",
      "kıyafet\\IMAGES\\img_0735.png\n",
      "kıyafet\\IMAGES\\img_0736.png\n",
      "kıyafet\\IMAGES\\img_0737.png\n",
      "kıyafet\\IMAGES\\img_0738.png\n",
      "kıyafet\\IMAGES\\img_0739.png\n",
      "kıyafet\\IMAGES\\img_0740.png\n",
      "kıyafet\\IMAGES\\img_0741.png\n",
      "kıyafet\\IMAGES\\img_0742.png\n",
      "kıyafet\\IMAGES\\img_0743.png\n",
      "kıyafet\\IMAGES\\img_0744.png\n",
      "kıyafet\\IMAGES\\img_0745.png\n",
      "kıyafet\\IMAGES\\img_0746.png\n",
      "kıyafet\\IMAGES\\img_0747.png\n",
      "kıyafet\\IMAGES\\img_0748.png\n",
      "kıyafet\\IMAGES\\img_0749.png\n",
      "kıyafet\\IMAGES\\img_0750.png\n",
      "kıyafet\\IMAGES\\img_0751.png\n",
      "kıyafet\\IMAGES\\img_0752.png\n",
      "kıyafet\\IMAGES\\img_0753.png\n",
      "kıyafet\\IMAGES\\img_0754.png\n",
      "kıyafet\\IMAGES\\img_0755.png\n",
      "kıyafet\\IMAGES\\img_0756.png\n",
      "kıyafet\\IMAGES\\img_0757.png\n",
      "kıyafet\\IMAGES\\img_0758.png\n",
      "kıyafet\\IMAGES\\img_0759.png\n",
      "kıyafet\\IMAGES\\img_0760.png\n",
      "kıyafet\\IMAGES\\img_0761.png\n",
      "kıyafet\\IMAGES\\img_0762.png\n",
      "kıyafet\\IMAGES\\img_0763.png\n",
      "kıyafet\\IMAGES\\img_0764.png\n",
      "kıyafet\\IMAGES\\img_0765.png\n",
      "kıyafet\\IMAGES\\img_0766.png\n",
      "kıyafet\\IMAGES\\img_0767.png\n",
      "kıyafet\\IMAGES\\img_0768.png\n",
      "kıyafet\\IMAGES\\img_0769.png\n",
      "kıyafet\\IMAGES\\img_0770.png\n",
      "kıyafet\\IMAGES\\img_0771.png\n",
      "kıyafet\\IMAGES\\img_0772.png\n",
      "kıyafet\\IMAGES\\img_0773.png\n",
      "kıyafet\\IMAGES\\img_0774.png\n",
      "kıyafet\\IMAGES\\img_0775.png\n",
      "kıyafet\\IMAGES\\img_0776.png\n",
      "kıyafet\\IMAGES\\img_0777.png\n",
      "kıyafet\\IMAGES\\img_0778.png\n",
      "kıyafet\\IMAGES\\img_0779.png\n",
      "kıyafet\\IMAGES\\img_0780.png\n",
      "kıyafet\\IMAGES\\img_0781.png\n",
      "kıyafet\\IMAGES\\img_0782.png\n",
      "kıyafet\\IMAGES\\img_0783.png\n",
      "kıyafet\\IMAGES\\img_0784.png\n",
      "kıyafet\\IMAGES\\img_0785.png\n",
      "kıyafet\\IMAGES\\img_0786.png\n",
      "kıyafet\\IMAGES\\img_0787.png\n",
      "kıyafet\\IMAGES\\img_0788.png\n",
      "kıyafet\\IMAGES\\img_0789.png\n",
      "kıyafet\\IMAGES\\img_0790.png\n",
      "kıyafet\\IMAGES\\img_0791.png\n",
      "kıyafet\\IMAGES\\img_0792.png\n",
      "kıyafet\\IMAGES\\img_0793.png\n",
      "kıyafet\\IMAGES\\img_0794.png\n",
      "kıyafet\\IMAGES\\img_0795.png\n",
      "kıyafet\\IMAGES\\img_0796.png\n",
      "kıyafet\\IMAGES\\img_0797.png\n",
      "kıyafet\\IMAGES\\img_0798.png\n",
      "kıyafet\\IMAGES\\img_0799.png\n",
      "kıyafet\\IMAGES\\img_0800.png\n",
      "kıyafet\\IMAGES\\img_0801.png\n",
      "kıyafet\\IMAGES\\img_0802.png\n",
      "kıyafet\\IMAGES\\img_0803.png\n",
      "kıyafet\\IMAGES\\img_0804.png\n",
      "kıyafet\\IMAGES\\img_0805.png\n",
      "kıyafet\\IMAGES\\img_0806.png\n",
      "kıyafet\\IMAGES\\img_0807.png\n",
      "kıyafet\\IMAGES\\img_0808.png\n",
      "kıyafet\\IMAGES\\img_0809.png\n",
      "kıyafet\\IMAGES\\img_0810.png\n",
      "kıyafet\\IMAGES\\img_0811.png\n",
      "kıyafet\\IMAGES\\img_0812.png\n",
      "kıyafet\\IMAGES\\img_0813.png\n",
      "kıyafet\\IMAGES\\img_0814.png\n",
      "kıyafet\\IMAGES\\img_0815.png\n",
      "kıyafet\\IMAGES\\img_0816.png\n",
      "kıyafet\\IMAGES\\img_0817.png\n",
      "kıyafet\\IMAGES\\img_0818.png\n",
      "kıyafet\\IMAGES\\img_0819.png\n",
      "kıyafet\\IMAGES\\img_0820.png\n",
      "kıyafet\\IMAGES\\img_0821.png\n",
      "kıyafet\\IMAGES\\img_0822.png\n",
      "kıyafet\\IMAGES\\img_0823.png\n",
      "kıyafet\\IMAGES\\img_0824.png\n",
      "kıyafet\\IMAGES\\img_0825.png\n",
      "kıyafet\\IMAGES\\img_0826.png\n",
      "kıyafet\\IMAGES\\img_0827.png\n",
      "kıyafet\\IMAGES\\img_0828.png\n",
      "kıyafet\\IMAGES\\img_0829.png\n",
      "kıyafet\\IMAGES\\img_0830.png\n",
      "kıyafet\\IMAGES\\img_0831.png\n",
      "kıyafet\\IMAGES\\img_0832.png\n",
      "kıyafet\\IMAGES\\img_0833.png\n",
      "kıyafet\\IMAGES\\img_0834.png\n",
      "kıyafet\\IMAGES\\img_0835.png\n",
      "kıyafet\\IMAGES\\img_0836.png\n",
      "kıyafet\\IMAGES\\img_0837.png\n",
      "kıyafet\\IMAGES\\img_0838.png\n",
      "kıyafet\\IMAGES\\img_0839.png\n",
      "kıyafet\\IMAGES\\img_0840.png\n",
      "kıyafet\\IMAGES\\img_0841.png\n",
      "kıyafet\\IMAGES\\img_0842.png\n",
      "kıyafet\\IMAGES\\img_0843.png\n",
      "kıyafet\\IMAGES\\img_0844.png\n",
      "kıyafet\\IMAGES\\img_0845.png\n",
      "kıyafet\\IMAGES\\img_0846.png\n",
      "kıyafet\\IMAGES\\img_0847.png\n",
      "kıyafet\\IMAGES\\img_0848.png\n",
      "kıyafet\\IMAGES\\img_0849.png\n",
      "kıyafet\\IMAGES\\img_0850.png\n",
      "kıyafet\\IMAGES\\img_0851.png\n",
      "kıyafet\\IMAGES\\img_0852.png\n",
      "kıyafet\\IMAGES\\img_0853.png\n",
      "kıyafet\\IMAGES\\img_0854.png\n",
      "kıyafet\\IMAGES\\img_0855.png\n",
      "kıyafet\\IMAGES\\img_0856.png\n",
      "kıyafet\\IMAGES\\img_0857.png\n",
      "kıyafet\\IMAGES\\img_0858.png\n",
      "kıyafet\\IMAGES\\img_0859.png\n",
      "kıyafet\\IMAGES\\img_0860.png\n",
      "kıyafet\\IMAGES\\img_0861.png\n",
      "kıyafet\\IMAGES\\img_0862.png\n",
      "kıyafet\\IMAGES\\img_0863.png\n",
      "kıyafet\\IMAGES\\img_0864.png\n",
      "kıyafet\\IMAGES\\img_0865.png\n",
      "kıyafet\\IMAGES\\img_0866.png\n",
      "kıyafet\\IMAGES\\img_0867.png\n",
      "kıyafet\\IMAGES\\img_0868.png\n",
      "kıyafet\\IMAGES\\img_0869.png\n",
      "kıyafet\\IMAGES\\img_0870.png\n",
      "kıyafet\\IMAGES\\img_0871.png\n",
      "kıyafet\\IMAGES\\img_0872.png\n",
      "kıyafet\\IMAGES\\img_0873.png\n",
      "kıyafet\\IMAGES\\img_0874.png\n",
      "kıyafet\\IMAGES\\img_0875.png\n",
      "kıyafet\\IMAGES\\img_0876.png\n",
      "kıyafet\\IMAGES\\img_0877.png\n",
      "kıyafet\\IMAGES\\img_0878.png\n",
      "kıyafet\\IMAGES\\img_0879.png\n",
      "kıyafet\\IMAGES\\img_0880.png\n",
      "kıyafet\\IMAGES\\img_0881.png\n",
      "kıyafet\\IMAGES\\img_0882.png\n",
      "kıyafet\\IMAGES\\img_0883.png\n",
      "kıyafet\\IMAGES\\img_0884.png\n",
      "kıyafet\\IMAGES\\img_0885.png\n",
      "kıyafet\\IMAGES\\img_0886.png\n",
      "kıyafet\\IMAGES\\img_0887.png\n",
      "kıyafet\\IMAGES\\img_0888.png\n",
      "kıyafet\\IMAGES\\img_0889.png\n",
      "kıyafet\\IMAGES\\img_0890.png\n",
      "kıyafet\\IMAGES\\img_0891.png\n",
      "kıyafet\\IMAGES\\img_0892.png\n",
      "kıyafet\\IMAGES\\img_0893.png\n",
      "kıyafet\\IMAGES\\img_0894.png\n",
      "kıyafet\\IMAGES\\img_0895.png\n",
      "kıyafet\\IMAGES\\img_0896.png\n",
      "kıyafet\\IMAGES\\img_0897.png\n",
      "kıyafet\\IMAGES\\img_0898.png\n",
      "kıyafet\\IMAGES\\img_0899.png\n",
      "kıyafet\\IMAGES\\img_0900.png\n",
      "kıyafet\\IMAGES\\img_0901.png\n",
      "kıyafet\\IMAGES\\img_0902.png\n",
      "kıyafet\\IMAGES\\img_0903.png\n",
      "kıyafet\\IMAGES\\img_0904.png\n",
      "kıyafet\\IMAGES\\img_0905.png\n",
      "kıyafet\\IMAGES\\img_0906.png\n",
      "kıyafet\\IMAGES\\img_0907.png\n",
      "kıyafet\\IMAGES\\img_0908.png\n",
      "kıyafet\\IMAGES\\img_0909.png\n",
      "kıyafet\\IMAGES\\img_0910.png\n",
      "kıyafet\\IMAGES\\img_0911.png\n",
      "kıyafet\\IMAGES\\img_0912.png\n",
      "kıyafet\\IMAGES\\img_0913.png\n",
      "kıyafet\\IMAGES\\img_0914.png\n",
      "kıyafet\\IMAGES\\img_0915.png\n",
      "kıyafet\\IMAGES\\img_0916.png\n",
      "kıyafet\\IMAGES\\img_0917.png\n",
      "kıyafet\\IMAGES\\img_0918.png\n",
      "kıyafet\\IMAGES\\img_0919.png\n",
      "kıyafet\\IMAGES\\img_0920.png\n",
      "kıyafet\\IMAGES\\img_0921.png\n",
      "kıyafet\\IMAGES\\img_0922.png\n",
      "kıyafet\\IMAGES\\img_0923.png\n",
      "kıyafet\\IMAGES\\img_0924.png\n",
      "kıyafet\\IMAGES\\img_0925.png\n",
      "kıyafet\\IMAGES\\img_0926.png\n",
      "kıyafet\\IMAGES\\img_0927.png\n",
      "kıyafet\\IMAGES\\img_0928.png\n",
      "kıyafet\\IMAGES\\img_0929.png\n",
      "kıyafet\\IMAGES\\img_0930.png\n",
      "kıyafet\\IMAGES\\img_0931.png\n",
      "kıyafet\\IMAGES\\img_0932.png\n",
      "kıyafet\\IMAGES\\img_0933.png\n",
      "kıyafet\\IMAGES\\img_0934.png\n",
      "kıyafet\\IMAGES\\img_0935.png\n",
      "kıyafet\\IMAGES\\img_0936.png\n",
      "kıyafet\\IMAGES\\img_0937.png\n",
      "kıyafet\\IMAGES\\img_0938.png\n",
      "kıyafet\\IMAGES\\img_0939.png\n",
      "kıyafet\\IMAGES\\img_0940.png\n",
      "kıyafet\\IMAGES\\img_0941.png\n",
      "kıyafet\\IMAGES\\img_0942.png\n",
      "kıyafet\\IMAGES\\img_0943.png\n",
      "kıyafet\\IMAGES\\img_0944.png\n",
      "kıyafet\\IMAGES\\img_0945.png\n",
      "kıyafet\\IMAGES\\img_0946.png\n",
      "kıyafet\\IMAGES\\img_0947.png\n",
      "kıyafet\\IMAGES\\img_0948.png\n",
      "kıyafet\\IMAGES\\img_0949.png\n",
      "kıyafet\\IMAGES\\img_0950.png\n",
      "kıyafet\\IMAGES\\img_0951.png\n",
      "kıyafet\\IMAGES\\img_0952.png\n",
      "kıyafet\\IMAGES\\img_0953.png\n",
      "kıyafet\\IMAGES\\img_0954.png\n",
      "kıyafet\\IMAGES\\img_0955.png\n",
      "kıyafet\\IMAGES\\img_0956.png\n",
      "kıyafet\\IMAGES\\img_0957.png\n",
      "kıyafet\\IMAGES\\img_0958.png\n",
      "kıyafet\\IMAGES\\img_0959.png\n",
      "kıyafet\\IMAGES\\img_0960.png\n",
      "kıyafet\\IMAGES\\img_0961.png\n",
      "kıyafet\\IMAGES\\img_0962.png\n",
      "kıyafet\\IMAGES\\img_0963.png\n",
      "kıyafet\\IMAGES\\img_0964.png\n",
      "kıyafet\\IMAGES\\img_0965.png\n",
      "kıyafet\\IMAGES\\img_0966.png\n",
      "kıyafet\\IMAGES\\img_0967.png\n",
      "kıyafet\\IMAGES\\img_0968.png\n",
      "kıyafet\\IMAGES\\img_0969.png\n",
      "kıyafet\\IMAGES\\img_0970.png\n",
      "kıyafet\\IMAGES\\img_0971.png\n",
      "kıyafet\\IMAGES\\img_0972.png\n",
      "kıyafet\\IMAGES\\img_0973.png\n",
      "kıyafet\\IMAGES\\img_0974.png\n",
      "kıyafet\\IMAGES\\img_0975.png\n",
      "kıyafet\\IMAGES\\img_0976.png\n",
      "kıyafet\\IMAGES\\img_0977.png\n",
      "kıyafet\\IMAGES\\img_0978.png\n",
      "kıyafet\\IMAGES\\img_0979.png\n",
      "kıyafet\\IMAGES\\img_0980.png\n",
      "kıyafet\\IMAGES\\img_0981.png\n",
      "kıyafet\\IMAGES\\img_0982.png\n",
      "kıyafet\\IMAGES\\img_0983.png\n",
      "kıyafet\\IMAGES\\img_0984.png\n",
      "kıyafet\\IMAGES\\img_0985.png\n",
      "kıyafet\\IMAGES\\img_0986.png\n",
      "kıyafet\\IMAGES\\img_0987.png\n",
      "kıyafet\\IMAGES\\img_0988.png\n",
      "kıyafet\\IMAGES\\img_0989.png\n",
      "kıyafet\\IMAGES\\img_0990.png\n",
      "kıyafet\\IMAGES\\img_0991.png\n",
      "kıyafet\\IMAGES\\img_0992.png\n",
      "kıyafet\\IMAGES\\img_0993.png\n",
      "kıyafet\\IMAGES\\img_0994.png\n",
      "kıyafet\\IMAGES\\img_0995.png\n",
      "kıyafet\\IMAGES\\img_0996.png\n",
      "kıyafet\\IMAGES\\img_0997.png\n",
      "kıyafet\\IMAGES\\img_0998.png\n",
      "kıyafet\\IMAGES\\img_0999.png\n",
      "kıyafet\\IMAGES\\img_1000.png\n",
      "kıyafet\\MASKS\\seg_0001.png\n",
      "kıyafet\\MASKS\\seg_0002.png\n",
      "kıyafet\\MASKS\\seg_0003.png\n",
      "kıyafet\\MASKS\\seg_0004.png\n",
      "kıyafet\\MASKS\\seg_0005.png\n",
      "kıyafet\\MASKS\\seg_0006.png\n",
      "kıyafet\\MASKS\\seg_0007.png\n",
      "kıyafet\\MASKS\\seg_0008.png\n",
      "kıyafet\\MASKS\\seg_0009.png\n",
      "kıyafet\\MASKS\\seg_0010.png\n",
      "kıyafet\\MASKS\\seg_0011.png\n",
      "kıyafet\\MASKS\\seg_0012.png\n",
      "kıyafet\\MASKS\\seg_0013.png\n",
      "kıyafet\\MASKS\\seg_0014.png\n",
      "kıyafet\\MASKS\\seg_0015.png\n",
      "kıyafet\\MASKS\\seg_0016.png\n",
      "kıyafet\\MASKS\\seg_0017.png\n",
      "kıyafet\\MASKS\\seg_0018.png\n",
      "kıyafet\\MASKS\\seg_0019.png\n",
      "kıyafet\\MASKS\\seg_0020.png\n",
      "kıyafet\\MASKS\\seg_0021.png\n",
      "kıyafet\\MASKS\\seg_0022.png\n",
      "kıyafet\\MASKS\\seg_0023.png\n",
      "kıyafet\\MASKS\\seg_0024.png\n",
      "kıyafet\\MASKS\\seg_0025.png\n",
      "kıyafet\\MASKS\\seg_0026.png\n",
      "kıyafet\\MASKS\\seg_0027.png\n",
      "kıyafet\\MASKS\\seg_0028.png\n",
      "kıyafet\\MASKS\\seg_0029.png\n",
      "kıyafet\\MASKS\\seg_0030.png\n",
      "kıyafet\\MASKS\\seg_0031.png\n",
      "kıyafet\\MASKS\\seg_0032.png\n",
      "kıyafet\\MASKS\\seg_0033.png\n",
      "kıyafet\\MASKS\\seg_0034.png\n",
      "kıyafet\\MASKS\\seg_0035.png\n",
      "kıyafet\\MASKS\\seg_0036.png\n",
      "kıyafet\\MASKS\\seg_0037.png\n",
      "kıyafet\\MASKS\\seg_0038.png\n",
      "kıyafet\\MASKS\\seg_0039.png\n",
      "kıyafet\\MASKS\\seg_0040.png\n",
      "kıyafet\\MASKS\\seg_0041.png\n",
      "kıyafet\\MASKS\\seg_0042.png\n",
      "kıyafet\\MASKS\\seg_0043.png\n",
      "kıyafet\\MASKS\\seg_0044.png\n",
      "kıyafet\\MASKS\\seg_0045.png\n",
      "kıyafet\\MASKS\\seg_0046.png\n",
      "kıyafet\\MASKS\\seg_0047.png\n",
      "kıyafet\\MASKS\\seg_0048.png\n",
      "kıyafet\\MASKS\\seg_0049.png\n",
      "kıyafet\\MASKS\\seg_0050.png\n",
      "kıyafet\\MASKS\\seg_0051.png\n",
      "kıyafet\\MASKS\\seg_0052.png\n",
      "kıyafet\\MASKS\\seg_0053.png\n",
      "kıyafet\\MASKS\\seg_0054.png\n",
      "kıyafet\\MASKS\\seg_0055.png\n",
      "kıyafet\\MASKS\\seg_0056.png\n",
      "kıyafet\\MASKS\\seg_0057.png\n",
      "kıyafet\\MASKS\\seg_0058.png\n",
      "kıyafet\\MASKS\\seg_0059.png\n",
      "kıyafet\\MASKS\\seg_0060.png\n",
      "kıyafet\\MASKS\\seg_0061.png\n",
      "kıyafet\\MASKS\\seg_0062.png\n",
      "kıyafet\\MASKS\\seg_0063.png\n",
      "kıyafet\\MASKS\\seg_0064.png\n",
      "kıyafet\\MASKS\\seg_0065.png\n",
      "kıyafet\\MASKS\\seg_0066.png\n",
      "kıyafet\\MASKS\\seg_0067.png\n",
      "kıyafet\\MASKS\\seg_0068.png\n",
      "kıyafet\\MASKS\\seg_0069.png\n",
      "kıyafet\\MASKS\\seg_0070.png\n",
      "kıyafet\\MASKS\\seg_0071.png\n",
      "kıyafet\\MASKS\\seg_0072.png\n",
      "kıyafet\\MASKS\\seg_0073.png\n",
      "kıyafet\\MASKS\\seg_0074.png\n",
      "kıyafet\\MASKS\\seg_0075.png\n",
      "kıyafet\\MASKS\\seg_0076.png\n",
      "kıyafet\\MASKS\\seg_0077.png\n",
      "kıyafet\\MASKS\\seg_0078.png\n",
      "kıyafet\\MASKS\\seg_0079.png\n",
      "kıyafet\\MASKS\\seg_0080.png\n",
      "kıyafet\\MASKS\\seg_0081.png\n",
      "kıyafet\\MASKS\\seg_0082.png\n",
      "kıyafet\\MASKS\\seg_0083.png\n",
      "kıyafet\\MASKS\\seg_0084.png\n",
      "kıyafet\\MASKS\\seg_0085.png\n",
      "kıyafet\\MASKS\\seg_0086.png\n",
      "kıyafet\\MASKS\\seg_0087.png\n",
      "kıyafet\\MASKS\\seg_0088.png\n",
      "kıyafet\\MASKS\\seg_0089.png\n",
      "kıyafet\\MASKS\\seg_0090.png\n",
      "kıyafet\\MASKS\\seg_0091.png\n",
      "kıyafet\\MASKS\\seg_0092.png\n",
      "kıyafet\\MASKS\\seg_0093.png\n",
      "kıyafet\\MASKS\\seg_0094.png\n",
      "kıyafet\\MASKS\\seg_0095.png\n",
      "kıyafet\\MASKS\\seg_0096.png\n",
      "kıyafet\\MASKS\\seg_0097.png\n",
      "kıyafet\\MASKS\\seg_0098.png\n",
      "kıyafet\\MASKS\\seg_0099.png\n",
      "kıyafet\\MASKS\\seg_0100.png\n",
      "kıyafet\\MASKS\\seg_0101.png\n",
      "kıyafet\\MASKS\\seg_0102.png\n",
      "kıyafet\\MASKS\\seg_0103.png\n",
      "kıyafet\\MASKS\\seg_0104.png\n",
      "kıyafet\\MASKS\\seg_0105.png\n",
      "kıyafet\\MASKS\\seg_0106.png\n",
      "kıyafet\\MASKS\\seg_0107.png\n",
      "kıyafet\\MASKS\\seg_0108.png\n",
      "kıyafet\\MASKS\\seg_0109.png\n",
      "kıyafet\\MASKS\\seg_0110.png\n",
      "kıyafet\\MASKS\\seg_0111.png\n",
      "kıyafet\\MASKS\\seg_0112.png\n",
      "kıyafet\\MASKS\\seg_0113.png\n",
      "kıyafet\\MASKS\\seg_0114.png\n",
      "kıyafet\\MASKS\\seg_0115.png\n",
      "kıyafet\\MASKS\\seg_0116.png\n",
      "kıyafet\\MASKS\\seg_0117.png\n",
      "kıyafet\\MASKS\\seg_0118.png\n",
      "kıyafet\\MASKS\\seg_0119.png\n",
      "kıyafet\\MASKS\\seg_0120.png\n",
      "kıyafet\\MASKS\\seg_0121.png\n",
      "kıyafet\\MASKS\\seg_0122.png\n",
      "kıyafet\\MASKS\\seg_0123.png\n",
      "kıyafet\\MASKS\\seg_0124.png\n",
      "kıyafet\\MASKS\\seg_0125.png\n",
      "kıyafet\\MASKS\\seg_0126.png\n",
      "kıyafet\\MASKS\\seg_0127.png\n",
      "kıyafet\\MASKS\\seg_0128.png\n",
      "kıyafet\\MASKS\\seg_0129.png\n",
      "kıyafet\\MASKS\\seg_0130.png\n",
      "kıyafet\\MASKS\\seg_0131.png\n",
      "kıyafet\\MASKS\\seg_0132.png\n",
      "kıyafet\\MASKS\\seg_0133.png\n",
      "kıyafet\\MASKS\\seg_0134.png\n",
      "kıyafet\\MASKS\\seg_0135.png\n",
      "kıyafet\\MASKS\\seg_0136.png\n",
      "kıyafet\\MASKS\\seg_0137.png\n",
      "kıyafet\\MASKS\\seg_0138.png\n",
      "kıyafet\\MASKS\\seg_0139.png\n",
      "kıyafet\\MASKS\\seg_0140.png\n",
      "kıyafet\\MASKS\\seg_0141.png\n",
      "kıyafet\\MASKS\\seg_0142.png\n",
      "kıyafet\\MASKS\\seg_0143.png\n",
      "kıyafet\\MASKS\\seg_0144.png\n",
      "kıyafet\\MASKS\\seg_0145.png\n",
      "kıyafet\\MASKS\\seg_0146.png\n",
      "kıyafet\\MASKS\\seg_0147.png\n",
      "kıyafet\\MASKS\\seg_0148.png\n",
      "kıyafet\\MASKS\\seg_0149.png\n",
      "kıyafet\\MASKS\\seg_0150.png\n",
      "kıyafet\\MASKS\\seg_0151.png\n",
      "kıyafet\\MASKS\\seg_0152.png\n",
      "kıyafet\\MASKS\\seg_0153.png\n",
      "kıyafet\\MASKS\\seg_0154.png\n",
      "kıyafet\\MASKS\\seg_0155.png\n",
      "kıyafet\\MASKS\\seg_0156.png\n",
      "kıyafet\\MASKS\\seg_0157.png\n",
      "kıyafet\\MASKS\\seg_0158.png\n",
      "kıyafet\\MASKS\\seg_0159.png\n",
      "kıyafet\\MASKS\\seg_0160.png\n",
      "kıyafet\\MASKS\\seg_0161.png\n",
      "kıyafet\\MASKS\\seg_0162.png\n",
      "kıyafet\\MASKS\\seg_0163.png\n",
      "kıyafet\\MASKS\\seg_0164.png\n",
      "kıyafet\\MASKS\\seg_0165.png\n",
      "kıyafet\\MASKS\\seg_0166.png\n",
      "kıyafet\\MASKS\\seg_0167.png\n",
      "kıyafet\\MASKS\\seg_0168.png\n",
      "kıyafet\\MASKS\\seg_0169.png\n",
      "kıyafet\\MASKS\\seg_0170.png\n",
      "kıyafet\\MASKS\\seg_0171.png\n",
      "kıyafet\\MASKS\\seg_0172.png\n",
      "kıyafet\\MASKS\\seg_0173.png\n",
      "kıyafet\\MASKS\\seg_0174.png\n",
      "kıyafet\\MASKS\\seg_0175.png\n",
      "kıyafet\\MASKS\\seg_0176.png\n",
      "kıyafet\\MASKS\\seg_0177.png\n",
      "kıyafet\\MASKS\\seg_0178.png\n",
      "kıyafet\\MASKS\\seg_0179.png\n",
      "kıyafet\\MASKS\\seg_0180.png\n",
      "kıyafet\\MASKS\\seg_0181.png\n",
      "kıyafet\\MASKS\\seg_0182.png\n",
      "kıyafet\\MASKS\\seg_0183.png\n",
      "kıyafet\\MASKS\\seg_0184.png\n",
      "kıyafet\\MASKS\\seg_0185.png\n",
      "kıyafet\\MASKS\\seg_0186.png\n",
      "kıyafet\\MASKS\\seg_0187.png\n",
      "kıyafet\\MASKS\\seg_0188.png\n",
      "kıyafet\\MASKS\\seg_0189.png\n",
      "kıyafet\\MASKS\\seg_0190.png\n",
      "kıyafet\\MASKS\\seg_0191.png\n",
      "kıyafet\\MASKS\\seg_0192.png\n",
      "kıyafet\\MASKS\\seg_0193.png\n",
      "kıyafet\\MASKS\\seg_0194.png\n",
      "kıyafet\\MASKS\\seg_0195.png\n",
      "kıyafet\\MASKS\\seg_0196.png\n",
      "kıyafet\\MASKS\\seg_0197.png\n",
      "kıyafet\\MASKS\\seg_0198.png\n",
      "kıyafet\\MASKS\\seg_0199.png\n",
      "kıyafet\\MASKS\\seg_0200.png\n",
      "kıyafet\\MASKS\\seg_0201.png\n",
      "kıyafet\\MASKS\\seg_0202.png\n",
      "kıyafet\\MASKS\\seg_0203.png\n",
      "kıyafet\\MASKS\\seg_0204.png\n",
      "kıyafet\\MASKS\\seg_0205.png\n",
      "kıyafet\\MASKS\\seg_0206.png\n",
      "kıyafet\\MASKS\\seg_0207.png\n",
      "kıyafet\\MASKS\\seg_0208.png\n",
      "kıyafet\\MASKS\\seg_0209.png\n",
      "kıyafet\\MASKS\\seg_0210.png\n",
      "kıyafet\\MASKS\\seg_0211.png\n",
      "kıyafet\\MASKS\\seg_0212.png\n",
      "kıyafet\\MASKS\\seg_0213.png\n",
      "kıyafet\\MASKS\\seg_0214.png\n",
      "kıyafet\\MASKS\\seg_0215.png\n",
      "kıyafet\\MASKS\\seg_0216.png\n",
      "kıyafet\\MASKS\\seg_0217.png\n",
      "kıyafet\\MASKS\\seg_0218.png\n",
      "kıyafet\\MASKS\\seg_0219.png\n",
      "kıyafet\\MASKS\\seg_0220.png\n",
      "kıyafet\\MASKS\\seg_0221.png\n",
      "kıyafet\\MASKS\\seg_0222.png\n",
      "kıyafet\\MASKS\\seg_0223.png\n",
      "kıyafet\\MASKS\\seg_0224.png\n",
      "kıyafet\\MASKS\\seg_0225.png\n",
      "kıyafet\\MASKS\\seg_0226.png\n",
      "kıyafet\\MASKS\\seg_0227.png\n",
      "kıyafet\\MASKS\\seg_0228.png\n",
      "kıyafet\\MASKS\\seg_0229.png\n",
      "kıyafet\\MASKS\\seg_0230.png\n",
      "kıyafet\\MASKS\\seg_0231.png\n",
      "kıyafet\\MASKS\\seg_0232.png\n",
      "kıyafet\\MASKS\\seg_0233.png\n",
      "kıyafet\\MASKS\\seg_0234.png\n",
      "kıyafet\\MASKS\\seg_0235.png\n",
      "kıyafet\\MASKS\\seg_0236.png\n",
      "kıyafet\\MASKS\\seg_0237.png\n",
      "kıyafet\\MASKS\\seg_0238.png\n",
      "kıyafet\\MASKS\\seg_0239.png\n",
      "kıyafet\\MASKS\\seg_0240.png\n",
      "kıyafet\\MASKS\\seg_0241.png\n",
      "kıyafet\\MASKS\\seg_0242.png\n",
      "kıyafet\\MASKS\\seg_0243.png\n",
      "kıyafet\\MASKS\\seg_0244.png\n",
      "kıyafet\\MASKS\\seg_0245.png\n",
      "kıyafet\\MASKS\\seg_0246.png\n",
      "kıyafet\\MASKS\\seg_0247.png\n",
      "kıyafet\\MASKS\\seg_0248.png\n",
      "kıyafet\\MASKS\\seg_0249.png\n",
      "kıyafet\\MASKS\\seg_0250.png\n",
      "kıyafet\\MASKS\\seg_0251.png\n",
      "kıyafet\\MASKS\\seg_0252.png\n",
      "kıyafet\\MASKS\\seg_0253.png\n",
      "kıyafet\\MASKS\\seg_0254.png\n",
      "kıyafet\\MASKS\\seg_0255.png\n",
      "kıyafet\\MASKS\\seg_0256.png\n",
      "kıyafet\\MASKS\\seg_0257.png\n",
      "kıyafet\\MASKS\\seg_0258.png\n",
      "kıyafet\\MASKS\\seg_0259.png\n",
      "kıyafet\\MASKS\\seg_0260.png\n",
      "kıyafet\\MASKS\\seg_0261.png\n",
      "kıyafet\\MASKS\\seg_0262.png\n",
      "kıyafet\\MASKS\\seg_0263.png\n",
      "kıyafet\\MASKS\\seg_0264.png\n",
      "kıyafet\\MASKS\\seg_0265.png\n",
      "kıyafet\\MASKS\\seg_0266.png\n",
      "kıyafet\\MASKS\\seg_0267.png\n",
      "kıyafet\\MASKS\\seg_0268.png\n",
      "kıyafet\\MASKS\\seg_0269.png\n",
      "kıyafet\\MASKS\\seg_0270.png\n",
      "kıyafet\\MASKS\\seg_0271.png\n",
      "kıyafet\\MASKS\\seg_0272.png\n",
      "kıyafet\\MASKS\\seg_0273.png\n",
      "kıyafet\\MASKS\\seg_0274.png\n",
      "kıyafet\\MASKS\\seg_0275.png\n",
      "kıyafet\\MASKS\\seg_0276.png\n",
      "kıyafet\\MASKS\\seg_0277.png\n",
      "kıyafet\\MASKS\\seg_0278.png\n",
      "kıyafet\\MASKS\\seg_0279.png\n",
      "kıyafet\\MASKS\\seg_0280.png\n",
      "kıyafet\\MASKS\\seg_0281.png\n",
      "kıyafet\\MASKS\\seg_0282.png\n",
      "kıyafet\\MASKS\\seg_0283.png\n",
      "kıyafet\\MASKS\\seg_0284.png\n",
      "kıyafet\\MASKS\\seg_0285.png\n",
      "kıyafet\\MASKS\\seg_0286.png\n",
      "kıyafet\\MASKS\\seg_0287.png\n",
      "kıyafet\\MASKS\\seg_0288.png\n",
      "kıyafet\\MASKS\\seg_0289.png\n",
      "kıyafet\\MASKS\\seg_0290.png\n",
      "kıyafet\\MASKS\\seg_0291.png\n",
      "kıyafet\\MASKS\\seg_0292.png\n",
      "kıyafet\\MASKS\\seg_0293.png\n",
      "kıyafet\\MASKS\\seg_0294.png\n",
      "kıyafet\\MASKS\\seg_0295.png\n",
      "kıyafet\\MASKS\\seg_0296.png\n",
      "kıyafet\\MASKS\\seg_0297.png\n",
      "kıyafet\\MASKS\\seg_0298.png\n",
      "kıyafet\\MASKS\\seg_0299.png\n",
      "kıyafet\\MASKS\\seg_0300.png\n",
      "kıyafet\\MASKS\\seg_0301.png\n",
      "kıyafet\\MASKS\\seg_0302.png\n",
      "kıyafet\\MASKS\\seg_0303.png\n",
      "kıyafet\\MASKS\\seg_0304.png\n",
      "kıyafet\\MASKS\\seg_0305.png\n",
      "kıyafet\\MASKS\\seg_0306.png\n",
      "kıyafet\\MASKS\\seg_0307.png\n",
      "kıyafet\\MASKS\\seg_0308.png\n",
      "kıyafet\\MASKS\\seg_0309.png\n",
      "kıyafet\\MASKS\\seg_0310.png\n",
      "kıyafet\\MASKS\\seg_0311.png\n",
      "kıyafet\\MASKS\\seg_0312.png\n",
      "kıyafet\\MASKS\\seg_0313.png\n",
      "kıyafet\\MASKS\\seg_0314.png\n",
      "kıyafet\\MASKS\\seg_0315.png\n",
      "kıyafet\\MASKS\\seg_0316.png\n",
      "kıyafet\\MASKS\\seg_0317.png\n",
      "kıyafet\\MASKS\\seg_0318.png\n",
      "kıyafet\\MASKS\\seg_0319.png\n",
      "kıyafet\\MASKS\\seg_0320.png\n",
      "kıyafet\\MASKS\\seg_0321.png\n",
      "kıyafet\\MASKS\\seg_0322.png\n",
      "kıyafet\\MASKS\\seg_0323.png\n",
      "kıyafet\\MASKS\\seg_0324.png\n",
      "kıyafet\\MASKS\\seg_0325.png\n",
      "kıyafet\\MASKS\\seg_0326.png\n",
      "kıyafet\\MASKS\\seg_0327.png\n",
      "kıyafet\\MASKS\\seg_0328.png\n",
      "kıyafet\\MASKS\\seg_0329.png\n",
      "kıyafet\\MASKS\\seg_0330.png\n",
      "kıyafet\\MASKS\\seg_0331.png\n",
      "kıyafet\\MASKS\\seg_0332.png\n",
      "kıyafet\\MASKS\\seg_0333.png\n",
      "kıyafet\\MASKS\\seg_0334.png\n",
      "kıyafet\\MASKS\\seg_0335.png\n",
      "kıyafet\\MASKS\\seg_0336.png\n",
      "kıyafet\\MASKS\\seg_0337.png\n",
      "kıyafet\\MASKS\\seg_0338.png\n",
      "kıyafet\\MASKS\\seg_0339.png\n",
      "kıyafet\\MASKS\\seg_0340.png\n",
      "kıyafet\\MASKS\\seg_0341.png\n",
      "kıyafet\\MASKS\\seg_0342.png\n",
      "kıyafet\\MASKS\\seg_0343.png\n",
      "kıyafet\\MASKS\\seg_0344.png\n",
      "kıyafet\\MASKS\\seg_0345.png\n",
      "kıyafet\\MASKS\\seg_0346.png\n",
      "kıyafet\\MASKS\\seg_0347.png\n",
      "kıyafet\\MASKS\\seg_0348.png\n",
      "kıyafet\\MASKS\\seg_0349.png\n",
      "kıyafet\\MASKS\\seg_0350.png\n",
      "kıyafet\\MASKS\\seg_0351.png\n",
      "kıyafet\\MASKS\\seg_0352.png\n",
      "kıyafet\\MASKS\\seg_0353.png\n",
      "kıyafet\\MASKS\\seg_0354.png\n",
      "kıyafet\\MASKS\\seg_0355.png\n",
      "kıyafet\\MASKS\\seg_0356.png\n",
      "kıyafet\\MASKS\\seg_0357.png\n",
      "kıyafet\\MASKS\\seg_0358.png\n",
      "kıyafet\\MASKS\\seg_0359.png\n",
      "kıyafet\\MASKS\\seg_0360.png\n",
      "kıyafet\\MASKS\\seg_0361.png\n",
      "kıyafet\\MASKS\\seg_0362.png\n",
      "kıyafet\\MASKS\\seg_0363.png\n",
      "kıyafet\\MASKS\\seg_0364.png\n",
      "kıyafet\\MASKS\\seg_0365.png\n",
      "kıyafet\\MASKS\\seg_0366.png\n",
      "kıyafet\\MASKS\\seg_0367.png\n",
      "kıyafet\\MASKS\\seg_0368.png\n",
      "kıyafet\\MASKS\\seg_0369.png\n",
      "kıyafet\\MASKS\\seg_0370.png\n",
      "kıyafet\\MASKS\\seg_0371.png\n",
      "kıyafet\\MASKS\\seg_0372.png\n",
      "kıyafet\\MASKS\\seg_0373.png\n",
      "kıyafet\\MASKS\\seg_0374.png\n",
      "kıyafet\\MASKS\\seg_0375.png\n",
      "kıyafet\\MASKS\\seg_0376.png\n",
      "kıyafet\\MASKS\\seg_0377.png\n",
      "kıyafet\\MASKS\\seg_0378.png\n",
      "kıyafet\\MASKS\\seg_0379.png\n",
      "kıyafet\\MASKS\\seg_0380.png\n",
      "kıyafet\\MASKS\\seg_0381.png\n",
      "kıyafet\\MASKS\\seg_0382.png\n",
      "kıyafet\\MASKS\\seg_0383.png\n",
      "kıyafet\\MASKS\\seg_0384.png\n",
      "kıyafet\\MASKS\\seg_0385.png\n",
      "kıyafet\\MASKS\\seg_0386.png\n",
      "kıyafet\\MASKS\\seg_0387.png\n",
      "kıyafet\\MASKS\\seg_0388.png\n",
      "kıyafet\\MASKS\\seg_0389.png\n",
      "kıyafet\\MASKS\\seg_0390.png\n",
      "kıyafet\\MASKS\\seg_0391.png\n",
      "kıyafet\\MASKS\\seg_0392.png\n",
      "kıyafet\\MASKS\\seg_0393.png\n",
      "kıyafet\\MASKS\\seg_0394.png\n",
      "kıyafet\\MASKS\\seg_0395.png\n",
      "kıyafet\\MASKS\\seg_0396.png\n",
      "kıyafet\\MASKS\\seg_0397.png\n",
      "kıyafet\\MASKS\\seg_0398.png\n",
      "kıyafet\\MASKS\\seg_0399.png\n",
      "kıyafet\\MASKS\\seg_0400.png\n",
      "kıyafet\\MASKS\\seg_0401.png\n",
      "kıyafet\\MASKS\\seg_0402.png\n",
      "kıyafet\\MASKS\\seg_0403.png\n",
      "kıyafet\\MASKS\\seg_0404.png\n",
      "kıyafet\\MASKS\\seg_0405.png\n",
      "kıyafet\\MASKS\\seg_0406.png\n",
      "kıyafet\\MASKS\\seg_0407.png\n",
      "kıyafet\\MASKS\\seg_0408.png\n",
      "kıyafet\\MASKS\\seg_0409.png\n",
      "kıyafet\\MASKS\\seg_0410.png\n",
      "kıyafet\\MASKS\\seg_0411.png\n",
      "kıyafet\\MASKS\\seg_0412.png\n",
      "kıyafet\\MASKS\\seg_0413.png\n",
      "kıyafet\\MASKS\\seg_0414.png\n",
      "kıyafet\\MASKS\\seg_0415.png\n",
      "kıyafet\\MASKS\\seg_0416.png\n",
      "kıyafet\\MASKS\\seg_0417.png\n",
      "kıyafet\\MASKS\\seg_0418.png\n",
      "kıyafet\\MASKS\\seg_0419.png\n",
      "kıyafet\\MASKS\\seg_0420.png\n",
      "kıyafet\\MASKS\\seg_0421.png\n",
      "kıyafet\\MASKS\\seg_0422.png\n",
      "kıyafet\\MASKS\\seg_0423.png\n",
      "kıyafet\\MASKS\\seg_0424.png\n",
      "kıyafet\\MASKS\\seg_0425.png\n",
      "kıyafet\\MASKS\\seg_0426.png\n",
      "kıyafet\\MASKS\\seg_0427.png\n",
      "kıyafet\\MASKS\\seg_0428.png\n",
      "kıyafet\\MASKS\\seg_0429.png\n",
      "kıyafet\\MASKS\\seg_0430.png\n",
      "kıyafet\\MASKS\\seg_0431.png\n",
      "kıyafet\\MASKS\\seg_0432.png\n",
      "kıyafet\\MASKS\\seg_0433.png\n",
      "kıyafet\\MASKS\\seg_0434.png\n",
      "kıyafet\\MASKS\\seg_0435.png\n",
      "kıyafet\\MASKS\\seg_0436.png\n",
      "kıyafet\\MASKS\\seg_0437.png\n",
      "kıyafet\\MASKS\\seg_0438.png\n",
      "kıyafet\\MASKS\\seg_0439.png\n",
      "kıyafet\\MASKS\\seg_0440.png\n",
      "kıyafet\\MASKS\\seg_0441.png\n",
      "kıyafet\\MASKS\\seg_0442.png\n",
      "kıyafet\\MASKS\\seg_0443.png\n",
      "kıyafet\\MASKS\\seg_0444.png\n",
      "kıyafet\\MASKS\\seg_0445.png\n",
      "kıyafet\\MASKS\\seg_0446.png\n",
      "kıyafet\\MASKS\\seg_0447.png\n",
      "kıyafet\\MASKS\\seg_0448.png\n",
      "kıyafet\\MASKS\\seg_0449.png\n",
      "kıyafet\\MASKS\\seg_0450.png\n",
      "kıyafet\\MASKS\\seg_0451.png\n",
      "kıyafet\\MASKS\\seg_0452.png\n",
      "kıyafet\\MASKS\\seg_0453.png\n",
      "kıyafet\\MASKS\\seg_0454.png\n",
      "kıyafet\\MASKS\\seg_0455.png\n",
      "kıyafet\\MASKS\\seg_0456.png\n",
      "kıyafet\\MASKS\\seg_0457.png\n",
      "kıyafet\\MASKS\\seg_0458.png\n",
      "kıyafet\\MASKS\\seg_0459.png\n",
      "kıyafet\\MASKS\\seg_0460.png\n",
      "kıyafet\\MASKS\\seg_0461.png\n",
      "kıyafet\\MASKS\\seg_0462.png\n",
      "kıyafet\\MASKS\\seg_0463.png\n",
      "kıyafet\\MASKS\\seg_0464.png\n",
      "kıyafet\\MASKS\\seg_0465.png\n",
      "kıyafet\\MASKS\\seg_0466.png\n",
      "kıyafet\\MASKS\\seg_0467.png\n",
      "kıyafet\\MASKS\\seg_0468.png\n",
      "kıyafet\\MASKS\\seg_0469.png\n",
      "kıyafet\\MASKS\\seg_0470.png\n",
      "kıyafet\\MASKS\\seg_0471.png\n",
      "kıyafet\\MASKS\\seg_0472.png\n",
      "kıyafet\\MASKS\\seg_0473.png\n",
      "kıyafet\\MASKS\\seg_0474.png\n",
      "kıyafet\\MASKS\\seg_0475.png\n",
      "kıyafet\\MASKS\\seg_0476.png\n",
      "kıyafet\\MASKS\\seg_0477.png\n",
      "kıyafet\\MASKS\\seg_0478.png\n",
      "kıyafet\\MASKS\\seg_0479.png\n",
      "kıyafet\\MASKS\\seg_0480.png\n",
      "kıyafet\\MASKS\\seg_0481.png\n",
      "kıyafet\\MASKS\\seg_0482.png\n",
      "kıyafet\\MASKS\\seg_0483.png\n",
      "kıyafet\\MASKS\\seg_0484.png\n",
      "kıyafet\\MASKS\\seg_0485.png\n",
      "kıyafet\\MASKS\\seg_0486.png\n",
      "kıyafet\\MASKS\\seg_0487.png\n",
      "kıyafet\\MASKS\\seg_0488.png\n",
      "kıyafet\\MASKS\\seg_0489.png\n",
      "kıyafet\\MASKS\\seg_0490.png\n",
      "kıyafet\\MASKS\\seg_0491.png\n",
      "kıyafet\\MASKS\\seg_0492.png\n",
      "kıyafet\\MASKS\\seg_0493.png\n",
      "kıyafet\\MASKS\\seg_0494.png\n",
      "kıyafet\\MASKS\\seg_0495.png\n",
      "kıyafet\\MASKS\\seg_0496.png\n",
      "kıyafet\\MASKS\\seg_0497.png\n",
      "kıyafet\\MASKS\\seg_0498.png\n",
      "kıyafet\\MASKS\\seg_0499.png\n",
      "kıyafet\\MASKS\\seg_0500.png\n",
      "kıyafet\\MASKS\\seg_0501.png\n",
      "kıyafet\\MASKS\\seg_0502.png\n",
      "kıyafet\\MASKS\\seg_0503.png\n",
      "kıyafet\\MASKS\\seg_0504.png\n",
      "kıyafet\\MASKS\\seg_0505.png\n",
      "kıyafet\\MASKS\\seg_0506.png\n",
      "kıyafet\\MASKS\\seg_0507.png\n",
      "kıyafet\\MASKS\\seg_0508.png\n",
      "kıyafet\\MASKS\\seg_0509.png\n",
      "kıyafet\\MASKS\\seg_0510.png\n",
      "kıyafet\\MASKS\\seg_0511.png\n",
      "kıyafet\\MASKS\\seg_0512.png\n",
      "kıyafet\\MASKS\\seg_0513.png\n",
      "kıyafet\\MASKS\\seg_0514.png\n",
      "kıyafet\\MASKS\\seg_0515.png\n",
      "kıyafet\\MASKS\\seg_0516.png\n",
      "kıyafet\\MASKS\\seg_0517.png\n",
      "kıyafet\\MASKS\\seg_0518.png\n",
      "kıyafet\\MASKS\\seg_0519.png\n",
      "kıyafet\\MASKS\\seg_0520.png\n",
      "kıyafet\\MASKS\\seg_0521.png\n",
      "kıyafet\\MASKS\\seg_0522.png\n",
      "kıyafet\\MASKS\\seg_0523.png\n",
      "kıyafet\\MASKS\\seg_0524.png\n",
      "kıyafet\\MASKS\\seg_0525.png\n",
      "kıyafet\\MASKS\\seg_0526.png\n",
      "kıyafet\\MASKS\\seg_0527.png\n",
      "kıyafet\\MASKS\\seg_0528.png\n",
      "kıyafet\\MASKS\\seg_0529.png\n",
      "kıyafet\\MASKS\\seg_0530.png\n",
      "kıyafet\\MASKS\\seg_0531.png\n",
      "kıyafet\\MASKS\\seg_0532.png\n",
      "kıyafet\\MASKS\\seg_0533.png\n",
      "kıyafet\\MASKS\\seg_0534.png\n",
      "kıyafet\\MASKS\\seg_0535.png\n",
      "kıyafet\\MASKS\\seg_0536.png\n",
      "kıyafet\\MASKS\\seg_0537.png\n",
      "kıyafet\\MASKS\\seg_0538.png\n",
      "kıyafet\\MASKS\\seg_0539.png\n",
      "kıyafet\\MASKS\\seg_0540.png\n",
      "kıyafet\\MASKS\\seg_0541.png\n",
      "kıyafet\\MASKS\\seg_0542.png\n",
      "kıyafet\\MASKS\\seg_0543.png\n",
      "kıyafet\\MASKS\\seg_0544.png\n",
      "kıyafet\\MASKS\\seg_0545.png\n",
      "kıyafet\\MASKS\\seg_0546.png\n",
      "kıyafet\\MASKS\\seg_0547.png\n",
      "kıyafet\\MASKS\\seg_0548.png\n",
      "kıyafet\\MASKS\\seg_0549.png\n",
      "kıyafet\\MASKS\\seg_0550.png\n",
      "kıyafet\\MASKS\\seg_0551.png\n",
      "kıyafet\\MASKS\\seg_0552.png\n",
      "kıyafet\\MASKS\\seg_0553.png\n",
      "kıyafet\\MASKS\\seg_0554.png\n",
      "kıyafet\\MASKS\\seg_0555.png\n",
      "kıyafet\\MASKS\\seg_0556.png\n",
      "kıyafet\\MASKS\\seg_0557.png\n",
      "kıyafet\\MASKS\\seg_0558.png\n",
      "kıyafet\\MASKS\\seg_0559.png\n",
      "kıyafet\\MASKS\\seg_0560.png\n",
      "kıyafet\\MASKS\\seg_0561.png\n",
      "kıyafet\\MASKS\\seg_0562.png\n",
      "kıyafet\\MASKS\\seg_0563.png\n",
      "kıyafet\\MASKS\\seg_0564.png\n",
      "kıyafet\\MASKS\\seg_0565.png\n",
      "kıyafet\\MASKS\\seg_0566.png\n",
      "kıyafet\\MASKS\\seg_0567.png\n",
      "kıyafet\\MASKS\\seg_0568.png\n",
      "kıyafet\\MASKS\\seg_0569.png\n",
      "kıyafet\\MASKS\\seg_0570.png\n",
      "kıyafet\\MASKS\\seg_0571.png\n",
      "kıyafet\\MASKS\\seg_0572.png\n",
      "kıyafet\\MASKS\\seg_0573.png\n",
      "kıyafet\\MASKS\\seg_0574.png\n",
      "kıyafet\\MASKS\\seg_0575.png\n",
      "kıyafet\\MASKS\\seg_0576.png\n",
      "kıyafet\\MASKS\\seg_0577.png\n",
      "kıyafet\\MASKS\\seg_0578.png\n",
      "kıyafet\\MASKS\\seg_0579.png\n",
      "kıyafet\\MASKS\\seg_0580.png\n",
      "kıyafet\\MASKS\\seg_0581.png\n",
      "kıyafet\\MASKS\\seg_0582.png\n",
      "kıyafet\\MASKS\\seg_0583.png\n",
      "kıyafet\\MASKS\\seg_0584.png\n",
      "kıyafet\\MASKS\\seg_0585.png\n",
      "kıyafet\\MASKS\\seg_0586.png\n",
      "kıyafet\\MASKS\\seg_0587.png\n",
      "kıyafet\\MASKS\\seg_0588.png\n",
      "kıyafet\\MASKS\\seg_0589.png\n",
      "kıyafet\\MASKS\\seg_0590.png\n",
      "kıyafet\\MASKS\\seg_0591.png\n",
      "kıyafet\\MASKS\\seg_0592.png\n",
      "kıyafet\\MASKS\\seg_0593.png\n",
      "kıyafet\\MASKS\\seg_0594.png\n",
      "kıyafet\\MASKS\\seg_0595.png\n",
      "kıyafet\\MASKS\\seg_0596.png\n",
      "kıyafet\\MASKS\\seg_0597.png\n",
      "kıyafet\\MASKS\\seg_0598.png\n",
      "kıyafet\\MASKS\\seg_0599.png\n",
      "kıyafet\\MASKS\\seg_0600.png\n",
      "kıyafet\\MASKS\\seg_0601.png\n",
      "kıyafet\\MASKS\\seg_0602.png\n",
      "kıyafet\\MASKS\\seg_0603.png\n",
      "kıyafet\\MASKS\\seg_0604.png\n",
      "kıyafet\\MASKS\\seg_0605.png\n",
      "kıyafet\\MASKS\\seg_0606.png\n",
      "kıyafet\\MASKS\\seg_0607.png\n",
      "kıyafet\\MASKS\\seg_0608.png\n",
      "kıyafet\\MASKS\\seg_0609.png\n",
      "kıyafet\\MASKS\\seg_0610.png\n",
      "kıyafet\\MASKS\\seg_0611.png\n",
      "kıyafet\\MASKS\\seg_0612.png\n",
      "kıyafet\\MASKS\\seg_0613.png\n",
      "kıyafet\\MASKS\\seg_0614.png\n",
      "kıyafet\\MASKS\\seg_0615.png\n",
      "kıyafet\\MASKS\\seg_0616.png\n",
      "kıyafet\\MASKS\\seg_0617.png\n",
      "kıyafet\\MASKS\\seg_0618.png\n",
      "kıyafet\\MASKS\\seg_0619.png\n",
      "kıyafet\\MASKS\\seg_0620.png\n",
      "kıyafet\\MASKS\\seg_0621.png\n",
      "kıyafet\\MASKS\\seg_0622.png\n",
      "kıyafet\\MASKS\\seg_0623.png\n",
      "kıyafet\\MASKS\\seg_0624.png\n",
      "kıyafet\\MASKS\\seg_0625.png\n",
      "kıyafet\\MASKS\\seg_0626.png\n",
      "kıyafet\\MASKS\\seg_0627.png\n",
      "kıyafet\\MASKS\\seg_0628.png\n",
      "kıyafet\\MASKS\\seg_0629.png\n",
      "kıyafet\\MASKS\\seg_0630.png\n",
      "kıyafet\\MASKS\\seg_0631.png\n",
      "kıyafet\\MASKS\\seg_0632.png\n",
      "kıyafet\\MASKS\\seg_0633.png\n",
      "kıyafet\\MASKS\\seg_0634.png\n",
      "kıyafet\\MASKS\\seg_0635.png\n",
      "kıyafet\\MASKS\\seg_0636.png\n",
      "kıyafet\\MASKS\\seg_0637.png\n",
      "kıyafet\\MASKS\\seg_0638.png\n",
      "kıyafet\\MASKS\\seg_0639.png\n",
      "kıyafet\\MASKS\\seg_0640.png\n",
      "kıyafet\\MASKS\\seg_0641.png\n",
      "kıyafet\\MASKS\\seg_0642.png\n",
      "kıyafet\\MASKS\\seg_0643.png\n",
      "kıyafet\\MASKS\\seg_0644.png\n",
      "kıyafet\\MASKS\\seg_0645.png\n",
      "kıyafet\\MASKS\\seg_0646.png\n",
      "kıyafet\\MASKS\\seg_0647.png\n",
      "kıyafet\\MASKS\\seg_0648.png\n",
      "kıyafet\\MASKS\\seg_0649.png\n",
      "kıyafet\\MASKS\\seg_0650.png\n",
      "kıyafet\\MASKS\\seg_0651.png\n",
      "kıyafet\\MASKS\\seg_0652.png\n",
      "kıyafet\\MASKS\\seg_0653.png\n",
      "kıyafet\\MASKS\\seg_0654.png\n",
      "kıyafet\\MASKS\\seg_0655.png\n",
      "kıyafet\\MASKS\\seg_0656.png\n",
      "kıyafet\\MASKS\\seg_0657.png\n",
      "kıyafet\\MASKS\\seg_0658.png\n",
      "kıyafet\\MASKS\\seg_0659.png\n",
      "kıyafet\\MASKS\\seg_0660.png\n",
      "kıyafet\\MASKS\\seg_0661.png\n",
      "kıyafet\\MASKS\\seg_0662.png\n",
      "kıyafet\\MASKS\\seg_0663.png\n",
      "kıyafet\\MASKS\\seg_0664.png\n",
      "kıyafet\\MASKS\\seg_0665.png\n",
      "kıyafet\\MASKS\\seg_0666.png\n",
      "kıyafet\\MASKS\\seg_0667.png\n",
      "kıyafet\\MASKS\\seg_0668.png\n",
      "kıyafet\\MASKS\\seg_0669.png\n",
      "kıyafet\\MASKS\\seg_0670.png\n",
      "kıyafet\\MASKS\\seg_0671.png\n",
      "kıyafet\\MASKS\\seg_0672.png\n",
      "kıyafet\\MASKS\\seg_0673.png\n",
      "kıyafet\\MASKS\\seg_0674.png\n",
      "kıyafet\\MASKS\\seg_0675.png\n",
      "kıyafet\\MASKS\\seg_0676.png\n",
      "kıyafet\\MASKS\\seg_0677.png\n",
      "kıyafet\\MASKS\\seg_0678.png\n",
      "kıyafet\\MASKS\\seg_0679.png\n",
      "kıyafet\\MASKS\\seg_0680.png\n",
      "kıyafet\\MASKS\\seg_0681.png\n",
      "kıyafet\\MASKS\\seg_0682.png\n",
      "kıyafet\\MASKS\\seg_0683.png\n",
      "kıyafet\\MASKS\\seg_0684.png\n",
      "kıyafet\\MASKS\\seg_0685.png\n",
      "kıyafet\\MASKS\\seg_0686.png\n",
      "kıyafet\\MASKS\\seg_0687.png\n",
      "kıyafet\\MASKS\\seg_0688.png\n",
      "kıyafet\\MASKS\\seg_0689.png\n",
      "kıyafet\\MASKS\\seg_0690.png\n",
      "kıyafet\\MASKS\\seg_0691.png\n",
      "kıyafet\\MASKS\\seg_0692.png\n",
      "kıyafet\\MASKS\\seg_0693.png\n",
      "kıyafet\\MASKS\\seg_0694.png\n",
      "kıyafet\\MASKS\\seg_0695.png\n",
      "kıyafet\\MASKS\\seg_0696.png\n",
      "kıyafet\\MASKS\\seg_0697.png\n",
      "kıyafet\\MASKS\\seg_0698.png\n",
      "kıyafet\\MASKS\\seg_0699.png\n",
      "kıyafet\\MASKS\\seg_0700.png\n",
      "kıyafet\\MASKS\\seg_0701.png\n",
      "kıyafet\\MASKS\\seg_0702.png\n",
      "kıyafet\\MASKS\\seg_0703.png\n",
      "kıyafet\\MASKS\\seg_0704.png\n",
      "kıyafet\\MASKS\\seg_0705.png\n",
      "kıyafet\\MASKS\\seg_0706.png\n",
      "kıyafet\\MASKS\\seg_0707.png\n",
      "kıyafet\\MASKS\\seg_0708.png\n",
      "kıyafet\\MASKS\\seg_0709.png\n",
      "kıyafet\\MASKS\\seg_0710.png\n",
      "kıyafet\\MASKS\\seg_0711.png\n",
      "kıyafet\\MASKS\\seg_0712.png\n",
      "kıyafet\\MASKS\\seg_0713.png\n",
      "kıyafet\\MASKS\\seg_0714.png\n",
      "kıyafet\\MASKS\\seg_0715.png\n",
      "kıyafet\\MASKS\\seg_0716.png\n",
      "kıyafet\\MASKS\\seg_0717.png\n",
      "kıyafet\\MASKS\\seg_0718.png\n",
      "kıyafet\\MASKS\\seg_0719.png\n",
      "kıyafet\\MASKS\\seg_0720.png\n",
      "kıyafet\\MASKS\\seg_0721.png\n",
      "kıyafet\\MASKS\\seg_0722.png\n",
      "kıyafet\\MASKS\\seg_0723.png\n",
      "kıyafet\\MASKS\\seg_0724.png\n",
      "kıyafet\\MASKS\\seg_0725.png\n",
      "kıyafet\\MASKS\\seg_0726.png\n",
      "kıyafet\\MASKS\\seg_0727.png\n",
      "kıyafet\\MASKS\\seg_0728.png\n",
      "kıyafet\\MASKS\\seg_0729.png\n",
      "kıyafet\\MASKS\\seg_0730.png\n",
      "kıyafet\\MASKS\\seg_0731.png\n",
      "kıyafet\\MASKS\\seg_0732.png\n",
      "kıyafet\\MASKS\\seg_0733.png\n",
      "kıyafet\\MASKS\\seg_0734.png\n",
      "kıyafet\\MASKS\\seg_0735.png\n",
      "kıyafet\\MASKS\\seg_0736.png\n",
      "kıyafet\\MASKS\\seg_0737.png\n",
      "kıyafet\\MASKS\\seg_0738.png\n",
      "kıyafet\\MASKS\\seg_0739.png\n",
      "kıyafet\\MASKS\\seg_0740.png\n",
      "kıyafet\\MASKS\\seg_0741.png\n",
      "kıyafet\\MASKS\\seg_0742.png\n",
      "kıyafet\\MASKS\\seg_0743.png\n",
      "kıyafet\\MASKS\\seg_0744.png\n",
      "kıyafet\\MASKS\\seg_0745.png\n",
      "kıyafet\\MASKS\\seg_0746.png\n",
      "kıyafet\\MASKS\\seg_0747.png\n",
      "kıyafet\\MASKS\\seg_0748.png\n",
      "kıyafet\\MASKS\\seg_0749.png\n",
      "kıyafet\\MASKS\\seg_0750.png\n",
      "kıyafet\\MASKS\\seg_0751.png\n",
      "kıyafet\\MASKS\\seg_0752.png\n",
      "kıyafet\\MASKS\\seg_0753.png\n",
      "kıyafet\\MASKS\\seg_0754.png\n",
      "kıyafet\\MASKS\\seg_0755.png\n",
      "kıyafet\\MASKS\\seg_0756.png\n",
      "kıyafet\\MASKS\\seg_0757.png\n",
      "kıyafet\\MASKS\\seg_0758.png\n",
      "kıyafet\\MASKS\\seg_0759.png\n",
      "kıyafet\\MASKS\\seg_0760.png\n",
      "kıyafet\\MASKS\\seg_0761.png\n",
      "kıyafet\\MASKS\\seg_0762.png\n",
      "kıyafet\\MASKS\\seg_0763.png\n",
      "kıyafet\\MASKS\\seg_0764.png\n",
      "kıyafet\\MASKS\\seg_0765.png\n",
      "kıyafet\\MASKS\\seg_0766.png\n",
      "kıyafet\\MASKS\\seg_0767.png\n",
      "kıyafet\\MASKS\\seg_0768.png\n",
      "kıyafet\\MASKS\\seg_0769.png\n",
      "kıyafet\\MASKS\\seg_0770.png\n",
      "kıyafet\\MASKS\\seg_0771.png\n",
      "kıyafet\\MASKS\\seg_0772.png\n",
      "kıyafet\\MASKS\\seg_0773.png\n",
      "kıyafet\\MASKS\\seg_0774.png\n",
      "kıyafet\\MASKS\\seg_0775.png\n",
      "kıyafet\\MASKS\\seg_0776.png\n",
      "kıyafet\\MASKS\\seg_0777.png\n",
      "kıyafet\\MASKS\\seg_0778.png\n",
      "kıyafet\\MASKS\\seg_0779.png\n",
      "kıyafet\\MASKS\\seg_0780.png\n",
      "kıyafet\\MASKS\\seg_0781.png\n",
      "kıyafet\\MASKS\\seg_0782.png\n",
      "kıyafet\\MASKS\\seg_0783.png\n",
      "kıyafet\\MASKS\\seg_0784.png\n",
      "kıyafet\\MASKS\\seg_0785.png\n",
      "kıyafet\\MASKS\\seg_0786.png\n",
      "kıyafet\\MASKS\\seg_0787.png\n",
      "kıyafet\\MASKS\\seg_0788.png\n",
      "kıyafet\\MASKS\\seg_0789.png\n",
      "kıyafet\\MASKS\\seg_0790.png\n",
      "kıyafet\\MASKS\\seg_0791.png\n",
      "kıyafet\\MASKS\\seg_0792.png\n",
      "kıyafet\\MASKS\\seg_0793.png\n",
      "kıyafet\\MASKS\\seg_0794.png\n",
      "kıyafet\\MASKS\\seg_0795.png\n",
      "kıyafet\\MASKS\\seg_0796.png\n",
      "kıyafet\\MASKS\\seg_0797.png\n",
      "kıyafet\\MASKS\\seg_0798.png\n",
      "kıyafet\\MASKS\\seg_0799.png\n",
      "kıyafet\\MASKS\\seg_0800.png\n",
      "kıyafet\\MASKS\\seg_0801.png\n",
      "kıyafet\\MASKS\\seg_0802.png\n",
      "kıyafet\\MASKS\\seg_0803.png\n",
      "kıyafet\\MASKS\\seg_0804.png\n",
      "kıyafet\\MASKS\\seg_0805.png\n",
      "kıyafet\\MASKS\\seg_0806.png\n",
      "kıyafet\\MASKS\\seg_0807.png\n",
      "kıyafet\\MASKS\\seg_0808.png\n",
      "kıyafet\\MASKS\\seg_0809.png\n",
      "kıyafet\\MASKS\\seg_0810.png\n",
      "kıyafet\\MASKS\\seg_0811.png\n",
      "kıyafet\\MASKS\\seg_0812.png\n",
      "kıyafet\\MASKS\\seg_0813.png\n",
      "kıyafet\\MASKS\\seg_0814.png\n",
      "kıyafet\\MASKS\\seg_0815.png\n",
      "kıyafet\\MASKS\\seg_0816.png\n",
      "kıyafet\\MASKS\\seg_0817.png\n",
      "kıyafet\\MASKS\\seg_0818.png\n",
      "kıyafet\\MASKS\\seg_0819.png\n",
      "kıyafet\\MASKS\\seg_0820.png\n",
      "kıyafet\\MASKS\\seg_0821.png\n",
      "kıyafet\\MASKS\\seg_0822.png\n",
      "kıyafet\\MASKS\\seg_0823.png\n",
      "kıyafet\\MASKS\\seg_0824.png\n",
      "kıyafet\\MASKS\\seg_0825.png\n",
      "kıyafet\\MASKS\\seg_0826.png\n",
      "kıyafet\\MASKS\\seg_0827.png\n",
      "kıyafet\\MASKS\\seg_0828.png\n",
      "kıyafet\\MASKS\\seg_0829.png\n",
      "kıyafet\\MASKS\\seg_0830.png\n",
      "kıyafet\\MASKS\\seg_0831.png\n",
      "kıyafet\\MASKS\\seg_0832.png\n",
      "kıyafet\\MASKS\\seg_0833.png\n",
      "kıyafet\\MASKS\\seg_0834.png\n",
      "kıyafet\\MASKS\\seg_0835.png\n",
      "kıyafet\\MASKS\\seg_0836.png\n",
      "kıyafet\\MASKS\\seg_0837.png\n",
      "kıyafet\\MASKS\\seg_0838.png\n",
      "kıyafet\\MASKS\\seg_0839.png\n",
      "kıyafet\\MASKS\\seg_0840.png\n",
      "kıyafet\\MASKS\\seg_0841.png\n",
      "kıyafet\\MASKS\\seg_0842.png\n",
      "kıyafet\\MASKS\\seg_0843.png\n",
      "kıyafet\\MASKS\\seg_0844.png\n",
      "kıyafet\\MASKS\\seg_0845.png\n",
      "kıyafet\\MASKS\\seg_0846.png\n",
      "kıyafet\\MASKS\\seg_0847.png\n",
      "kıyafet\\MASKS\\seg_0848.png\n",
      "kıyafet\\MASKS\\seg_0849.png\n",
      "kıyafet\\MASKS\\seg_0850.png\n",
      "kıyafet\\MASKS\\seg_0851.png\n",
      "kıyafet\\MASKS\\seg_0852.png\n",
      "kıyafet\\MASKS\\seg_0853.png\n",
      "kıyafet\\MASKS\\seg_0854.png\n",
      "kıyafet\\MASKS\\seg_0855.png\n",
      "kıyafet\\MASKS\\seg_0856.png\n",
      "kıyafet\\MASKS\\seg_0857.png\n",
      "kıyafet\\MASKS\\seg_0858.png\n",
      "kıyafet\\MASKS\\seg_0859.png\n",
      "kıyafet\\MASKS\\seg_0860.png\n",
      "kıyafet\\MASKS\\seg_0861.png\n",
      "kıyafet\\MASKS\\seg_0862.png\n",
      "kıyafet\\MASKS\\seg_0863.png\n",
      "kıyafet\\MASKS\\seg_0864.png\n",
      "kıyafet\\MASKS\\seg_0865.png\n",
      "kıyafet\\MASKS\\seg_0866.png\n",
      "kıyafet\\MASKS\\seg_0867.png\n",
      "kıyafet\\MASKS\\seg_0868.png\n",
      "kıyafet\\MASKS\\seg_0869.png\n",
      "kıyafet\\MASKS\\seg_0870.png\n",
      "kıyafet\\MASKS\\seg_0871.png\n",
      "kıyafet\\MASKS\\seg_0872.png\n",
      "kıyafet\\MASKS\\seg_0873.png\n",
      "kıyafet\\MASKS\\seg_0874.png\n",
      "kıyafet\\MASKS\\seg_0875.png\n",
      "kıyafet\\MASKS\\seg_0876.png\n",
      "kıyafet\\MASKS\\seg_0877.png\n",
      "kıyafet\\MASKS\\seg_0878.png\n",
      "kıyafet\\MASKS\\seg_0879.png\n",
      "kıyafet\\MASKS\\seg_0880.png\n",
      "kıyafet\\MASKS\\seg_0881.png\n",
      "kıyafet\\MASKS\\seg_0882.png\n",
      "kıyafet\\MASKS\\seg_0883.png\n",
      "kıyafet\\MASKS\\seg_0884.png\n",
      "kıyafet\\MASKS\\seg_0885.png\n",
      "kıyafet\\MASKS\\seg_0886.png\n",
      "kıyafet\\MASKS\\seg_0887.png\n",
      "kıyafet\\MASKS\\seg_0888.png\n",
      "kıyafet\\MASKS\\seg_0889.png\n",
      "kıyafet\\MASKS\\seg_0890.png\n",
      "kıyafet\\MASKS\\seg_0891.png\n",
      "kıyafet\\MASKS\\seg_0892.png\n",
      "kıyafet\\MASKS\\seg_0893.png\n",
      "kıyafet\\MASKS\\seg_0894.png\n",
      "kıyafet\\MASKS\\seg_0895.png\n",
      "kıyafet\\MASKS\\seg_0896.png\n",
      "kıyafet\\MASKS\\seg_0897.png\n",
      "kıyafet\\MASKS\\seg_0898.png\n",
      "kıyafet\\MASKS\\seg_0899.png\n",
      "kıyafet\\MASKS\\seg_0900.png\n",
      "kıyafet\\MASKS\\seg_0901.png\n",
      "kıyafet\\MASKS\\seg_0902.png\n",
      "kıyafet\\MASKS\\seg_0903.png\n",
      "kıyafet\\MASKS\\seg_0904.png\n",
      "kıyafet\\MASKS\\seg_0905.png\n",
      "kıyafet\\MASKS\\seg_0906.png\n",
      "kıyafet\\MASKS\\seg_0907.png\n",
      "kıyafet\\MASKS\\seg_0908.png\n",
      "kıyafet\\MASKS\\seg_0909.png\n",
      "kıyafet\\MASKS\\seg_0910.png\n",
      "kıyafet\\MASKS\\seg_0911.png\n",
      "kıyafet\\MASKS\\seg_0912.png\n",
      "kıyafet\\MASKS\\seg_0913.png\n",
      "kıyafet\\MASKS\\seg_0914.png\n",
      "kıyafet\\MASKS\\seg_0915.png\n",
      "kıyafet\\MASKS\\seg_0916.png\n",
      "kıyafet\\MASKS\\seg_0917.png\n",
      "kıyafet\\MASKS\\seg_0918.png\n",
      "kıyafet\\MASKS\\seg_0919.png\n",
      "kıyafet\\MASKS\\seg_0920.png\n",
      "kıyafet\\MASKS\\seg_0921.png\n",
      "kıyafet\\MASKS\\seg_0922.png\n",
      "kıyafet\\MASKS\\seg_0923.png\n",
      "kıyafet\\MASKS\\seg_0924.png\n",
      "kıyafet\\MASKS\\seg_0925.png\n",
      "kıyafet\\MASKS\\seg_0926.png\n",
      "kıyafet\\MASKS\\seg_0927.png\n",
      "kıyafet\\MASKS\\seg_0928.png\n",
      "kıyafet\\MASKS\\seg_0929.png\n",
      "kıyafet\\MASKS\\seg_0930.png\n",
      "kıyafet\\MASKS\\seg_0931.png\n",
      "kıyafet\\MASKS\\seg_0932.png\n",
      "kıyafet\\MASKS\\seg_0933.png\n",
      "kıyafet\\MASKS\\seg_0934.png\n",
      "kıyafet\\MASKS\\seg_0935.png\n",
      "kıyafet\\MASKS\\seg_0936.png\n",
      "kıyafet\\MASKS\\seg_0937.png\n",
      "kıyafet\\MASKS\\seg_0938.png\n",
      "kıyafet\\MASKS\\seg_0939.png\n",
      "kıyafet\\MASKS\\seg_0940.png\n",
      "kıyafet\\MASKS\\seg_0941.png\n",
      "kıyafet\\MASKS\\seg_0942.png\n",
      "kıyafet\\MASKS\\seg_0943.png\n",
      "kıyafet\\MASKS\\seg_0944.png\n",
      "kıyafet\\MASKS\\seg_0945.png\n",
      "kıyafet\\MASKS\\seg_0946.png\n",
      "kıyafet\\MASKS\\seg_0947.png\n",
      "kıyafet\\MASKS\\seg_0948.png\n",
      "kıyafet\\MASKS\\seg_0949.png\n",
      "kıyafet\\MASKS\\seg_0950.png\n",
      "kıyafet\\MASKS\\seg_0951.png\n",
      "kıyafet\\MASKS\\seg_0952.png\n",
      "kıyafet\\MASKS\\seg_0953.png\n",
      "kıyafet\\MASKS\\seg_0954.png\n",
      "kıyafet\\MASKS\\seg_0955.png\n",
      "kıyafet\\MASKS\\seg_0956.png\n",
      "kıyafet\\MASKS\\seg_0957.png\n",
      "kıyafet\\MASKS\\seg_0958.png\n",
      "kıyafet\\MASKS\\seg_0959.png\n",
      "kıyafet\\MASKS\\seg_0960.png\n",
      "kıyafet\\MASKS\\seg_0961.png\n",
      "kıyafet\\MASKS\\seg_0962.png\n",
      "kıyafet\\MASKS\\seg_0963.png\n",
      "kıyafet\\MASKS\\seg_0964.png\n",
      "kıyafet\\MASKS\\seg_0965.png\n",
      "kıyafet\\MASKS\\seg_0966.png\n",
      "kıyafet\\MASKS\\seg_0967.png\n",
      "kıyafet\\MASKS\\seg_0968.png\n",
      "kıyafet\\MASKS\\seg_0969.png\n",
      "kıyafet\\MASKS\\seg_0970.png\n",
      "kıyafet\\MASKS\\seg_0971.png\n",
      "kıyafet\\MASKS\\seg_0972.png\n",
      "kıyafet\\MASKS\\seg_0973.png\n",
      "kıyafet\\MASKS\\seg_0974.png\n",
      "kıyafet\\MASKS\\seg_0975.png\n",
      "kıyafet\\MASKS\\seg_0976.png\n",
      "kıyafet\\MASKS\\seg_0977.png\n",
      "kıyafet\\MASKS\\seg_0978.png\n",
      "kıyafet\\MASKS\\seg_0979.png\n",
      "kıyafet\\MASKS\\seg_0980.png\n",
      "kıyafet\\MASKS\\seg_0981.png\n",
      "kıyafet\\MASKS\\seg_0982.png\n",
      "kıyafet\\MASKS\\seg_0983.png\n",
      "kıyafet\\MASKS\\seg_0984.png\n",
      "kıyafet\\MASKS\\seg_0985.png\n",
      "kıyafet\\MASKS\\seg_0986.png\n",
      "kıyafet\\MASKS\\seg_0987.png\n",
      "kıyafet\\MASKS\\seg_0988.png\n",
      "kıyafet\\MASKS\\seg_0989.png\n",
      "kıyafet\\MASKS\\seg_0990.png\n",
      "kıyafet\\MASKS\\seg_0991.png\n",
      "kıyafet\\MASKS\\seg_0992.png\n",
      "kıyafet\\MASKS\\seg_0993.png\n",
      "kıyafet\\MASKS\\seg_0994.png\n",
      "kıyafet\\MASKS\\seg_0995.png\n",
      "kıyafet\\MASKS\\seg_0996.png\n",
      "kıyafet\\MASKS\\seg_0997.png\n",
      "kıyafet\\MASKS\\seg_0998.png\n",
      "kıyafet\\MASKS\\seg_0999.png\n",
      "kıyafet\\MASKS\\seg_1000.png\n"
     ]
    }
   ],
   "source": [
    "for dirname, _, filenames in os.walk('kıyafet'):\n",
    "    for filename in filenames:\n",
    "        print(os.path.join(dirname, filename))"
   ]
  },
  {
   "cell_type": "code",
   "execution_count": 7,
   "id": "3a0fc113a55b355b",
   "metadata": {
    "ExecuteTime": {
     "end_time": "2025-05-24T22:35:44.733585Z",
     "start_time": "2025-05-24T22:35:44.712372Z"
    }
   },
   "outputs": [],
   "source": [
    "class DoubleConvolution(nn.Module):\n",
    "    def __init__(self, in_channels: int, out_channels: int, dropout_rate=0.2):\n",
    "        super().__init__()\n",
    "\n",
    "        self.first = nn.Conv2d(in_channels, out_channels, kernel_size=3, padding=1)\n",
    "        self.batchN2 = nn.BatchNorm2d(out_channels)\n",
    "        self.act1 = nn.ReLU()\n",
    "\n",
    "        self.second = nn.Conv2d(out_channels, out_channels, kernel_size=3, padding=1)\n",
    "        self.act2 = nn.ReLU()\n",
    "\n",
    "        self.dropout = nn.Dropout2d(p=dropout_rate)  # Dropout2d tercih edilir\n",
    "\n",
    "    def forward(self, x: torch.Tensor):\n",
    "        x = self.first(x)\n",
    "        x = self.batchN2(x)\n",
    "        x = self.act1(x)\n",
    "        x = self.dropout(x)  # Dropout burada çalışır\n",
    "        x = self.second(x)\n",
    "        return self.act2(x)\n"
   ]
  },
  {
   "cell_type": "code",
   "execution_count": 8,
   "id": "48048cc09f0bd5de",
   "metadata": {
    "ExecuteTime": {
     "end_time": "2025-05-24T22:35:46.925916Z",
     "start_time": "2025-05-24T22:35:46.912369Z"
    }
   },
   "outputs": [],
   "source": [
    "class DownSample(nn.Module):\n",
    "    def __init__(self):\n",
    "        super().__init__()\n",
    "        self.pool = nn.MaxPool2d(2)\n",
    "\n",
    "    def forward(self, x:torch.Tensor):\n",
    "        return self.pool(x)"
   ]
  },
  {
   "cell_type": "code",
   "execution_count": 9,
   "id": "5d7a92b16c04c987",
   "metadata": {
    "ExecuteTime": {
     "end_time": "2025-05-24T22:35:47.947564Z",
     "start_time": "2025-05-24T22:35:47.932314Z"
    }
   },
   "outputs": [],
   "source": [
    "class UpSample(nn.Module):\n",
    "    def __init__(self, in_channels:int, out_channels:int):\n",
    "        super().__init__()\n",
    "\n",
    "        self.up = nn.ConvTranspose2d(in_channels, out_channels, kernel_size=2, stride=2)\n",
    "\n",
    "    def forward(self, x:torch.Tensor):\n",
    "        return self.up(x)"
   ]
  },
  {
   "cell_type": "code",
   "execution_count": 10,
   "id": "6305a69028681cff",
   "metadata": {
    "ExecuteTime": {
     "end_time": "2025-05-24T22:35:49.101576Z",
     "start_time": "2025-05-24T22:35:49.069874Z"
    }
   },
   "outputs": [],
   "source": [
    "class UNet(nn.Module):\n",
    "    def __init__(self, in_channels: int, out_channels: int):\n",
    "        super().__init__()\n",
    "\n",
    "        self.down_conv = nn.ModuleList([\n",
    "            DoubleConvolution(in_channels, 64),\n",
    "            DoubleConvolution(64, 128),\n",
    "            DoubleConvolution(128, 256),\n",
    "        ])\n",
    "        self.down_sample = nn.ModuleList([DownSample() for _ in range(3)])\n",
    "\n",
    "        self.mid_conv = DoubleConvolution(256, 512)\n",
    "\n",
    "        self.up_sample = nn.ModuleList([\n",
    "            UpSample(512, 256),\n",
    "            UpSample(256, 128),\n",
    "            UpSample(128, 64),\n",
    "        ])\n",
    "        self.up_conv = nn.ModuleList([\n",
    "            DoubleConvolution(512, 256),\n",
    "            DoubleConvolution(256, 128),\n",
    "            DoubleConvolution(128, 64),\n",
    "        ])\n",
    "\n",
    "        self.final_conv = nn.Conv2d(64, out_channels, kernel_size=1)\n",
    "\n",
    "    def forward(self, x: torch.Tensor):\n",
    "        skip_connections = []\n",
    "\n",
    "        for down, pool in zip(self.down_conv, self.down_sample):\n",
    "            x = down(x)\n",
    "            skip_connections.append(x)\n",
    "            x = pool(x)\n",
    "\n",
    "        x = self.mid_conv(x)\n",
    "        skip_connections = skip_connections[::-1]\n",
    "\n",
    "        for idx in range(len(self.up_sample)):\n",
    "            x = self.up_sample[idx](x)\n",
    "            skip = skip_connections[idx]\n",
    "\n",
    "            if x.shape != skip.shape:\n",
    "                diffY = skip.size(2) - x.size(2)\n",
    "                diffX = skip.size(3) - x.size(3)\n",
    "                skip = skip[:, :, diffY // 2: diffY // 2 + x.size(2), diffX // 2: diffX // 2 + x.size(3)]\n",
    "\n",
    "            x = torch.cat((skip, x), dim=1)\n",
    "            x = self.up_conv[idx](x)\n",
    "\n",
    "        x = self.final_conv(x)\n",
    "        return x\n"
   ]
  },
  {
   "cell_type": "code",
   "execution_count": 11,
   "id": "73ed4342d4e7e58d",
   "metadata": {
    "ExecuteTime": {
     "end_time": "2025-05-24T22:35:52.648552Z",
     "start_time": "2025-05-24T22:35:52.622410Z"
    }
   },
   "outputs": [],
   "source": [
    "class ClothingSegmentationDataset(Dataset):\n",
    "    def __init__(self, image_dir, mask_dir, transform=None):\n",
    "        self.image_dir = image_dir\n",
    "        self.mask_dir = mask_dir\n",
    "        self.transform = transform\n",
    "\n",
    "        self.image_filenames = sorted(os.listdir(image_dir))\n",
    "        self.mask_filenames = sorted(os.listdir(mask_dir))\n",
    "\n",
    "    def __len__(self):\n",
    "        return len(self.image_filenames)\n",
    "\n",
    "    def __getitem__(self, idx):\n",
    "        img_path = os.path.join(self.image_dir, self.image_filenames[idx])\n",
    "        mask_path = os.path.join(self.mask_dir, self.mask_filenames[idx])\n",
    "\n",
    "        # ✅ NumPy array olarak dönüştür\n",
    "        image = np.array(Image.open(img_path).convert(\"RGB\"))\n",
    "        mask = np.array(Image.open(mask_path).convert(\"L\"))\n",
    "\n",
    "        if self.transform:\n",
    "            augmented = self.transform(image=image, mask=mask)\n",
    "            image = augmented[\"image\"]\n",
    "            mask = augmented[\"mask\"]\n",
    "\n",
    "        mask = mask.long()\n",
    "        return image, mask"
   ]
  },
  {
   "cell_type": "code",
   "execution_count": 12,
   "id": "77e81519801fa0b0",
   "metadata": {
    "ExecuteTime": {
     "end_time": "2025-05-24T22:35:54.558325Z",
     "start_time": "2025-05-24T22:35:54.542370Z"
    }
   },
   "outputs": [],
   "source": [
    "transform = A.Compose([\n",
    "    A.Resize(128, 128),\n",
    "    A.HorizontalFlip(p=0.5),\n",
    "    A.OneOf([\n",
    "        A.Sharpen(p=0.5),\n",
    "        A.Emboss(p=0.5),\n",
    "        A.RandomBrightnessContrast(p=0.5),\n",
    "    ], p=0.3),\n",
    "    A.Normalize(mean=(0.5, 0.5, 0.5), std=(0.5, 0.5, 0.5)),  # ✅ Zorunlu\n",
    "    ToTensorV2()\n",
    "])"
   ]
  },
  {
   "cell_type": "code",
   "execution_count": 13,
   "id": "26430f0815dcc521",
   "metadata": {
    "ExecuteTime": {
     "end_time": "2025-05-24T22:35:56.647905Z",
     "start_time": "2025-05-24T22:35:56.622160Z"
    }
   },
   "outputs": [],
   "source": [
    "image_dir = \"kıyafet/IMAGES\"\n",
    "mask_dir = \"kıyafet/MASKS\"\n",
    "\n",
    "dataset = ClothingSegmentationDataset(\n",
    "    image_dir=image_dir,\n",
    "    mask_dir=mask_dir,\n",
    "    transform=transform\n",
    ")"
   ]
  },
  {
   "cell_type": "code",
   "execution_count": 14,
   "id": "ed2d37bb714a5f26",
   "metadata": {
    "ExecuteTime": {
     "end_time": "2025-05-24T22:37:18.542514Z",
     "start_time": "2025-05-24T22:37:18.492906Z"
    }
   },
   "outputs": [],
   "source": [
    "test_size = int(0.1 * len(dataset))\n",
    "val_size = int(0.1 * len(dataset))\n",
    "train_size = len(dataset) - val_size - test_size\n",
    "xtrain, xval, xtest = random_split(dataset, [train_size, val_size, test_size])"
   ]
  },
  {
   "cell_type": "code",
   "execution_count": 15,
   "id": "7ae4d330a4e0cbe7",
   "metadata": {
    "ExecuteTime": {
     "end_time": "2025-05-24T22:37:19.496697Z",
     "start_time": "2025-05-24T22:37:19.471793Z"
    }
   },
   "outputs": [],
   "source": [
    "train_loader = DataLoader(xtrain, batch_size=16, shuffle=True)\n",
    "val_loader = DataLoader(xval, batch_size=16, shuffle=False)\n",
    "test_loader = DataLoader(xtest, batch_size=16, shuffle=False)"
   ]
  },
  {
   "cell_type": "code",
   "execution_count": 16,
   "id": "57bc362a4cfd5ed7",
   "metadata": {
    "ExecuteTime": {
     "end_time": "2025-05-24T22:37:20.601596Z",
     "start_time": "2025-05-24T22:37:20.451765Z"
    }
   },
   "outputs": [],
   "source": [
    "label_path = \"kıyafet/labels.csv\"\n",
    "labels = pd.read_csv(label_path)"
   ]
  },
  {
   "cell_type": "code",
   "execution_count": 20,
   "id": "34321f31dd8ca806",
   "metadata": {
    "ExecuteTime": {
     "end_time": "2025-05-24T22:38:51.128316Z",
     "start_time": "2025-05-24T22:38:49.679476Z"
    }
   },
   "outputs": [
    {
     "name": "stdout",
     "output_type": "stream",
     "text": [
      "Image example: ['img_0001.png', 'img_0002.png', 'img_0003.png', 'img_0004.png', 'img_0005.png']\n",
      "Mask example: ['seg_0001.png', 'seg_0002.png', 'seg_0003.png', 'seg_0004.png', 'seg_0005.png']\n"
     ]
    },
    {
     "data": {
      "image/png": "[encoded data removed]",
      "text/plain": [
       "<Figure size 1000x500 with 2 Axes>"
      ]
     },
     "metadata": {},
     "output_type": "display_data"
    }
   ],
   "source": [
    "print(\"Image example:\", dataset.image_filenames[:5])\n",
    "print(\"Mask example:\", dataset.mask_filenames[:5])\n",
    "\n",
    "def unnormalize(tensor, mean, std):\n",
    "    for t, m, s in zip(tensor, mean, std):\n",
    "        t.mul_(s).add_(m)\n",
    "    return tensor\n",
    "\n",
    "mean = [0.5, 0.5, 0.5]\n",
    "std = [0.5, 0.5, 0.5]\n",
    "\n",
    "train_iter = iter(train_loader)\n",
    "images, masks = next(train_iter)\n",
    "\n",
    "img_idx = 0\n",
    "image = images[img_idx].clone()\n",
    "mask = masks[img_idx]\n",
    "\n",
    "# Geri normalize et\n",
    "image = unnormalize(image, mean, std)\n",
    "\n",
    "# PIL formatına çevir\n",
    "image = TF.to_pil_image(image)\n",
    "\n",
    "# Görselleştir\n",
    "fig, ax = plt.subplots(1, 2, figsize=(10, 5))\n",
    "\n",
    "ax[0].imshow(image)\n",
    "ax[0].set_title(\"Image\")\n",
    "ax[0].axis(\"off\")\n",
    "\n",
    "ax[1].imshow(mask.numpy(), cmap=\"jet\")\n",
    "ax[1].set_title(\"Mask\")\n",
    "ax[1].axis(\"off\")\n",
    "\n",
    "plt.tight_layout()\n",
    "plt.show()\n"
   ]
  },
  {
   "cell_type": "code",
   "execution_count": 21,
   "id": "c433d3c8e13959ac",
   "metadata": {
    "ExecuteTime": {
     "end_time": "2025-05-24T22:38:55.284022Z",
     "start_time": "2025-05-24T22:38:55.251540Z"
    }
   },
   "outputs": [],
   "source": [
    "def edge_loss(pred, target, edge_weight=1.0):\n",
    "    # Sobel filtreleri\n",
    "    sobel_x = torch.tensor([[1, 0, -1],\n",
    "                            [2, 0, -2],\n",
    "                            [1, 0, -1]], dtype=torch.float32, device=pred.device).unsqueeze(0).unsqueeze(0)\n",
    "\n",
    "    sobel_y = torch.tensor([[1, 2, 1],\n",
    "                            [0, 0, 0],\n",
    "                            [-1, -2, -1]], dtype=torch.float32, device=pred.device).unsqueeze(0).unsqueeze(0)\n",
    "\n",
    "    # Tahmin edilen kenar haritası\n",
    "    pred_soft = F.softmax(pred, dim=1)\n",
    "    pred_edges = torch.abs(F.conv2d(pred_soft[:, 1:2], sobel_x, padding=1)) + \\\n",
    "                 torch.abs(F.conv2d(pred_soft[:, 1:2], sobel_y, padding=1))\n",
    "\n",
    "    # Gerçek maskeyi one-hot yap ve kenarları al\n",
    "    target_onehot = F.one_hot(target, num_classes=pred.shape[1]).permute(0, 3, 1, 2).float()\n",
    "    target_edges = torch.abs(F.conv2d(target_onehot[:, 1:2], sobel_x, padding=1)) + \\\n",
    "                   torch.abs(F.conv2d(target_onehot[:, 1:2], sobel_y, padding=1))\n",
    "\n",
    "    # Kenar farkları\n",
    "    return F.l1_loss(pred_edges, target_edges) * edge_weight\n",
    "\n",
    "\n",
    "def dice_loss(pred, target, smooth=1e-3):\n",
    "    intersection = (pred * target).sum(dim=(2, 3))\n",
    "    union = pred.sum(dim=(2, 3)) + target.sum(dim=(2, 3))\n",
    "    dice = (2 * intersection + smooth) / (union + smooth)\n",
    "    return 1 - dice.mean()\n",
    "\n",
    "\n",
    "def total_segmentation_loss(outputs, masks, weight_ce=1.0, weight_dice=1.0, weight_edge=0.6):\n",
    "    # Cross Entropy Loss\n",
    "    ce = F.cross_entropy(outputs, masks)\n",
    "\n",
    "    # Dice için hazırlık\n",
    "    masks_onehot = F.one_hot(masks, num_classes=outputs.shape[1]).permute(0, 3, 1, 2).float()\n",
    "    probs = F.softmax(outputs, dim=1)\n",
    "    d_loss = dice_loss(probs, masks_onehot)\n",
    "\n",
    "    # Edge-aware loss\n",
    "    e_loss = edge_loss(outputs, masks, edge_weight=1.0)\n",
    "\n",
    "    # Toplam\n",
    "    total = weight_ce * ce + weight_dice * d_loss + weight_edge * e_loss\n",
    "    return total\n"
   ]
  },
  {
   "cell_type": "code",
   "execution_count": 22,
   "id": "bb07b783cab65d1c",
   "metadata": {
    "ExecuteTime": {
     "end_time": "2025-05-24T22:38:57.620890Z",
     "start_time": "2025-05-24T22:38:57.456192Z"
    }
   },
   "outputs": [],
   "source": [
    "model = UNet(3, 59)\n"
   ]
  },
  {
   "cell_type": "code",
   "execution_count": 23,
   "id": "d9523cd05f7103",
   "metadata": {
    "ExecuteTime": {
     "end_time": "2025-05-24T22:38:58.452710Z",
     "start_time": "2025-05-24T22:38:58.441566Z"
    }
   },
   "outputs": [],
   "source": [
    "criterion = total_segmentation_loss\n",
    "optimizer = optim.Adam(model.parameters(), lr=1e-3)\n",
    "scheduler = optim.lr_scheduler.ReduceLROnPlateau(optimizer, mode=\"min\", factor=0.1, patience=5)"
   ]
  },
  {
   "cell_type": "code",
   "execution_count": 24,
   "id": "adaf58cd11dd2776",
   "metadata": {
    "ExecuteTime": {
     "end_time": "2025-05-24T22:39:01.911261Z",
     "start_time": "2025-05-24T22:39:00.081224Z"
    }
   },
   "outputs": [
    {
     "data": {
      "text/plain": [
       "UNet(\n",
       "  (down_conv): ModuleList(\n",
       "    (0): DoubleConvolution(\n",
       "      (first): Conv2d(3, 64, kernel_size=(3, 3), stride=(1, 1), padding=(1, 1))\n",
       "      (batchN2): BatchNorm2d(64, eps=1e-05, momentum=0.1, affine=True, track_running_stats=True)\n",
       "      (act1): ReLU()\n",
       "      (second): Conv2d(64, 64, kernel_size=(3, 3), stride=(1, 1), padding=(1, 1))\n",
       "      (act2): ReLU()\n",
       "      (dropout): Dropout2d(p=0.2, inplace=False)\n",
       "    )\n",
       "    (1): DoubleConvolution(\n",
       "      (first): Conv2d(64, 128, kernel_size=(3, 3), stride=(1, 1), padding=(1, 1))\n",
       "      (batchN2): BatchNorm2d(128, eps=1e-05, momentum=0.1, affine=True, track_running_stats=True)\n",
       "      (act1): ReLU()\n",
       "      (second): Conv2d(128, 128, kernel_size=(3, 3), stride=(1, 1), padding=(1, 1))\n",
       "      (act2): ReLU()\n",
       "      (dropout): Dropout2d(p=0.2, inplace=False)\n",
       "    )\n",
       "    (2): DoubleConvolution(\n",
       "      (first): Conv2d(128, 256, kernel_size=(3, 3), stride=(1, 1), padding=(1, 1))\n",
       "      (batchN2): BatchNorm2d(256, eps=1e-05, momentum=0.1, affine=True, track_running_stats=True)\n",
       "      (act1): ReLU()\n",
       "      (second): Conv2d(256, 256, kernel_size=(3, 3), stride=(1, 1), padding=(1, 1))\n",
       "      (act2): ReLU()\n",
       "      (dropout): Dropout2d(p=0.2, inplace=False)\n",
       "    )\n",
       "  )\n",
       "  (down_sample): ModuleList(\n",
       "    (0-2): 3 x DownSample(\n",
       "      (pool): MaxPool2d(kernel_size=2, stride=2, padding=0, dilation=1, ceil_mode=False)\n",
       "    )\n",
       "  )\n",
       "  (mid_conv): DoubleConvolution(\n",
       "    (first): Conv2d(256, 512, kernel_size=(3, 3), stride=(1, 1), padding=(1, 1))\n",
       "    (batchN2): BatchNorm2d(512, eps=1e-05, momentum=0.1, affine=True, track_running_stats=True)\n",
       "    (act1): ReLU()\n",
       "    (second): Conv2d(512, 512, kernel_size=(3, 3), stride=(1, 1), padding=(1, 1))\n",
       "    (act2): ReLU()\n",
       "    (dropout): Dropout2d(p=0.2, inplace=False)\n",
       "  )\n",
       "  (up_sample): ModuleList(\n",
       "    (0): UpSample(\n",
       "      (up): ConvTranspose2d(512, 256, kernel_size=(2, 2), stride=(2, 2))\n",
       "    )\n",
       "    (1): UpSample(\n",
       "      (up): ConvTranspose2d(256, 128, kernel_size=(2, 2), stride=(2, 2))\n",
       "    )\n",
       "    (2): UpSample(\n",
       "      (up): ConvTranspose2d(128, 64, kernel_size=(2, 2), stride=(2, 2))\n",
       "    )\n",
       "  )\n",
       "  (up_conv): ModuleList(\n",
       "    (0): DoubleConvolution(\n",
       "      (first): Conv2d(512, 256, kernel_size=(3, 3), stride=(1, 1), padding=(1, 1))\n",
       "      (batchN2): BatchNorm2d(256, eps=1e-05, momentum=0.1, affine=True, track_running_stats=True)\n",
       "      (act1): ReLU()\n",
       "      (second): Conv2d(256, 256, kernel_size=(3, 3), stride=(1, 1), padding=(1, 1))\n",
       "      (act2): ReLU()\n",
       "      (dropout): Dropout2d(p=0.2, inplace=False)\n",
       "    )\n",
       "    (1): DoubleConvolution(\n",
       "      (first): Conv2d(256, 128, kernel_size=(3, 3), stride=(1, 1), padding=(1, 1))\n",
       "      (batchN2): BatchNorm2d(128, eps=1e-05, momentum=0.1, affine=True, track_running_stats=True)\n",
       "      (act1): ReLU()\n",
       "      (second): Conv2d(128, 128, kernel_size=(3, 3), stride=(1, 1), padding=(1, 1))\n",
       "      (act2): ReLU()\n",
       "      (dropout): Dropout2d(p=0.2, inplace=False)\n",
       "    )\n",
       "    (2): DoubleConvolution(\n",
       "      (first): Conv2d(128, 64, kernel_size=(3, 3), stride=(1, 1), padding=(1, 1))\n",
       "      (batchN2): BatchNorm2d(64, eps=1e-05, momentum=0.1, affine=True, track_running_stats=True)\n",
       "      (act1): ReLU()\n",
       "      (second): Conv2d(64, 64, kernel_size=(3, 3), stride=(1, 1), padding=(1, 1))\n",
       "      (act2): ReLU()\n",
       "      (dropout): Dropout2d(p=0.2, inplace=False)\n",
       "    )\n",
       "  )\n",
       "  (final_conv): Conv2d(64, 59, kernel_size=(1, 1), stride=(1, 1))\n",
       ")"
      ]
     },
     "execution_count": 24,
     "metadata": {},
     "output_type": "execute_result"
    }
   ],
   "source": [
    "device = torch.device(\"cuda\" if torch.cuda.is_available() else \"cpu\")\n",
    "model.to (device)"
   ]
  },
  {
   "cell_type": "code",
   "execution_count": 25,
   "id": "5a47b96a3e01e6a5",
   "metadata": {
    "ExecuteTime": {
     "end_time": "2025-05-24T22:39:05.869746Z",
     "start_time": "2025-05-24T22:39:05.843029Z"
    }
   },
   "outputs": [],
   "source": [
    "##model save\n",
    "save_pth = r\"models\"\n",
    "model_files = [f for f in os.listdir(save_pth) if f.startswith(\"unet_model\") and f.endswith(\"pth\")]\n",
    "if not model_files:\n",
    "    model_filename = \"unet_model_1.pth\"\n",
    "else:\n",
    "    model_max_suffix = max([int(f.split('_')[-1].split('.')[0]) for f in model_files])\n",
    "    model_filename = f\"unet_model_{model_max_suffix + 1}.pth\"\n",
    "\n",
    "##graph save\n",
    "graphics_pth = r\"graphics\"\n",
    "if not os.path.exists(graphics_pth):\n",
    "    os.makedirs(graphics_pth)\n",
    "graphic_files = [f for f in os.listdir(graphics_pth) if f.startswith(\"graph\") and f.endswith(\"png\")]\n",
    "if not graphic_files:\n",
    "    graphic_filename = \"graph_1.png\"\n",
    "else:\n",
    "    graphic_max_suffix = max([int(f.split('_')[-1].split('.')[0]) for f in graphic_files])\n",
    "    graphic_filename = f\"graph_{graphic_max_suffix + 1}.png\"\n",
    "graphic_save_path = os.path.join(graphics_pth, graphic_filename)"
   ]
  },
  {
   "cell_type": "code",
   "execution_count": 129,
   "id": "953aa6e71e47fa8",
   "metadata": {
    "ExecuteTime": {
     "end_time": "2025-05-23T22:17:38.411787Z",
     "start_time": "2025-05-23T21:32:04.438783Z"
    }
   },
   "outputs": [
    {
     "name": "stdout",
     "output_type": "stream",
     "text": [
      "Start Training...\n",
      "Epoch 1\n"
     ]
    },
    {
     "name": "stderr",
     "output_type": "stream",
     "text": [
      "Training: 100%|██████████| 44/44 [00:22<00:00,  1.94it/s]\n"
     ]
    },
    {
     "name": "stdout",
     "output_type": "stream",
     "text": [
      "Train Loss: 2.3909, Train Accuracy: 0.7478\n"
     ]
    },
    {
     "name": "stderr",
     "output_type": "stream",
     "text": [
      "Validation: 100%|██████████| 10/10 [00:03<00:00,  3.17it/s]\n"
     ]
    },
    {
     "name": "stdout",
     "output_type": "stream",
     "text": [
      "Val Loss: 1.9639, Val Accuracy: 0.7696\n",
      "Epoch 2\n"
     ]
    },
    {
     "name": "stderr",
     "output_type": "stream",
     "text": [
      "Training: 100%|██████████| 44/44 [00:22<00:00,  1.97it/s]\n"
     ]
    },
    {
     "name": "stdout",
     "output_type": "stream",
     "text": [
      "Train Loss: 1.8992, Train Accuracy: 0.7727\n"
     ]
    },
    {
     "name": "stderr",
     "output_type": "stream",
     "text": [
      "Validation: 100%|██████████| 10/10 [00:03<00:00,  3.06it/s]\n"
     ]
    },
    {
     "name": "stdout",
     "output_type": "stream",
     "text": [
      "Val Loss: 1.8758, Val Accuracy: 0.7801\n",
      "Epoch 3\n"
     ]
    },
    {
     "name": "stderr",
     "output_type": "stream",
     "text": [
      "Training: 100%|██████████| 44/44 [00:22<00:00,  1.93it/s]\n"
     ]
    },
    {
     "name": "stdout",
     "output_type": "stream",
     "text": [
      "Train Loss: 1.8454, Train Accuracy: 0.7832\n"
     ]
    },
    {
     "name": "stderr",
     "output_type": "stream",
     "text": [
      "Validation: 100%|██████████| 10/10 [00:03<00:00,  3.04it/s]\n"
     ]
    },
    {
     "name": "stdout",
     "output_type": "stream",
     "text": [
      "Val Loss: 1.8461, Val Accuracy: 0.7857\n",
      "Epoch 4\n"
     ]
    },
    {
     "name": "stderr",
     "output_type": "stream",
     "text": [
      "Training: 100%|██████████| 44/44 [00:22<00:00,  1.91it/s]\n"
     ]
    },
    {
     "name": "stdout",
     "output_type": "stream",
     "text": [
      "Train Loss: 1.8041, Train Accuracy: 0.7884\n"
     ]
    },
    {
     "name": "stderr",
     "output_type": "stream",
     "text": [
      "Validation: 100%|██████████| 10/10 [00:03<00:00,  2.99it/s]\n"
     ]
    },
    {
     "name": "stdout",
     "output_type": "stream",
     "text": [
      "Val Loss: 1.8007, Val Accuracy: 0.7932\n",
      "Epoch 5\n"
     ]
    },
    {
     "name": "stderr",
     "output_type": "stream",
     "text": [
      "Training: 100%|██████████| 44/44 [00:23<00:00,  1.88it/s]\n"
     ]
    },
    {
     "name": "stdout",
     "output_type": "stream",
     "text": [
      "Train Loss: 1.7680, Train Accuracy: 0.7930\n"
     ]
    },
    {
     "name": "stderr",
     "output_type": "stream",
     "text": [
      "Validation: 100%|██████████| 10/10 [00:03<00:00,  2.93it/s]\n"
     ]
    },
    {
     "name": "stdout",
     "output_type": "stream",
     "text": [
      "Val Loss: 1.8177, Val Accuracy: 0.7890\n",
      "Epoch 6\n"
     ]
    },
    {
     "name": "stderr",
     "output_type": "stream",
     "text": [
      "Training: 100%|██████████| 44/44 [00:23<00:00,  1.86it/s]\n"
     ]
    },
    {
     "name": "stdout",
     "output_type": "stream",
     "text": [
      "Train Loss: 1.7260, Train Accuracy: 0.8018\n"
     ]
    },
    {
     "name": "stderr",
     "output_type": "stream",
     "text": [
      "Validation: 100%|██████████| 10/10 [00:03<00:00,  2.93it/s]\n"
     ]
    },
    {
     "name": "stdout",
     "output_type": "stream",
     "text": [
      "Val Loss: 1.6791, Val Accuracy: 0.8032\n",
      "Epoch 7\n"
     ]
    },
    {
     "name": "stderr",
     "output_type": "stream",
     "text": [
      "Training: 100%|██████████| 44/44 [00:23<00:00,  1.85it/s]\n"
     ]
    },
    {
     "name": "stdout",
     "output_type": "stream",
     "text": [
      "Train Loss: 1.4792, Train Accuracy: 0.8024\n"
     ]
    },
    {
     "name": "stderr",
     "output_type": "stream",
     "text": [
      "Validation: 100%|██████████| 10/10 [00:03<00:00,  2.86it/s]\n"
     ]
    },
    {
     "name": "stdout",
     "output_type": "stream",
     "text": [
      "Val Loss: 1.4032, Val Accuracy: 0.8040\n",
      "Epoch 8\n"
     ]
    },
    {
     "name": "stderr",
     "output_type": "stream",
     "text": [
      "Training: 100%|██████████| 44/44 [00:24<00:00,  1.82it/s]\n"
     ]
    },
    {
     "name": "stdout",
     "output_type": "stream",
     "text": [
      "Train Loss: 1.3423, Train Accuracy: 0.8054\n"
     ]
    },
    {
     "name": "stderr",
     "output_type": "stream",
     "text": [
      "Validation: 100%|██████████| 10/10 [00:03<00:00,  2.94it/s]\n"
     ]
    },
    {
     "name": "stdout",
     "output_type": "stream",
     "text": [
      "Val Loss: 1.3237, Val Accuracy: 0.8134\n",
      "Epoch 9\n"
     ]
    },
    {
     "name": "stderr",
     "output_type": "stream",
     "text": [
      "Training: 100%|██████████| 44/44 [00:23<00:00,  1.83it/s]\n"
     ]
    },
    {
     "name": "stdout",
     "output_type": "stream",
     "text": [
      "Train Loss: 1.3225, Train Accuracy: 0.8105\n"
     ]
    },
    {
     "name": "stderr",
     "output_type": "stream",
     "text": [
      "Validation: 100%|██████████| 10/10 [00:03<00:00,  2.81it/s]\n"
     ]
    },
    {
     "name": "stdout",
     "output_type": "stream",
     "text": [
      "Val Loss: 1.3175, Val Accuracy: 0.8124\n",
      "Epoch 10\n"
     ]
    },
    {
     "name": "stderr",
     "output_type": "stream",
     "text": [
      "Training: 100%|██████████| 44/44 [00:24<00:00,  1.81it/s]\n"
     ]
    },
    {
     "name": "stdout",
     "output_type": "stream",
     "text": [
      "Train Loss: 1.2968, Train Accuracy: 0.8145\n"
     ]
    },
    {
     "name": "stderr",
     "output_type": "stream",
     "text": [
      "Validation: 100%|██████████| 10/10 [00:03<00:00,  2.89it/s]\n"
     ]
    },
    {
     "name": "stdout",
     "output_type": "stream",
     "text": [
      "Val Loss: 1.3636, Val Accuracy: 0.8082\n",
      "Epoch 11\n"
     ]
    },
    {
     "name": "stderr",
     "output_type": "stream",
     "text": [
      "Training: 100%|██████████| 44/44 [00:24<00:00,  1.82it/s]\n"
     ]
    },
    {
     "name": "stdout",
     "output_type": "stream",
     "text": [
      "Train Loss: 1.2759, Train Accuracy: 0.8183\n"
     ]
    },
    {
     "name": "stderr",
     "output_type": "stream",
     "text": [
      "Validation: 100%|██████████| 10/10 [00:03<00:00,  2.88it/s]\n"
     ]
    },
    {
     "name": "stdout",
     "output_type": "stream",
     "text": [
      "Val Loss: 1.2799, Val Accuracy: 0.8167\n",
      "Epoch 12\n"
     ]
    },
    {
     "name": "stderr",
     "output_type": "stream",
     "text": [
      "Training: 100%|██████████| 44/44 [00:24<00:00,  1.81it/s]\n"
     ]
    },
    {
     "name": "stdout",
     "output_type": "stream",
     "text": [
      "Train Loss: 1.2554, Train Accuracy: 0.8217\n"
     ]
    },
    {
     "name": "stderr",
     "output_type": "stream",
     "text": [
      "Validation: 100%|██████████| 10/10 [00:03<00:00,  2.86it/s]\n"
     ]
    },
    {
     "name": "stdout",
     "output_type": "stream",
     "text": [
      "Val Loss: 1.2538, Val Accuracy: 0.8225\n",
      "Epoch 13\n"
     ]
    },
    {
     "name": "stderr",
     "output_type": "stream",
     "text": [
      "Training: 100%|██████████| 44/44 [00:24<00:00,  1.80it/s]\n"
     ]
    },
    {
     "name": "stdout",
     "output_type": "stream",
     "text": [
      "Train Loss: 1.2379, Train Accuracy: 0.8253\n"
     ]
    },
    {
     "name": "stderr",
     "output_type": "stream",
     "text": [
      "Validation: 100%|██████████| 10/10 [00:03<00:00,  2.79it/s]\n"
     ]
    },
    {
     "name": "stdout",
     "output_type": "stream",
     "text": [
      "Val Loss: 1.2513, Val Accuracy: 0.8218\n",
      "Epoch 14\n"
     ]
    },
    {
     "name": "stderr",
     "output_type": "stream",
     "text": [
      "Training: 100%|██████████| 44/44 [00:24<00:00,  1.80it/s]\n"
     ]
    },
    {
     "name": "stdout",
     "output_type": "stream",
     "text": [
      "Train Loss: 1.2275, Train Accuracy: 0.8264\n"
     ]
    },
    {
     "name": "stderr",
     "output_type": "stream",
     "text": [
      "Validation: 100%|██████████| 10/10 [00:03<00:00,  2.82it/s]\n"
     ]
    },
    {
     "name": "stdout",
     "output_type": "stream",
     "text": [
      "Val Loss: 1.2865, Val Accuracy: 0.8243\n",
      "Epoch 15\n"
     ]
    },
    {
     "name": "stderr",
     "output_type": "stream",
     "text": [
      "Training: 100%|██████████| 44/44 [00:24<00:00,  1.80it/s]\n"
     ]
    },
    {
     "name": "stdout",
     "output_type": "stream",
     "text": [
      "Train Loss: 1.2116, Train Accuracy: 0.8300\n"
     ]
    },
    {
     "name": "stderr",
     "output_type": "stream",
     "text": [
      "Validation: 100%|██████████| 10/10 [00:03<00:00,  2.78it/s]\n"
     ]
    },
    {
     "name": "stdout",
     "output_type": "stream",
     "text": [
      "Val Loss: 1.2288, Val Accuracy: 0.8280\n",
      "Epoch 16\n"
     ]
    },
    {
     "name": "stderr",
     "output_type": "stream",
     "text": [
      "Training: 100%|██████████| 44/44 [00:24<00:00,  1.80it/s]\n"
     ]
    },
    {
     "name": "stdout",
     "output_type": "stream",
     "text": [
      "Train Loss: 1.1948, Train Accuracy: 0.8348\n"
     ]
    },
    {
     "name": "stderr",
     "output_type": "stream",
     "text": [
      "Validation: 100%|██████████| 10/10 [00:03<00:00,  2.73it/s]\n"
     ]
    },
    {
     "name": "stdout",
     "output_type": "stream",
     "text": [
      "Val Loss: 1.2146, Val Accuracy: 0.8309\n",
      "Epoch 17\n"
     ]
    },
    {
     "name": "stderr",
     "output_type": "stream",
     "text": [
      "Training: 100%|██████████| 44/44 [00:24<00:00,  1.80it/s]\n"
     ]
    },
    {
     "name": "stdout",
     "output_type": "stream",
     "text": [
      "Train Loss: 1.1865, Train Accuracy: 0.8362\n"
     ]
    },
    {
     "name": "stderr",
     "output_type": "stream",
     "text": [
      "Validation: 100%|██████████| 10/10 [00:03<00:00,  2.79it/s]\n"
     ]
    },
    {
     "name": "stdout",
     "output_type": "stream",
     "text": [
      "Val Loss: 1.2047, Val Accuracy: 0.8347\n",
      "Epoch 18\n"
     ]
    },
    {
     "name": "stderr",
     "output_type": "stream",
     "text": [
      "Training: 100%|██████████| 44/44 [00:24<00:00,  1.80it/s]\n"
     ]
    },
    {
     "name": "stdout",
     "output_type": "stream",
     "text": [
      "Train Loss: 1.1742, Train Accuracy: 0.8388\n"
     ]
    },
    {
     "name": "stderr",
     "output_type": "stream",
     "text": [
      "Validation: 100%|██████████| 10/10 [00:03<00:00,  2.74it/s]\n"
     ]
    },
    {
     "name": "stdout",
     "output_type": "stream",
     "text": [
      "Val Loss: 1.1996, Val Accuracy: 0.8304\n",
      "Epoch 19\n"
     ]
    },
    {
     "name": "stderr",
     "output_type": "stream",
     "text": [
      "Training: 100%|██████████| 44/44 [00:24<00:00,  1.79it/s]\n"
     ]
    },
    {
     "name": "stdout",
     "output_type": "stream",
     "text": [
      "Train Loss: 1.1758, Train Accuracy: 0.8376\n"
     ]
    },
    {
     "name": "stderr",
     "output_type": "stream",
     "text": [
      "Validation: 100%|██████████| 10/10 [00:03<00:00,  2.82it/s]\n"
     ]
    },
    {
     "name": "stdout",
     "output_type": "stream",
     "text": [
      "Val Loss: 1.1870, Val Accuracy: 0.8401\n",
      "Epoch 20\n"
     ]
    },
    {
     "name": "stderr",
     "output_type": "stream",
     "text": [
      "Training: 100%|██████████| 44/44 [00:24<00:00,  1.78it/s]\n"
     ]
    },
    {
     "name": "stdout",
     "output_type": "stream",
     "text": [
      "Train Loss: 1.1597, Train Accuracy: 0.8415\n"
     ]
    },
    {
     "name": "stderr",
     "output_type": "stream",
     "text": [
      "Validation: 100%|██████████| 10/10 [00:03<00:00,  2.77it/s]\n"
     ]
    },
    {
     "name": "stdout",
     "output_type": "stream",
     "text": [
      "Val Loss: 1.1844, Val Accuracy: 0.8372\n",
      "Epoch 21\n"
     ]
    },
    {
     "name": "stderr",
     "output_type": "stream",
     "text": [
      "Training: 100%|██████████| 44/44 [00:24<00:00,  1.79it/s]\n"
     ]
    },
    {
     "name": "stdout",
     "output_type": "stream",
     "text": [
      "Train Loss: 1.1552, Train Accuracy: 0.8428\n"
     ]
    },
    {
     "name": "stderr",
     "output_type": "stream",
     "text": [
      "Validation: 100%|██████████| 10/10 [00:03<00:00,  2.81it/s]\n"
     ]
    },
    {
     "name": "stdout",
     "output_type": "stream",
     "text": [
      "Val Loss: 1.2048, Val Accuracy: 0.8307\n",
      "Epoch 22\n"
     ]
    },
    {
     "name": "stderr",
     "output_type": "stream",
     "text": [
      "Training: 100%|██████████| 44/44 [00:24<00:00,  1.78it/s]\n"
     ]
    },
    {
     "name": "stdout",
     "output_type": "stream",
     "text": [
      "Train Loss: 1.1558, Train Accuracy: 0.8432\n"
     ]
    },
    {
     "name": "stderr",
     "output_type": "stream",
     "text": [
      "Validation: 100%|██████████| 10/10 [00:03<00:00,  2.74it/s]\n"
     ]
    },
    {
     "name": "stdout",
     "output_type": "stream",
     "text": [
      "Val Loss: 1.1741, Val Accuracy: 0.8381\n",
      "Epoch 23\n"
     ]
    },
    {
     "name": "stderr",
     "output_type": "stream",
     "text": [
      "Training: 100%|██████████| 44/44 [00:25<00:00,  1.72it/s]\n"
     ]
    },
    {
     "name": "stdout",
     "output_type": "stream",
     "text": [
      "Train Loss: 1.1377, Train Accuracy: 0.8458\n"
     ]
    },
    {
     "name": "stderr",
     "output_type": "stream",
     "text": [
      "Validation: 100%|██████████| 10/10 [00:03<00:00,  2.77it/s]\n"
     ]
    },
    {
     "name": "stdout",
     "output_type": "stream",
     "text": [
      "Val Loss: 1.1724, Val Accuracy: 0.8395\n",
      "Epoch 24\n"
     ]
    },
    {
     "name": "stderr",
     "output_type": "stream",
     "text": [
      "Training: 100%|██████████| 44/44 [00:24<00:00,  1.77it/s]\n"
     ]
    },
    {
     "name": "stdout",
     "output_type": "stream",
     "text": [
      "Train Loss: 1.1356, Train Accuracy: 0.8453\n"
     ]
    },
    {
     "name": "stderr",
     "output_type": "stream",
     "text": [
      "Validation: 100%|██████████| 10/10 [00:03<00:00,  2.80it/s]\n"
     ]
    },
    {
     "name": "stdout",
     "output_type": "stream",
     "text": [
      "Val Loss: 1.1496, Val Accuracy: 0.8405\n",
      "Epoch 25\n"
     ]
    },
    {
     "name": "stderr",
     "output_type": "stream",
     "text": [
      "Training: 100%|██████████| 44/44 [00:24<00:00,  1.79it/s]\n"
     ]
    },
    {
     "name": "stdout",
     "output_type": "stream",
     "text": [
      "Train Loss: 1.1232, Train Accuracy: 0.8487\n"
     ]
    },
    {
     "name": "stderr",
     "output_type": "stream",
     "text": [
      "Validation: 100%|██████████| 10/10 [00:03<00:00,  2.81it/s]\n"
     ]
    },
    {
     "name": "stdout",
     "output_type": "stream",
     "text": [
      "Val Loss: 1.1513, Val Accuracy: 0.8452\n",
      "Epoch 26\n"
     ]
    },
    {
     "name": "stderr",
     "output_type": "stream",
     "text": [
      "Training: 100%|██████████| 44/44 [00:24<00:00,  1.78it/s]\n"
     ]
    },
    {
     "name": "stdout",
     "output_type": "stream",
     "text": [
      "Train Loss: 1.1128, Train Accuracy: 0.8519\n"
     ]
    },
    {
     "name": "stderr",
     "output_type": "stream",
     "text": [
      "Validation: 100%|██████████| 10/10 [00:03<00:00,  2.57it/s]\n"
     ]
    },
    {
     "name": "stdout",
     "output_type": "stream",
     "text": [
      "Val Loss: 1.1671, Val Accuracy: 0.8390\n",
      "Epoch 27\n"
     ]
    },
    {
     "name": "stderr",
     "output_type": "stream",
     "text": [
      "Training: 100%|██████████| 44/44 [00:24<00:00,  1.79it/s]\n"
     ]
    },
    {
     "name": "stdout",
     "output_type": "stream",
     "text": [
      "Train Loss: 1.1111, Train Accuracy: 0.8528\n"
     ]
    },
    {
     "name": "stderr",
     "output_type": "stream",
     "text": [
      "Validation: 100%|██████████| 10/10 [00:03<00:00,  2.69it/s]\n"
     ]
    },
    {
     "name": "stdout",
     "output_type": "stream",
     "text": [
      "Val Loss: 1.1405, Val Accuracy: 0.8413\n",
      "Epoch 28\n"
     ]
    },
    {
     "name": "stderr",
     "output_type": "stream",
     "text": [
      "Training: 100%|██████████| 44/44 [00:24<00:00,  1.78it/s]\n"
     ]
    },
    {
     "name": "stdout",
     "output_type": "stream",
     "text": [
      "Train Loss: 1.1000, Train Accuracy: 0.8540\n"
     ]
    },
    {
     "name": "stderr",
     "output_type": "stream",
     "text": [
      "Validation: 100%|██████████| 10/10 [00:03<00:00,  2.74it/s]\n"
     ]
    },
    {
     "name": "stdout",
     "output_type": "stream",
     "text": [
      "Val Loss: 1.1307, Val Accuracy: 0.8482\n",
      "Epoch 29\n"
     ]
    },
    {
     "name": "stderr",
     "output_type": "stream",
     "text": [
      "Training: 100%|██████████| 44/44 [00:24<00:00,  1.77it/s]\n"
     ]
    },
    {
     "name": "stdout",
     "output_type": "stream",
     "text": [
      "Train Loss: 1.1013, Train Accuracy: 0.8550\n"
     ]
    },
    {
     "name": "stderr",
     "output_type": "stream",
     "text": [
      "Validation: 100%|██████████| 10/10 [00:03<00:00,  2.78it/s]\n"
     ]
    },
    {
     "name": "stdout",
     "output_type": "stream",
     "text": [
      "Val Loss: 1.1373, Val Accuracy: 0.8442\n",
      "Epoch 30\n"
     ]
    },
    {
     "name": "stderr",
     "output_type": "stream",
     "text": [
      "Training: 100%|██████████| 44/44 [00:24<00:00,  1.78it/s]\n"
     ]
    },
    {
     "name": "stdout",
     "output_type": "stream",
     "text": [
      "Train Loss: 1.0940, Train Accuracy: 0.8557\n"
     ]
    },
    {
     "name": "stderr",
     "output_type": "stream",
     "text": [
      "Validation: 100%|██████████| 10/10 [00:03<00:00,  2.74it/s]\n"
     ]
    },
    {
     "name": "stdout",
     "output_type": "stream",
     "text": [
      "Val Loss: 1.1374, Val Accuracy: 0.8475\n",
      "Epoch 31\n"
     ]
    },
    {
     "name": "stderr",
     "output_type": "stream",
     "text": [
      "Training: 100%|██████████| 44/44 [00:24<00:00,  1.76it/s]\n"
     ]
    },
    {
     "name": "stdout",
     "output_type": "stream",
     "text": [
      "Train Loss: 1.0889, Train Accuracy: 0.8567\n"
     ]
    },
    {
     "name": "stderr",
     "output_type": "stream",
     "text": [
      "Validation: 100%|██████████| 10/10 [00:03<00:00,  2.78it/s]\n"
     ]
    },
    {
     "name": "stdout",
     "output_type": "stream",
     "text": [
      "Val Loss: 1.1198, Val Accuracy: 0.8481\n",
      "Epoch 32\n"
     ]
    },
    {
     "name": "stderr",
     "output_type": "stream",
     "text": [
      "Training: 100%|██████████| 44/44 [00:24<00:00,  1.78it/s]\n"
     ]
    },
    {
     "name": "stdout",
     "output_type": "stream",
     "text": [
      "Train Loss: 1.0820, Train Accuracy: 0.8576\n"
     ]
    },
    {
     "name": "stderr",
     "output_type": "stream",
     "text": [
      "Validation: 100%|██████████| 10/10 [00:03<00:00,  2.79it/s]\n"
     ]
    },
    {
     "name": "stdout",
     "output_type": "stream",
     "text": [
      "Val Loss: 1.1357, Val Accuracy: 0.8487\n",
      "Epoch 33\n"
     ]
    },
    {
     "name": "stderr",
     "output_type": "stream",
     "text": [
      "Training: 100%|██████████| 44/44 [00:24<00:00,  1.77it/s]\n"
     ]
    },
    {
     "name": "stdout",
     "output_type": "stream",
     "text": [
      "Train Loss: 1.0783, Train Accuracy: 0.8588\n"
     ]
    },
    {
     "name": "stderr",
     "output_type": "stream",
     "text": [
      "Validation: 100%|██████████| 10/10 [00:03<00:00,  2.76it/s]\n"
     ]
    },
    {
     "name": "stdout",
     "output_type": "stream",
     "text": [
      "Val Loss: 1.1289, Val Accuracy: 0.8475\n",
      "Epoch 34\n"
     ]
    },
    {
     "name": "stderr",
     "output_type": "stream",
     "text": [
      "Training: 100%|██████████| 44/44 [00:24<00:00,  1.78it/s]\n"
     ]
    },
    {
     "name": "stdout",
     "output_type": "stream",
     "text": [
      "Train Loss: 1.0714, Train Accuracy: 0.8619\n"
     ]
    },
    {
     "name": "stderr",
     "output_type": "stream",
     "text": [
      "Validation: 100%|██████████| 10/10 [00:03<00:00,  2.79it/s]\n"
     ]
    },
    {
     "name": "stdout",
     "output_type": "stream",
     "text": [
      "Val Loss: 1.1090, Val Accuracy: 0.8512\n",
      "Epoch 35\n"
     ]
    },
    {
     "name": "stderr",
     "output_type": "stream",
     "text": [
      "Training: 100%|██████████| 44/44 [00:24<00:00,  1.78it/s]\n"
     ]
    },
    {
     "name": "stdout",
     "output_type": "stream",
     "text": [
      "Train Loss: 1.0632, Train Accuracy: 0.8632\n"
     ]
    },
    {
     "name": "stderr",
     "output_type": "stream",
     "text": [
      "Validation: 100%|██████████| 10/10 [00:03<00:00,  2.79it/s]\n"
     ]
    },
    {
     "name": "stdout",
     "output_type": "stream",
     "text": [
      "Val Loss: 1.1315, Val Accuracy: 0.8498\n",
      "Epoch 36\n"
     ]
    },
    {
     "name": "stderr",
     "output_type": "stream",
     "text": [
      "Training: 100%|██████████| 44/44 [00:24<00:00,  1.77it/s]\n"
     ]
    },
    {
     "name": "stdout",
     "output_type": "stream",
     "text": [
      "Train Loss: 1.0560, Train Accuracy: 0.8643\n"
     ]
    },
    {
     "name": "stderr",
     "output_type": "stream",
     "text": [
      "Validation: 100%|██████████| 10/10 [00:03<00:00,  2.69it/s]\n"
     ]
    },
    {
     "name": "stdout",
     "output_type": "stream",
     "text": [
      "Val Loss: 1.1265, Val Accuracy: 0.8514\n",
      "Epoch 37\n"
     ]
    },
    {
     "name": "stderr",
     "output_type": "stream",
     "text": [
      "Training: 100%|██████████| 44/44 [00:24<00:00,  1.77it/s]\n"
     ]
    },
    {
     "name": "stdout",
     "output_type": "stream",
     "text": [
      "Train Loss: 1.0521, Train Accuracy: 0.8653\n"
     ]
    },
    {
     "name": "stderr",
     "output_type": "stream",
     "text": [
      "Validation: 100%|██████████| 10/10 [00:04<00:00,  2.37it/s]\n"
     ]
    },
    {
     "name": "stdout",
     "output_type": "stream",
     "text": [
      "Val Loss: 1.1236, Val Accuracy: 0.8524\n",
      "Epoch 38\n"
     ]
    },
    {
     "name": "stderr",
     "output_type": "stream",
     "text": [
      "Training: 100%|██████████| 44/44 [00:33<00:00,  1.30it/s]\n"
     ]
    },
    {
     "name": "stdout",
     "output_type": "stream",
     "text": [
      "Train Loss: 1.0537, Train Accuracy: 0.8648\n"
     ]
    },
    {
     "name": "stderr",
     "output_type": "stream",
     "text": [
      "Validation: 100%|██████████| 10/10 [00:05<00:00,  1.67it/s]\n"
     ]
    },
    {
     "name": "stdout",
     "output_type": "stream",
     "text": [
      "Val Loss: 1.1616, Val Accuracy: 0.8478\n",
      "Epoch 39\n"
     ]
    },
    {
     "name": "stderr",
     "output_type": "stream",
     "text": [
      "Training: 100%|██████████| 44/44 [00:35<00:00,  1.25it/s]\n"
     ]
    },
    {
     "name": "stdout",
     "output_type": "stream",
     "text": [
      "Train Loss: 1.0530, Train Accuracy: 0.8647\n"
     ]
    },
    {
     "name": "stderr",
     "output_type": "stream",
     "text": [
      "Validation: 100%|██████████| 10/10 [00:05<00:00,  1.86it/s]\n"
     ]
    },
    {
     "name": "stdout",
     "output_type": "stream",
     "text": [
      "Val Loss: 1.1108, Val Accuracy: 0.8568\n",
      "Epoch 40\n"
     ]
    },
    {
     "name": "stderr",
     "output_type": "stream",
     "text": [
      "Training: 100%|██████████| 44/44 [00:32<00:00,  1.37it/s]\n"
     ]
    },
    {
     "name": "stdout",
     "output_type": "stream",
     "text": [
      "Train Loss: 1.0351, Train Accuracy: 0.8683\n"
     ]
    },
    {
     "name": "stderr",
     "output_type": "stream",
     "text": [
      "Validation: 100%|██████████| 10/10 [00:04<00:00,  2.32it/s]\n"
     ]
    },
    {
     "name": "stdout",
     "output_type": "stream",
     "text": [
      "Val Loss: 1.1125, Val Accuracy: 0.8545\n",
      "Epoch 41\n"
     ]
    },
    {
     "name": "stderr",
     "output_type": "stream",
     "text": [
      "Training: 100%|██████████| 44/44 [00:35<00:00,  1.25it/s]\n"
     ]
    },
    {
     "name": "stdout",
     "output_type": "stream",
     "text": [
      "Train Loss: 1.0339, Train Accuracy: 0.8700\n"
     ]
    },
    {
     "name": "stderr",
     "output_type": "stream",
     "text": [
      "Validation: 100%|██████████| 10/10 [00:05<00:00,  1.78it/s]\n"
     ]
    },
    {
     "name": "stdout",
     "output_type": "stream",
     "text": [
      "Val Loss: 1.1235, Val Accuracy: 0.8538\n",
      "Epoch 42\n"
     ]
    },
    {
     "name": "stderr",
     "output_type": "stream",
     "text": [
      "Training: 100%|██████████| 44/44 [00:31<00:00,  1.40it/s]\n"
     ]
    },
    {
     "name": "stdout",
     "output_type": "stream",
     "text": [
      "Train Loss: 1.0298, Train Accuracy: 0.8715\n"
     ]
    },
    {
     "name": "stderr",
     "output_type": "stream",
     "text": [
      "Validation: 100%|██████████| 10/10 [00:04<00:00,  2.21it/s]\n"
     ]
    },
    {
     "name": "stdout",
     "output_type": "stream",
     "text": [
      "Val Loss: 1.1150, Val Accuracy: 0.8533\n",
      "Epoch 43\n"
     ]
    },
    {
     "name": "stderr",
     "output_type": "stream",
     "text": [
      "Training: 100%|██████████| 44/44 [00:31<00:00,  1.38it/s]\n"
     ]
    },
    {
     "name": "stdout",
     "output_type": "stream",
     "text": [
      "Train Loss: 1.0239, Train Accuracy: 0.8728\n"
     ]
    },
    {
     "name": "stderr",
     "output_type": "stream",
     "text": [
      "Validation: 100%|██████████| 10/10 [00:04<00:00,  2.12it/s]\n"
     ]
    },
    {
     "name": "stdout",
     "output_type": "stream",
     "text": [
      "Val Loss: 1.1256, Val Accuracy: 0.8513\n",
      "Epoch 44\n"
     ]
    },
    {
     "name": "stderr",
     "output_type": "stream",
     "text": [
      "Training: 100%|██████████| 44/44 [00:34<00:00,  1.26it/s]\n"
     ]
    },
    {
     "name": "stdout",
     "output_type": "stream",
     "text": [
      "Train Loss: 1.0244, Train Accuracy: 0.8718\n"
     ]
    },
    {
     "name": "stderr",
     "output_type": "stream",
     "text": [
      "Validation: 100%|██████████| 10/10 [00:04<00:00,  2.04it/s]\n"
     ]
    },
    {
     "name": "stdout",
     "output_type": "stream",
     "text": [
      "Val Loss: 1.1088, Val Accuracy: 0.8551\n",
      "Epoch 45\n"
     ]
    },
    {
     "name": "stderr",
     "output_type": "stream",
     "text": [
      "Training: 100%|██████████| 44/44 [00:33<00:00,  1.31it/s]\n"
     ]
    },
    {
     "name": "stdout",
     "output_type": "stream",
     "text": [
      "Train Loss: 1.0122, Train Accuracy: 0.8732\n"
     ]
    },
    {
     "name": "stderr",
     "output_type": "stream",
     "text": [
      "Validation: 100%|██████████| 10/10 [00:04<00:00,  2.37it/s]\n"
     ]
    },
    {
     "name": "stdout",
     "output_type": "stream",
     "text": [
      "Val Loss: 1.0977, Val Accuracy: 0.8578\n",
      "Epoch 46\n"
     ]
    },
    {
     "name": "stderr",
     "output_type": "stream",
     "text": [
      "Training: 100%|██████████| 44/44 [00:29<00:00,  1.48it/s]\n"
     ]
    },
    {
     "name": "stdout",
     "output_type": "stream",
     "text": [
      "Train Loss: 1.0006, Train Accuracy: 0.8780\n"
     ]
    },
    {
     "name": "stderr",
     "output_type": "stream",
     "text": [
      "Validation: 100%|██████████| 10/10 [00:05<00:00,  1.72it/s]\n"
     ]
    },
    {
     "name": "stdout",
     "output_type": "stream",
     "text": [
      "Val Loss: 1.1172, Val Accuracy: 0.8522\n",
      "Epoch 47\n"
     ]
    },
    {
     "name": "stderr",
     "output_type": "stream",
     "text": [
      "Training: 100%|██████████| 44/44 [00:31<00:00,  1.40it/s]\n"
     ]
    },
    {
     "name": "stdout",
     "output_type": "stream",
     "text": [
      "Train Loss: 1.0079, Train Accuracy: 0.8766\n"
     ]
    },
    {
     "name": "stderr",
     "output_type": "stream",
     "text": [
      "Validation: 100%|██████████| 10/10 [00:05<00:00,  1.85it/s]\n"
     ]
    },
    {
     "name": "stdout",
     "output_type": "stream",
     "text": [
      "Val Loss: 1.1021, Val Accuracy: 0.8574\n",
      "Epoch 48\n"
     ]
    },
    {
     "name": "stderr",
     "output_type": "stream",
     "text": [
      "Training: 100%|██████████| 44/44 [00:32<00:00,  1.34it/s]\n"
     ]
    },
    {
     "name": "stdout",
     "output_type": "stream",
     "text": [
      "Train Loss: 1.0051, Train Accuracy: 0.8779\n"
     ]
    },
    {
     "name": "stderr",
     "output_type": "stream",
     "text": [
      "Validation: 100%|██████████| 10/10 [00:04<00:00,  2.31it/s]\n"
     ]
    },
    {
     "name": "stdout",
     "output_type": "stream",
     "text": [
      "Val Loss: 1.1055, Val Accuracy: 0.8551\n",
      "Epoch 49\n"
     ]
    },
    {
     "name": "stderr",
     "output_type": "stream",
     "text": [
      "Training: 100%|██████████| 44/44 [00:29<00:00,  1.51it/s]\n"
     ]
    },
    {
     "name": "stdout",
     "output_type": "stream",
     "text": [
      "Train Loss: 0.9843, Train Accuracy: 0.8810\n"
     ]
    },
    {
     "name": "stderr",
     "output_type": "stream",
     "text": [
      "Validation: 100%|██████████| 10/10 [00:04<00:00,  2.19it/s]\n"
     ]
    },
    {
     "name": "stdout",
     "output_type": "stream",
     "text": [
      "Val Loss: 1.1127, Val Accuracy: 0.8580\n",
      "Epoch 50\n"
     ]
    },
    {
     "name": "stderr",
     "output_type": "stream",
     "text": [
      "Training: 100%|██████████| 44/44 [00:29<00:00,  1.48it/s]\n"
     ]
    },
    {
     "name": "stdout",
     "output_type": "stream",
     "text": [
      "Train Loss: 0.9811, Train Accuracy: 0.8814\n"
     ]
    },
    {
     "name": "stderr",
     "output_type": "stream",
     "text": [
      "Validation: 100%|██████████| 10/10 [00:04<00:00,  2.39it/s]\n"
     ]
    },
    {
     "name": "stdout",
     "output_type": "stream",
     "text": [
      "Val Loss: 1.1231, Val Accuracy: 0.8557\n",
      "Epoch 51\n"
     ]
    },
    {
     "name": "stderr",
     "output_type": "stream",
     "text": [
      "Training: 100%|██████████| 44/44 [00:31<00:00,  1.41it/s]\n"
     ]
    },
    {
     "name": "stdout",
     "output_type": "stream",
     "text": [
      "Train Loss: 0.9748, Train Accuracy: 0.8841\n"
     ]
    },
    {
     "name": "stderr",
     "output_type": "stream",
     "text": [
      "Validation: 100%|██████████| 10/10 [00:04<00:00,  2.36it/s]\n"
     ]
    },
    {
     "name": "stdout",
     "output_type": "stream",
     "text": [
      "Val Loss: 1.1203, Val Accuracy: 0.8570\n",
      "Epoch 52\n"
     ]
    },
    {
     "name": "stderr",
     "output_type": "stream",
     "text": [
      "Training: 100%|██████████| 44/44 [00:31<00:00,  1.39it/s]\n"
     ]
    },
    {
     "name": "stdout",
     "output_type": "stream",
     "text": [
      "Train Loss: 0.9783, Train Accuracy: 0.8824\n"
     ]
    },
    {
     "name": "stderr",
     "output_type": "stream",
     "text": [
      "Validation: 100%|██████████| 10/10 [00:04<00:00,  2.09it/s]\n"
     ]
    },
    {
     "name": "stdout",
     "output_type": "stream",
     "text": [
      "Val Loss: 1.1006, Val Accuracy: 0.8587\n",
      "Epoch 53\n"
     ]
    },
    {
     "name": "stderr",
     "output_type": "stream",
     "text": [
      "Training: 100%|██████████| 44/44 [00:34<00:00,  1.27it/s]\n"
     ]
    },
    {
     "name": "stdout",
     "output_type": "stream",
     "text": [
      "Train Loss: 0.9704, Train Accuracy: 0.8844\n"
     ]
    },
    {
     "name": "stderr",
     "output_type": "stream",
     "text": [
      "Validation: 100%|██████████| 10/10 [00:05<00:00,  1.80it/s]\n"
     ]
    },
    {
     "name": "stdout",
     "output_type": "stream",
     "text": [
      "Val Loss: 1.1475, Val Accuracy: 0.8565\n",
      "Epoch 54\n"
     ]
    },
    {
     "name": "stderr",
     "output_type": "stream",
     "text": [
      "Training: 100%|██████████| 44/44 [00:32<00:00,  1.37it/s]\n"
     ]
    },
    {
     "name": "stdout",
     "output_type": "stream",
     "text": [
      "Train Loss: 0.9633, Train Accuracy: 0.8868\n"
     ]
    },
    {
     "name": "stderr",
     "output_type": "stream",
     "text": [
      "Validation: 100%|██████████| 10/10 [00:04<00:00,  2.23it/s]\n"
     ]
    },
    {
     "name": "stdout",
     "output_type": "stream",
     "text": [
      "Val Loss: 1.1060, Val Accuracy: 0.8583\n",
      "Epoch 55\n"
     ]
    },
    {
     "name": "stderr",
     "output_type": "stream",
     "text": [
      "Training: 100%|██████████| 44/44 [00:30<00:00,  1.42it/s]\n"
     ]
    },
    {
     "name": "stdout",
     "output_type": "stream",
     "text": [
      "Train Loss: 0.9641, Train Accuracy: 0.8863\n"
     ]
    },
    {
     "name": "stderr",
     "output_type": "stream",
     "text": [
      "Validation: 100%|██████████| 10/10 [00:05<00:00,  1.91it/s]\n"
     ]
    },
    {
     "name": "stdout",
     "output_type": "stream",
     "text": [
      "Val Loss: 1.1132, Val Accuracy: 0.8587\n",
      "Epoch 56\n"
     ]
    },
    {
     "name": "stderr",
     "output_type": "stream",
     "text": [
      "Training: 100%|██████████| 44/44 [00:33<00:00,  1.33it/s]\n"
     ]
    },
    {
     "name": "stdout",
     "output_type": "stream",
     "text": [
      "Train Loss: 0.9596, Train Accuracy: 0.8873\n"
     ]
    },
    {
     "name": "stderr",
     "output_type": "stream",
     "text": [
      "Validation: 100%|██████████| 10/10 [00:04<00:00,  2.19it/s]\n"
     ]
    },
    {
     "name": "stdout",
     "output_type": "stream",
     "text": [
      "Val Loss: 1.1223, Val Accuracy: 0.8569\n",
      "Epoch 57\n"
     ]
    },
    {
     "name": "stderr",
     "output_type": "stream",
     "text": [
      "Training: 100%|██████████| 44/44 [00:30<00:00,  1.45it/s]\n"
     ]
    },
    {
     "name": "stdout",
     "output_type": "stream",
     "text": [
      "Train Loss: 0.9542, Train Accuracy: 0.8883\n"
     ]
    },
    {
     "name": "stderr",
     "output_type": "stream",
     "text": [
      "Validation: 100%|██████████| 10/10 [00:04<00:00,  2.42it/s]\n"
     ]
    },
    {
     "name": "stdout",
     "output_type": "stream",
     "text": [
      "Val Loss: 1.1129, Val Accuracy: 0.8585\n",
      "Epoch 58\n"
     ]
    },
    {
     "name": "stderr",
     "output_type": "stream",
     "text": [
      "Training: 100%|██████████| 44/44 [00:31<00:00,  1.40it/s]\n"
     ]
    },
    {
     "name": "stdout",
     "output_type": "stream",
     "text": [
      "Train Loss: 0.9461, Train Accuracy: 0.8907\n"
     ]
    },
    {
     "name": "stderr",
     "output_type": "stream",
     "text": [
      "Validation: 100%|██████████| 10/10 [00:05<00:00,  1.87it/s]\n"
     ]
    },
    {
     "name": "stdout",
     "output_type": "stream",
     "text": [
      "Val Loss: 1.1000, Val Accuracy: 0.8597\n",
      "Epoch 59\n"
     ]
    },
    {
     "name": "stderr",
     "output_type": "stream",
     "text": [
      "Training: 100%|██████████| 44/44 [00:32<00:00,  1.36it/s]\n"
     ]
    },
    {
     "name": "stdout",
     "output_type": "stream",
     "text": [
      "Train Loss: 0.9457, Train Accuracy: 0.8909\n"
     ]
    },
    {
     "name": "stderr",
     "output_type": "stream",
     "text": [
      "Validation: 100%|██████████| 10/10 [00:04<00:00,  2.15it/s]\n"
     ]
    },
    {
     "name": "stdout",
     "output_type": "stream",
     "text": [
      "Val Loss: 1.1179, Val Accuracy: 0.8591\n",
      "Epoch 60\n"
     ]
    },
    {
     "name": "stderr",
     "output_type": "stream",
     "text": [
      "Training: 100%|██████████| 44/44 [00:29<00:00,  1.49it/s]\n"
     ]
    },
    {
     "name": "stdout",
     "output_type": "stream",
     "text": [
      "Train Loss: 0.9410, Train Accuracy: 0.8938\n"
     ]
    },
    {
     "name": "stderr",
     "output_type": "stream",
     "text": [
      "Validation: 100%|██████████| 10/10 [00:04<00:00,  2.23it/s]\n"
     ]
    },
    {
     "name": "stdout",
     "output_type": "stream",
     "text": [
      "Val Loss: 1.1251, Val Accuracy: 0.8586\n",
      "Epoch 61\n"
     ]
    },
    {
     "name": "stderr",
     "output_type": "stream",
     "text": [
      "Training: 100%|██████████| 44/44 [00:30<00:00,  1.44it/s]\n"
     ]
    },
    {
     "name": "stdout",
     "output_type": "stream",
     "text": [
      "Train Loss: 0.9350, Train Accuracy: 0.8940\n"
     ]
    },
    {
     "name": "stderr",
     "output_type": "stream",
     "text": [
      "Validation: 100%|██████████| 10/10 [00:04<00:00,  2.32it/s]\n"
     ]
    },
    {
     "name": "stdout",
     "output_type": "stream",
     "text": [
      "Val Loss: 1.1247, Val Accuracy: 0.8604\n",
      "Epoch 62\n"
     ]
    },
    {
     "name": "stderr",
     "output_type": "stream",
     "text": [
      "Training: 100%|██████████| 44/44 [00:29<00:00,  1.47it/s]\n"
     ]
    },
    {
     "name": "stdout",
     "output_type": "stream",
     "text": [
      "Train Loss: 0.9297, Train Accuracy: 0.8955\n"
     ]
    },
    {
     "name": "stderr",
     "output_type": "stream",
     "text": [
      "Validation: 100%|██████████| 10/10 [00:04<00:00,  2.18it/s]\n"
     ]
    },
    {
     "name": "stdout",
     "output_type": "stream",
     "text": [
      "Val Loss: 1.1029, Val Accuracy: 0.8593\n",
      "Epoch 63\n"
     ]
    },
    {
     "name": "stderr",
     "output_type": "stream",
     "text": [
      "Training: 100%|██████████| 44/44 [00:30<00:00,  1.42it/s]\n"
     ]
    },
    {
     "name": "stdout",
     "output_type": "stream",
     "text": [
      "Train Loss: 0.9240, Train Accuracy: 0.8962\n"
     ]
    },
    {
     "name": "stderr",
     "output_type": "stream",
     "text": [
      "Validation: 100%|██████████| 10/10 [00:04<00:00,  2.12it/s]\n"
     ]
    },
    {
     "name": "stdout",
     "output_type": "stream",
     "text": [
      "Val Loss: 1.1181, Val Accuracy: 0.8609\n",
      "Epoch 64\n"
     ]
    },
    {
     "name": "stderr",
     "output_type": "stream",
     "text": [
      "Training: 100%|██████████| 44/44 [00:31<00:00,  1.39it/s]\n"
     ]
    },
    {
     "name": "stdout",
     "output_type": "stream",
     "text": [
      "Train Loss: 0.9179, Train Accuracy: 0.8982\n"
     ]
    },
    {
     "name": "stderr",
     "output_type": "stream",
     "text": [
      "Validation: 100%|██████████| 10/10 [00:04<00:00,  2.09it/s]\n"
     ]
    },
    {
     "name": "stdout",
     "output_type": "stream",
     "text": [
      "Val Loss: 1.1214, Val Accuracy: 0.8604\n",
      "Epoch 65\n"
     ]
    },
    {
     "name": "stderr",
     "output_type": "stream",
     "text": [
      "Training: 100%|██████████| 44/44 [00:32<00:00,  1.35it/s]\n"
     ]
    },
    {
     "name": "stdout",
     "output_type": "stream",
     "text": [
      "Train Loss: 0.9175, Train Accuracy: 0.9001\n"
     ]
    },
    {
     "name": "stderr",
     "output_type": "stream",
     "text": [
      "Validation: 100%|██████████| 10/10 [00:05<00:00,  1.96it/s]\n"
     ]
    },
    {
     "name": "stdout",
     "output_type": "stream",
     "text": [
      "Val Loss: 1.1398, Val Accuracy: 0.8576\n",
      "Epoch 66\n"
     ]
    },
    {
     "name": "stderr",
     "output_type": "stream",
     "text": [
      "Training: 100%|██████████| 44/44 [00:36<00:00,  1.22it/s]\n"
     ]
    },
    {
     "name": "stdout",
     "output_type": "stream",
     "text": [
      "Train Loss: 0.9075, Train Accuracy: 0.9008\n"
     ]
    },
    {
     "name": "stderr",
     "output_type": "stream",
     "text": [
      "Validation: 100%|██████████| 10/10 [00:04<00:00,  2.00it/s]\n"
     ]
    },
    {
     "name": "stdout",
     "output_type": "stream",
     "text": [
      "Val Loss: 1.1563, Val Accuracy: 0.8625\n",
      "Epoch 67\n"
     ]
    },
    {
     "name": "stderr",
     "output_type": "stream",
     "text": [
      "Training: 100%|██████████| 44/44 [00:35<00:00,  1.25it/s]\n"
     ]
    },
    {
     "name": "stdout",
     "output_type": "stream",
     "text": [
      "Train Loss: 0.9073, Train Accuracy: 0.9011\n"
     ]
    },
    {
     "name": "stderr",
     "output_type": "stream",
     "text": [
      "Validation: 100%|██████████| 10/10 [00:05<00:00,  1.98it/s]\n"
     ]
    },
    {
     "name": "stdout",
     "output_type": "stream",
     "text": [
      "Val Loss: 1.1469, Val Accuracy: 0.8561\n",
      "Epoch 68\n"
     ]
    },
    {
     "name": "stderr",
     "output_type": "stream",
     "text": [
      "Training: 100%|██████████| 44/44 [00:35<00:00,  1.23it/s]\n"
     ]
    },
    {
     "name": "stdout",
     "output_type": "stream",
     "text": [
      "Train Loss: 0.9060, Train Accuracy: 0.9010\n"
     ]
    },
    {
     "name": "stderr",
     "output_type": "stream",
     "text": [
      "Validation: 100%|██████████| 10/10 [00:05<00:00,  1.88it/s]\n"
     ]
    },
    {
     "name": "stdout",
     "output_type": "stream",
     "text": [
      "Val Loss: 1.1469, Val Accuracy: 0.8593\n",
      "Epoch 69\n"
     ]
    },
    {
     "name": "stderr",
     "output_type": "stream",
     "text": [
      "Training: 100%|██████████| 44/44 [00:34<00:00,  1.27it/s]\n"
     ]
    },
    {
     "name": "stdout",
     "output_type": "stream",
     "text": [
      "Train Loss: 0.9014, Train Accuracy: 0.9026\n"
     ]
    },
    {
     "name": "stderr",
     "output_type": "stream",
     "text": [
      "Validation: 100%|██████████| 10/10 [00:05<00:00,  1.83it/s]\n"
     ]
    },
    {
     "name": "stdout",
     "output_type": "stream",
     "text": [
      "Val Loss: 1.1351, Val Accuracy: 0.8590\n",
      "Epoch 70\n"
     ]
    },
    {
     "name": "stderr",
     "output_type": "stream",
     "text": [
      "Training: 100%|██████████| 44/44 [00:34<00:00,  1.28it/s]\n"
     ]
    },
    {
     "name": "stdout",
     "output_type": "stream",
     "text": [
      "Train Loss: 0.8956, Train Accuracy: 0.9039\n"
     ]
    },
    {
     "name": "stderr",
     "output_type": "stream",
     "text": [
      "Validation: 100%|██████████| 10/10 [00:05<00:00,  1.93it/s]\n"
     ]
    },
    {
     "name": "stdout",
     "output_type": "stream",
     "text": [
      "Val Loss: 1.1300, Val Accuracy: 0.8604\n",
      "Epoch 71\n"
     ]
    },
    {
     "name": "stderr",
     "output_type": "stream",
     "text": [
      "Training: 100%|██████████| 44/44 [00:36<00:00,  1.21it/s]\n"
     ]
    },
    {
     "name": "stdout",
     "output_type": "stream",
     "text": [
      "Train Loss: 0.8865, Train Accuracy: 0.9055\n"
     ]
    },
    {
     "name": "stderr",
     "output_type": "stream",
     "text": [
      "Validation: 100%|██████████| 10/10 [00:05<00:00,  1.88it/s]\n"
     ]
    },
    {
     "name": "stdout",
     "output_type": "stream",
     "text": [
      "Val Loss: 1.1489, Val Accuracy: 0.8568\n",
      "Epoch 72\n"
     ]
    },
    {
     "name": "stderr",
     "output_type": "stream",
     "text": [
      "Training: 100%|██████████| 44/44 [00:30<00:00,  1.42it/s]\n"
     ]
    },
    {
     "name": "stdout",
     "output_type": "stream",
     "text": [
      "Train Loss: 0.8835, Train Accuracy: 0.9065\n"
     ]
    },
    {
     "name": "stderr",
     "output_type": "stream",
     "text": [
      "Validation: 100%|██████████| 10/10 [00:04<00:00,  2.07it/s]\n"
     ]
    },
    {
     "name": "stdout",
     "output_type": "stream",
     "text": [
      "Val Loss: 1.1588, Val Accuracy: 0.8596\n",
      "Epoch 73\n"
     ]
    },
    {
     "name": "stderr",
     "output_type": "stream",
     "text": [
      "Training: 100%|██████████| 44/44 [00:34<00:00,  1.28it/s]\n"
     ]
    },
    {
     "name": "stdout",
     "output_type": "stream",
     "text": [
      "Train Loss: 0.8735, Train Accuracy: 0.9092\n"
     ]
    },
    {
     "name": "stderr",
     "output_type": "stream",
     "text": [
      "Validation: 100%|██████████| 10/10 [00:05<00:00,  1.74it/s]\n"
     ]
    },
    {
     "name": "stdout",
     "output_type": "stream",
     "text": [
      "Val Loss: 1.1636, Val Accuracy: 0.8615\n",
      "Epoch 74\n"
     ]
    },
    {
     "name": "stderr",
     "output_type": "stream",
     "text": [
      "Training: 100%|██████████| 44/44 [00:33<00:00,  1.31it/s]\n"
     ]
    },
    {
     "name": "stdout",
     "output_type": "stream",
     "text": [
      "Train Loss: 0.8862, Train Accuracy: 0.9056\n"
     ]
    },
    {
     "name": "stderr",
     "output_type": "stream",
     "text": [
      "Validation: 100%|██████████| 10/10 [00:04<00:00,  2.24it/s]\n"
     ]
    },
    {
     "name": "stdout",
     "output_type": "stream",
     "text": [
      "Val Loss: 1.1574, Val Accuracy: 0.8582\n",
      "Epoch 75\n"
     ]
    },
    {
     "name": "stderr",
     "output_type": "stream",
     "text": [
      "Training: 100%|██████████| 44/44 [00:30<00:00,  1.46it/s]\n"
     ]
    },
    {
     "name": "stdout",
     "output_type": "stream",
     "text": [
      "Train Loss: 0.8715, Train Accuracy: 0.9089\n"
     ]
    },
    {
     "name": "stderr",
     "output_type": "stream",
     "text": [
      "Validation: 100%|██████████| 10/10 [00:04<00:00,  2.32it/s]\n"
     ]
    },
    {
     "name": "stdout",
     "output_type": "stream",
     "text": [
      "Val Loss: 1.1669, Val Accuracy: 0.8602\n",
      "Epoch 76\n"
     ]
    },
    {
     "name": "stderr",
     "output_type": "stream",
     "text": [
      "Training: 100%|██████████| 44/44 [00:32<00:00,  1.36it/s]\n"
     ]
    },
    {
     "name": "stdout",
     "output_type": "stream",
     "text": [
      "Train Loss: 0.8688, Train Accuracy: 0.9109\n"
     ]
    },
    {
     "name": "stderr",
     "output_type": "stream",
     "text": [
      "Validation: 100%|██████████| 10/10 [00:05<00:00,  1.84it/s]\n"
     ]
    },
    {
     "name": "stdout",
     "output_type": "stream",
     "text": [
      "Val Loss: 1.1485, Val Accuracy: 0.8592\n",
      "Epoch 77\n"
     ]
    },
    {
     "name": "stderr",
     "output_type": "stream",
     "text": [
      "Training: 100%|██████████| 44/44 [00:34<00:00,  1.27it/s]\n"
     ]
    },
    {
     "name": "stdout",
     "output_type": "stream",
     "text": [
      "Train Loss: 0.8686, Train Accuracy: 0.9104\n"
     ]
    },
    {
     "name": "stderr",
     "output_type": "stream",
     "text": [
      "Validation: 100%|██████████| 10/10 [00:06<00:00,  1.61it/s]\n"
     ]
    },
    {
     "name": "stdout",
     "output_type": "stream",
     "text": [
      "Val Loss: 1.1571, Val Accuracy: 0.8590\n",
      "Epoch 78\n"
     ]
    },
    {
     "name": "stderr",
     "output_type": "stream",
     "text": [
      "Training: 100%|██████████| 44/44 [00:32<00:00,  1.33it/s]\n"
     ]
    },
    {
     "name": "stdout",
     "output_type": "stream",
     "text": [
      "Train Loss: 0.8713, Train Accuracy: 0.9104\n"
     ]
    },
    {
     "name": "stderr",
     "output_type": "stream",
     "text": [
      "Validation: 100%|██████████| 10/10 [00:04<00:00,  2.47it/s]\n"
     ]
    },
    {
     "name": "stdout",
     "output_type": "stream",
     "text": [
      "Val Loss: 1.2243, Val Accuracy: 0.8590\n",
      "Epoch 79\n"
     ]
    },
    {
     "name": "stderr",
     "output_type": "stream",
     "text": [
      "Training: 100%|██████████| 44/44 [01:38<00:00,  2.24s/it]\n"
     ]
    },
    {
     "name": "stdout",
     "output_type": "stream",
     "text": [
      "Train Loss: 0.8644, Train Accuracy: 0.9123\n"
     ]
    },
    {
     "name": "stderr",
     "output_type": "stream",
     "text": [
      "Validation: 100%|██████████| 10/10 [00:02<00:00,  3.45it/s]\n"
     ]
    },
    {
     "name": "stdout",
     "output_type": "stream",
     "text": [
      "Val Loss: 1.1591, Val Accuracy: 0.8605\n",
      "Epoch 80\n"
     ]
    },
    {
     "name": "stderr",
     "output_type": "stream",
     "text": [
      "Training: 100%|██████████| 44/44 [00:21<00:00,  2.08it/s]\n"
     ]
    },
    {
     "name": "stdout",
     "output_type": "stream",
     "text": [
      "Train Loss: 0.8568, Train Accuracy: 0.9125\n"
     ]
    },
    {
     "name": "stderr",
     "output_type": "stream",
     "text": [
      "Validation: 100%|██████████| 10/10 [00:02<00:00,  3.45it/s]\n"
     ]
    },
    {
     "name": "stdout",
     "output_type": "stream",
     "text": [
      "Val Loss: 1.1772, Val Accuracy: 0.8584\n",
      "\n",
      "✅ Best model saved at epoch 66 with 0.86 val accuracy.\n",
      "finished training\n"
     ]
    }
   ],
   "source": [
    "log_pth = r\"logs\"\n",
    "log_files = [f for f in os.listdir(log_pth) if f.startswith(\"log\") and f.endswith(\"csv\")]\n",
    "if not log_files:\n",
    "    log_filename = \"log_1.csv\"\n",
    "else:\n",
    "    log_max_suffix = max([int(f.split('_')[-1].split('.')[0]) for f in log_files])\n",
    "    log_filename = f\"log_{log_max_suffix + 1}.csv\"\n",
    "log_save_path = os.path.join(log_pth, log_filename)\n",
    "\n",
    "\n",
    "train_losses, val_losses = [], []\n",
    "train_accuracies, val_accuracies = [], []\n",
    "\n",
    "best_accuracy = 0.0\n",
    "best_epoch = 0\n",
    "best_model_weights = None\n",
    "\n",
    "with open(log_save_path, 'w') as csvfile:\n",
    "    csvfile.write(f'Best Validation Accuracy:\\t\\n')\n",
    "    csvfile.write(f'Test Accuracy:\\t\\n')\n",
    "    csvfile.write(f'Inference Speed:\\t\\n')\n",
    "    csvfile.write(f'Epoch\\tloss_t\\taccuracy_t\\tloss_v\\taccuracy_v\\n')\n",
    "\n",
    "print(\"Start Training...\")\n",
    "\n",
    "num_epochs = 80\n",
    "\n",
    "for epoch in range(num_epochs):\n",
    "    \n",
    "    print(f\"Epoch {epoch + 1}\")\n",
    "\n",
    "    model.train()\n",
    "    train_loss, train_preds, train_labels = 0.0, [], []\n",
    "\n",
    "\n",
    "    for images, masks in tqdm(train_loader, desc=f\"Training\"):\n",
    "        images = images.to(device)\n",
    "        masks = masks.to(device).squeeze(1).long()\n",
    "\n",
    "        outputs = model(images)\n",
    "        loss = criterion(outputs, masks, weight_ce=1.0, weight_dice=1.0, weight_edge=0.6)\n",
    "        train_loss += loss.item()\n",
    "\n",
    "        optimizer.zero_grad()\n",
    "        loss.backward()\n",
    "        optimizer.step()\n",
    "\n",
    "        preds = torch.argmax(outputs, dim=1)  # <--- DÜZELTİLEN KISIM\n",
    "        train_preds.extend(preds.cpu().numpy())\n",
    "        train_labels.extend(masks.cpu().numpy())\n",
    "    \n",
    "    # Train accuracy hesapla\n",
    "    train_acc = accuracy_score(\n",
    "        np.array(train_labels).flatten(),\n",
    "        np.array(train_preds).flatten()\n",
    "    )\n",
    "    avg_train_loss = train_loss / len(train_loader)\n",
    "    train_losses.append(avg_train_loss)\n",
    "    train_accuracies.append(train_acc)\n",
    "\n",
    "    print(f\"Train Loss: {avg_train_loss:.4f}, Train Accuracy: {train_acc:.4f}\")\n",
    "\n",
    "    ### -------- VALIDATION --------\n",
    "    model.eval()\n",
    "    val_loss, val_preds, val_labels = 0.0, [], []\n",
    "\n",
    "    with torch.no_grad():\n",
    "        for images, masks in tqdm(val_loader, desc=f\"Validation\"):\n",
    "            images = images.to(device)\n",
    "            masks = masks.to(device)\n",
    "\n",
    "            if masks.dim() == 4 and masks.size(1) == 1:\n",
    "                masks = masks.squeeze(1)\n",
    "            masks = masks.long()\n",
    "\n",
    "            outputs = model(images)\n",
    "            loss = criterion(outputs, masks)\n",
    "\n",
    "            val_loss += loss.item()\n",
    "            \n",
    "\n",
    "            preds = torch.argmax(outputs, dim=1)\n",
    "            val_preds.extend(preds.cpu().numpy())\n",
    "            val_labels.extend(masks.cpu().numpy())\n",
    "\n",
    "    avg_val_loss = val_loss / len(val_loader)\n",
    "    \n",
    "    val_accuracy = accuracy_score(\n",
    "        np.array(val_labels).flatten(),\n",
    "        np.array(val_preds).flatten()\n",
    "    )\n",
    "\n",
    "    val_losses.append(avg_val_loss)\n",
    "    val_accuracies.append(val_accuracy)\n",
    "\n",
    "    print(f\"Val Loss: {avg_val_loss:.4f}, Val Accuracy: {val_accuracy:.4f}\")\n",
    "\n",
    "    ### -------- LOG FILE --------\n",
    "    with open(log_save_path, 'a') as csvfile:\n",
    "        csvfile.write(f\"{epoch + 1}\\t{avg_train_loss:.4f}\\t{train_acc:.4f}\\t{avg_val_loss:.4f}\\t{val_accuracy:.4f}\\n\")\n",
    "\n",
    "    ### -------- BEST MODEL KAYDET --------\n",
    "    if val_accuracy > best_accuracy:\n",
    "        best_accuracy = val_accuracy\n",
    "        best_epoch = epoch + 1\n",
    "        best_model_weights = model.state_dict()\n",
    "\n",
    "# Eğitim sonrası en iyi modeli kaydet\n",
    "if best_model_weights is not None:\n",
    "    model_save_path = os.path.join(save_pth, model_filename)\n",
    "    torch.save(best_model_weights, model_save_path)\n",
    "    print(f\"\\n✅ Best model saved at epoch {best_epoch} with {best_accuracy:.2f} val accuracy.\")\n",
    "    \n",
    "    \n",
    "print(\"finished training\")\n",
    "\n",
    "##loss\n",
    "plt.figure(figsize=(12, 6))\n",
    "plt.plot(range(1, len(train_losses) + 1), train_losses, label='Train Loss')\n",
    "plt.plot(range(1, len(val_losses) + 1), val_losses, label='Validation Loss')\n",
    "plt.xlabel('Epoch')\n",
    "plt.ylabel('Loss')\n",
    "plt.legend()\n",
    "plt.title('Training and Validation Loss')\n",
    "plt.savefig(graphic_save_path, format='png')\n",
    "plt.close()\n",
    "##accuracy\n",
    "plt.figure(figsize=(12, 6))\n",
    "plt.plot(range(1, len(train_accuracies) + 1), train_accuracies, label='Train Accuracy')\n",
    "plt.plot(range(1, len(val_accuracies) + 1), val_accuracies, label='Validation Accuracy')\n",
    "plt.xlabel('Epoch')\n",
    "plt.ylabel('Accuracy')\n",
    "plt.legend()\n",
    "plt.title('Training and Validation Accuracy')\n",
    "plt.savefig(graphic_save_path, format='png')\n",
    "plt.close()"
   ]
  },
  {
   "cell_type": "code",
   "execution_count": 130,
   "id": "6afa95bdce38f42b",
   "metadata": {
    "ExecuteTime": {
     "end_time": "2025-05-23T22:18:07.681450Z",
     "start_time": "2025-05-23T22:17:39.268465Z"
    }
   },
   "outputs": [
    {
     "name": "stderr",
     "output_type": "stream",
     "text": [
      "Clipping input data to the valid range for imshow with RGB data ([0..1] for floats or [0..255] for integers). Got range [-1.0..1.0].\n"
     ]
    },
    {
     "data": {
      "image/png": "[encoded data removed]",
      "text/plain": [
       "<Figure size 1200x600 with 2 Axes>"
      ]
     },
     "metadata": {},
     "output_type": "display_data"
    },
    {
     "name": "stdout",
     "output_type": "stream",
     "text": [
      "Test Accuracy: 0.90%\n",
      "Inference Speed: 11.33 samples/sec\n"
     ]
    }
   ],
   "source": [
    "\n",
    "model=UNet(3,59)\n",
    "device = torch.device(\"cpu\")\n",
    "model.to(device)\n",
    "## model load\n",
    "model.load_state_dict(torch.load(os.path.join(save_pth, \"unet_model_20.pth\"),weights_only=True))\n",
    "model.eval()\n",
    "\n",
    "conf_pth =r\"graphics\"\n",
    "conf_files = [s for s in os.listdir(conf_pth) if s.startswith(\"unet_conf\")and s.endswith(\"png\")]\n",
    "if not conf_files:\n",
    "    conf_filename = \"unet_conf_1.png\"\n",
    "else:\n",
    "    conf_max_suffix = max([int(s.split('_')[-1].split('.')[0]) for s in conf_files])\n",
    "    conf_filename = f\"unet_conf_{conf_max_suffix + 1}.png\"\n",
    "conf_save_path = os.path.join(conf_pth, conf_filename)\n",
    "\n",
    "\n",
    "total_pixels = 0\n",
    "correct_pixels = 0\n",
    "inference_times = []\n",
    "\n",
    "with torch.no_grad():\n",
    "    for idx, (image, mask) in enumerate(test_loader):\n",
    "        image = image.to(device)\n",
    "        mask = mask.to(device)\n",
    "\n",
    "        start_time = time.time()\n",
    "        output = model(image)\n",
    "        end_time = time.time()\n",
    "\n",
    "        inference_time = end_time - start_time\n",
    "        inference_times.append(inference_time)\n",
    "\n",
    "        pred = torch.argmax(output, dim=1)  # shape: [1, H, W]\n",
    "\n",
    "        # Accuracy\n",
    "        correct = (pred == mask).sum().item()\n",
    "        total = torch.numel(mask)\n",
    "\n",
    "        correct_pixels += correct\n",
    "        total_pixels += total\n",
    "\n",
    "        if idx == 0:\n",
    "            img_np = image[0].cpu()\n",
    "            if img_np.shape[0] == 3:\n",
    "                img_np = img_np.permute(1, 2, 0)  # (C, H, W) -> (H, W, C)\n",
    "            mask_np = pred[0].cpu().numpy()\n",
    "\n",
    "            plt.figure(figsize=(12, 6))\n",
    "            plt.subplot(1, 2, 1)\n",
    "            plt.imshow(img_np.numpy())\n",
    "            plt.title(\"Input Image\")\n",
    "\n",
    "            plt.subplot(1, 2, 2)\n",
    "            plt.imshow(mask_np, cmap=\"nipy_spectral\", vmin=0, vmax=58)\n",
    "            plt.title(\"Predicted Mask\")\n",
    "            plt.show()\n",
    "\n",
    "\n",
    "test_accuracy = correct_pixels / total_pixels\n",
    "\n",
    "inference_start_time = time.time()\n",
    "with torch.no_grad():\n",
    "    for inputs, _ in test_loader:\n",
    "        _ = model(inputs)\n",
    "inference_end_time = time.time()\n",
    "\n",
    "num_samples = len(test_loader.dataset)\n",
    "inference_speed = num_samples / (inference_end_time - inference_start_time)\n",
    "\n",
    "with open(\"logs/log_25.csv\", 'r') as csvfile:\n",
    "    lines = csvfile.readlines()\n",
    "\n",
    "lines[0] = f'Best Validation Accuracy:\\t{best_accuracy:.2f}% at Epoch {best_epoch}\\n'\n",
    "lines[1] = f'Test Accuracy:\\t{test_accuracy:.2f}%\\n'\n",
    "lines[2] = f'Inference Speed:\\t{inference_speed:.2f} samples/sec\\n'\n",
    "\n",
    "with open(\"logs/log_25.csv\", 'w') as csvfile:\n",
    "    csvfile.writelines(lines)\n",
    "\n",
    "print(f\"Test Accuracy: {test_accuracy:.2f}%\")\n",
    "print(f\"Inference Speed: {inference_speed:.2f} samples/sec\")"
   ]
  },
  {
   "cell_type": "markdown",
   "id": "20dfcc3eb9fdbc3f",
   "metadata": {
    "ExecuteTime": {
     "end_time": "2025-05-25T11:12:55.032178Z",
     "start_time": "2025-05-25T11:12:51.854485Z"
    }
   },
   "source": [
    "import torch\n",
    "import cv2\n",
    "import numpy as np\n",
    "from PIL import Image\n",
    "from torchvision import transforms\n",
    "import matplotlib.pyplot as plt\n",
    "import mediapipe as mp\n",
    "from model import UNet\n",
    "# ------------------------\n",
    "# Mediapipe POSE Tahmin\n",
    "# ------------------------\n",
    "\n",
    "def visualize_keypoints(image, keypoints, point_names=None):\n",
    "    image_copy = image.copy()\n",
    "    important_indices = [11, 12, 23, 24]  # LS, RS, LH, RH    \n",
    "    colors = [(255, 0, 0), (0, 255, 0), (0, 0, 255), (0, 255, 255)]\n",
    "    names = ['LS', 'RS', 'LH', 'RH'] if point_names is None else point_names\n",
    "\n",
    "    for idx, color, name in zip(important_indices, colors, names):\n",
    "        x, y = int(keypoints[idx][0]), int(keypoints[idx][1])\n",
    "        cv2.circle(image_copy, (x, y), 8, color, -1)\n",
    "        cv2.putText(image_copy, name, (x + 5, y - 5), cv2.FONT_HERSHEY_SIMPLEX, 0.5, color, 1)\n",
    "\n",
    "    return image_copy\n",
    "\n",
    "class PoseEstimator:\n",
    "    def __init__(self):\n",
    "        self.mp_pose = mp.solutions.pose\n",
    "        self.pose = self.mp_pose.Pose(static_image_mode=True)\n",
    "        self.mp_drawing = mp.solutions.drawing_utils\n",
    "\n",
    "    def get_keypoints(self, image):\n",
    "        image_rgb = cv2.cvtColor(image, cv2.COLOR_BGR2RGB)\n",
    "        results = self.pose.process(image_rgb)\n",
    "        if not results.pose_landmarks:\n",
    "            return None\n",
    "        h, w, _ = image.shape\n",
    "        keypoints = []\n",
    "        for lm in results.pose_landmarks.landmark:\n",
    "            keypoints.append([int(lm.x * w), int(lm.y * h), lm.visibility])\n",
    "        return np.array(keypoints)\n",
    "\n",
    "    def draw_pose(self, image, landmarks=None):\n",
    "        if landmarks is None:\n",
    "            landmarks = self.pose.process(cv2.cvtColor(image, cv2.COLOR_BGR2RGB)).pose_landmarks\n",
    "        if landmarks:\n",
    "            self.mp_drawing.draw_landmarks(image, landmarks, self.mp_pose.POSE_CONNECTIONS)\n",
    "        return image\n",
    "\n",
    "# ------------------------\n",
    "# Yardımcı Fonksiyonlar\n",
    "# ------------------------\n",
    "\n",
    "def segment_cloth(image_pil, model, device):\n",
    "    image = cv2.cvtColor(np.array(image_pil), cv2.COLOR_RGB2BGR)\n",
    "    image_resized = cv2.resize(image, (256, 256))\n",
    "    image_rgb = cv2.cvtColor(image_resized, cv2.COLOR_BGR2RGB)\n",
    "    image_tensor = torch.from_numpy(image_rgb).permute(2, 0, 1).float() / 255.0\n",
    "    input_tensor = image_tensor.unsqueeze(0).to(device)\n",
    "\n",
    "    with torch.no_grad():\n",
    "        output = model(input_tensor)  # [1, 59, H, W]\n",
    "        mask = torch.argmax(output[0], dim=0).cpu().numpy()\n",
    "\n",
    "    unique, counts = np.unique(mask, return_counts=True)\n",
    "    class_freq = dict(zip(unique, counts))\n",
    "    class_freq.pop(0, None)\n",
    "\n",
    "    if not class_freq:\n",
    "        dominant_class = 0\n",
    "    else:\n",
    "        dominant_class = max(class_freq, key=class_freq.get)\n",
    "\n",
    "    print(\"Seçilen dominant sınıf:\", dominant_class)\n",
    "\n",
    "\n",
    "    binary_mask = np.where(mask == dominant_class, 255, 0).astype(np.uint8)\n",
    "\n",
    "    # Maske düzeltme\n",
    "    kernel = np.ones((5, 5), np.uint8)\n",
    "    mask_dilated = cv2.dilate(binary_mask, kernel, iterations=5)\n",
    "    num_labels, labels, stats, _ = cv2.connectedComponentsWithStats(mask_dilated, connectivity=8)\n",
    "    largest_component = 1 + np.argmax(stats[1:, cv2.CC_STAT_AREA])\n",
    "    mask_clean = np.where(labels == largest_component, 255, 0).astype(np.uint8)\n",
    "\n",
    "    return mask_clean\n",
    "\n",
    "# ------------------------\n",
    "# Warping Fonksiyonu\n",
    "# ------------------------\n",
    "def overlay(person_img, warped_clothes, warped_mask):\n",
    "    if warped_mask.ndim == 3:\n",
    "        warped_mask = cv2.cvtColor(warped_mask, cv2.COLOR_BGR2GRAY)\n",
    "\n",
    "    mask_bin = (warped_mask > 0).astype(np.uint8) * 255\n",
    "    inv_mask = cv2.bitwise_not(mask_bin)\n",
    "\n",
    "    person_part = cv2.bitwise_and(person_img, person_img, mask=inv_mask)\n",
    "    clothes_part = cv2.bitwise_and(warped_clothes, warped_clothes, mask=mask_bin)\n",
    "\n",
    "    result = cv2.add(person_part, clothes_part)\n",
    "\n",
    "\n",
    "    return result\n",
    "\n",
    "\n",
    "def warp_clothes_perspective(clothes_img, mask, keypoints, person_img, widen_ratio=0.5):\n",
    "    # Omuz ve kalça noktaları\n",
    "    LS = np.array(keypoints[11][:2], dtype=np.float32)\n",
    "    RS = np.array(keypoints[12][:2], dtype=np.float32)\n",
    "    LH = np.array(keypoints[23][:2], dtype=np.float32)\n",
    "    RH = np.array(keypoints[24][:2], dtype=np.float32)\n",
    "\n",
    "    # Omuzlar arası vektör ve genişletme\n",
    "    shoulder_vec = RS - LS\n",
    "    hip_vec = RH - LH\n",
    "\n",
    "    # Vektörün normu kadar orantılı dışa kaydır\n",
    "    shoulder_extend = shoulder_vec * widen_ratio\n",
    "    hip_extend = hip_vec * widen_ratio\n",
    "\n",
    "    # Genişletilmiş hedef noktalar\n",
    "    LS_wide = LS - shoulder_extend\n",
    "    RS_wide = RS + shoulder_extend\n",
    "    LH_wide = LH - hip_extend\n",
    "    RH_wide = RH + hip_extend\n",
    "\n",
    "    dst_pts = np.array([LS_wide, RS_wide, RH_wide, LH_wide], dtype=np.float32)\n",
    "\n",
    "    # Maske bounding box 4 köşesi (kaynak noktalar)\n",
    "    ys, xs = np.where(mask > 0)\n",
    "    if len(xs) == 0 or len(ys) == 0:\n",
    "        print(\"⚠️ Maske boş olabilir.\")\n",
    "        return person_img\n",
    "    x, y, w, h = cv2.boundingRect(np.stack([xs, ys], axis=1))\n",
    "    src_pts = np.array([\n",
    "        [x,     y    ],\n",
    "        [x + w, y    ],\n",
    "        [x + w, y + h],\n",
    "        [x,     y + h]\n",
    "    ], dtype=np.float32)\n",
    "\n",
    "    # Perspective dönüşüm\n",
    "    M = cv2.getPerspectiveTransform(src_pts, dst_pts)\n",
    "    Hp, Wp = person_img.shape[:2]\n",
    "    warped_clothes = cv2.warpPerspective(clothes_img, M, (Wp, Hp), flags=cv2.INTER_LINEAR)\n",
    "    warped_mask = cv2.warpPerspective(mask, M, (Wp, Hp), flags=cv2.INTER_NEAREST)\n",
    "    warped_mask = (warped_mask > 0).astype(np.uint8) * 255\n",
    "\n",
    "    result = overlay(person_img, warped_clothes, warped_mask)\n",
    "    return result\n",
    "\n",
    "\n",
    "model = UNet(3, 59)\n",
    "device = torch.device(\"cuda\" if torch.cuda.is_available() else \"cpu\")\n",
    "model.load_state_dict(torch.load(\"models/unet_model_2.pth\",map_location=device))\n",
    "model.to(device)\n",
    "model.eval()\n",
    "pose_estimator = PoseEstimator()\n",
    "\n",
    "source_image_path = \"tişört2.jpg\"       # Kıyafet resmi\n",
    "target_image_path = \"denenecek.jpg\"   # Kişi resmi\n",
    "\n",
    "# Kıyafet resmi\n",
    "source_pil = Image.open(source_image_path).convert(\"RGB\")\n",
    "mask = segment_cloth(source_pil, model, device)\n",
    "\n",
    "source_np = cv2.resize(np.array(source_pil), (256, 256))  # RGB formatta geliyor\n",
    "source_np = cv2.cvtColor(source_np, cv2.COLOR_RGB2BGR)     # BGR çevir\n",
    "mask = cv2.resize(mask, (256, 256))                        # Maskeyi eşle\n",
    "clothing = cv2.bitwise_and(source_np, source_np, mask=mask)\n",
    "\n",
    "# Kişi resmi\n",
    "target_pil = Image.open(target_image_path).convert(\"RGB\")\n",
    "target_np = np.array(target_pil)\n",
    "target_np = cv2.cvtColor(target_np, cv2.COLOR_RGB2BGR)\n",
    "\n",
    "# 🔍 Keypoint çıkarımı\n",
    "keypoints = pose_estimator.get_keypoints(target_np)\n",
    "\n",
    "# (Opsiyonel) Anahtar noktaları görselleştir\n",
    "target_with_points = visualize_keypoints(target_np.copy(), keypoints)\n",
    "\n",
    "# 👕 Giydirme işlemi\n",
    "if keypoints is not None:\n",
    "    giydirilmis = warp_clothes_perspective(clothing, mask, keypoints, target_np)\n",
    "else:\n",
    "    print(\"⚠️ Anahtar noktalar alınamadı, varsayılan giydirme yapılacak.\")\n",
    "    alpha = mask.astype(float) / 255.0\n",
    "    alpha = np.stack([alpha]*3, axis=-1)\n",
    "    giydirilmis = (alpha * clothing + (1 - alpha) * target_np).astype(np.uint8)\n",
    "\n",
    "# ------------------------\n",
    "# Gösterim\n",
    "# ------------------------\n",
    "plt.figure(figsize=(14, 5))\n",
    "\n",
    "plt.subplot(1, 4, 1)\n",
    "plt.title(\"Kaynak (Kıyafet)\")\n",
    "plt.imshow(cv2.cvtColor(source_np, cv2.COLOR_BGR2RGB))\n",
    "plt.axis('off')\n",
    "\n",
    "plt.subplot(1, 4, 2)\n",
    "plt.title(\"Hedef (Kişi)\")\n",
    "plt.imshow(cv2.cvtColor(target_np, cv2.COLOR_BGR2RGB))\n",
    "plt.axis('off')\n",
    "\n",
    "plt.subplot(1, 4, 3)\n",
    "plt.title(\"Anahtar Noktalar\")\n",
    "plt.imshow(cv2.cvtColor(target_with_points, cv2.COLOR_BGR2RGB))\n",
    "plt.axis('off')\n",
    "\n",
    "plt.subplot(1, 4, 4)\n",
    "plt.title(\"Giydirilmiş\")\n",
    "plt.imshow(cv2.cvtColor(giydirilmis, cv2.COLOR_BGR2RGB))\n",
    "plt.axis('off')\n",
    "\n",
    "plt.tight_layout()\n",
    "plt.show()\n"
   ]
  },
  {
   "cell_type": "code",
   "execution_count": null,
   "id": "deee99b2",
   "metadata": {},
   "outputs": [],
   "source": []
  },
  {
   "cell_type": "code",
   "execution_count": null,
   "id": "4c1082e3",
   "metadata": {},
   "outputs": [],
   "source": [
    "import cv2\n",
    "import numpy as np\n",
    "import torch\n",
    "from posetespiti import PoseEstimator\n",
    "from segmentasyon import load_model, segment_cloth\n",
    "from kıyafetigiydir import warp_clothes, overlay\n",
    "\n",
    "def apply_mask(image, mask):\n",
    "    return cv2.bitwise_and(image, image, mask=mask)\n",
    "\n",
    "def run_virtual_tryon_auto(person_img_path, clothes_img_path, unet_model_path,output_path):\n",
    "    device = torch.device('cuda' if torch.cuda.is_available() else 'cpu')\n",
    "\n",
    "    # Görselleri oku\n",
    "    person_img = cv2.imread(person_img_path)\n",
    "    clothes_img = cv2.imread(clothes_img_path)\n",
    "\n",
    "    if person_img is None or clothes_img is None:\n",
    "        raise ValueError(\"Görseller yüklenemedi. Dosya yolları doğru mu?\")\n",
    "\n",
    "    # Segmentasyon modeli yükle\n",
    "    unet_model = load_model(unet_model_path, device)\n",
    "    binary_mask = segment_cloth(clothes_img, unet_model, device)\n",
    "    segmented_clothes = apply_mask(clothes_img, binary_mask)\n",
    "\n",
    "    # Poz tahmini\n",
    "    pose_estimator = PoseEstimator()\n",
    "    keypoints = pose_estimator.get_keypoints(person_img)\n",
    "\n",
    "    # Giydirme işlemi\n",
    "    if keypoints is not None:\n",
    "        try:\n",
    "            warped_clothes, warped_mask = warp_clothes(\n",
    "                segmented_clothes,\n",
    "                binary_mask,\n",
    "                keypoints,\n",
    "                person_img,\n",
    "                widen_ratio=0.3  # isteğe bağlı\n",
    "            )\n",
    "            result = overlay(person_img, warped_clothes, warped_mask)\n",
    "        except Exception as e:\n",
    "            print(\"⚠️ Warp sırasında hata:\", e)\n",
    "            result = blended_fallback(person_img, segmented_clothes, binary_mask)\n",
    "            \n",
    "    else:\n",
    "        print(\"⚠️ Anahtar noktalar bulunamadı. Fallback blending uygulanıyor.\")\n",
    "        result = blended_fallback(person_img, segmented_clothes, binary_mask)\n",
    "\n",
    "    return result\n",
    "\n",
    "def blended_fallback(person_img, clothing_img, mask):\n",
    "    alpha = mask.astype(float) / 255.0\n",
    "    alpha = np.stack([alpha] * 3, axis=-1)\n",
    "    blended = (alpha * clothing_img + (1 - alpha) * person_img).astype(np.uint8)\n",
    "    return blended\n"
   ]
  }
 ],
 "metadata": {
  "kernelspec": {
   "display_name": "Python 3",
   "language": "python",
   "name": "python3"
  },
  "language_info": {
   "codemirror_mode": {
    "name": "ipython",
    "version": 3
   },
   "file_extension": ".py",
   "mimetype": "text/x-python",
   "name": "python",
   "nbconvert_exporter": "python",
   "pygments_lexer": "ipython3",
   "version": "3.9.0"
  }
 },
 "nbformat": 4,
 "nbformat_minor": 5
}
